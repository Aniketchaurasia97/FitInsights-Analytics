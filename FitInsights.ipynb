{
 "cells": [
  {
   "cell_type": "markdown",
   "id": "4ab2a3c5-ffb6-4e6c-9cd6-7387d86bd7cc",
   "metadata": {
    "id": "4ab2a3c5-ffb6-4e6c-9cd6-7387d86bd7cc"
   },
   "source": [
    "# Fitinsights Data Analytics"
   ]
  },
  {
   "cell_type": "markdown",
   "id": "ca7fc38f-bb50-4283-b9df-d30f17519b28",
   "metadata": {
    "id": "ca7fc38f-bb50-4283-b9df-d30f17519b28"
   },
   "source": [
    "> Reading Data from CSV"
   ]
  },
  {
   "cell_type": "code",
   "execution_count": 13,
   "id": "289e4fa3-0861-47b4-9595-9ac9a86107e5",
   "metadata": {
    "id": "289e4fa3-0861-47b4-9595-9ac9a86107e5"
   },
   "outputs": [],
   "source": [
    "import numpy as np\n",
    "import pandas as pd\n",
    "import seaborn as sns\n",
    "import matplotlib.pyplot as plt"
   ]
  },
  {
   "cell_type": "code",
   "execution_count": 14,
   "id": "3fcd3fd1-1b37-45ae-8eea-2a0e24370ea0",
   "metadata": {
    "id": "3fcd3fd1-1b37-45ae-8eea-2a0e24370ea0"
   },
   "outputs": [],
   "source": [
    "data_url=\"https://raw.githubusercontent.com/karmveershubham/FitInsights/refs/heads/main/tracker_data.csv\""
   ]
  },
  {
   "cell_type": "code",
   "execution_count": 15,
   "id": "d60885c3-5db2-4142-a8a2-8fc4db326017",
   "metadata": {
    "colab": {
     "base_uri": "https://localhost:8080/",
     "height": 206
    },
    "id": "d60885c3-5db2-4142-a8a2-8fc4db326017",
    "outputId": "c858f8dd-10c5-4308-d83e-fce166e11562"
   },
   "outputs": [
    {
     "data": {
      "text/html": [
       "<div>\n",
       "<style scoped>\n",
       "    .dataframe tbody tr th:only-of-type {\n",
       "        vertical-align: middle;\n",
       "    }\n",
       "\n",
       "    .dataframe tbody tr th {\n",
       "        vertical-align: top;\n",
       "    }\n",
       "\n",
       "    .dataframe thead th {\n",
       "        text-align: right;\n",
       "    }\n",
       "</style>\n",
       "<table border=\"1\" class=\"dataframe\">\n",
       "  <thead>\n",
       "    <tr style=\"text-align: right;\">\n",
       "      <th></th>\n",
       "      <th>Age</th>\n",
       "      <th>Gender</th>\n",
       "      <th>Weight_kg</th>\n",
       "      <th>Height_m</th>\n",
       "      <th>Max_BPM</th>\n",
       "      <th>Avg_BPM</th>\n",
       "      <th>Resting_BPM</th>\n",
       "      <th>Session_Duration_hours</th>\n",
       "      <th>Calories_Burned</th>\n",
       "      <th>Workout_Type</th>\n",
       "      <th>Fat_Percentage</th>\n",
       "      <th>Water_Intake_liters</th>\n",
       "      <th>Workout_Frequency_days_per_week</th>\n",
       "      <th>Experience_Level</th>\n",
       "      <th>BMI</th>\n",
       "    </tr>\n",
       "  </thead>\n",
       "  <tbody>\n",
       "    <tr>\n",
       "      <th>0</th>\n",
       "      <td>21</td>\n",
       "      <td>Male</td>\n",
       "      <td>88.4</td>\n",
       "      <td>1.81</td>\n",
       "      <td>209.0</td>\n",
       "      <td>147.0</td>\n",
       "      <td>74.0</td>\n",
       "      <td>0.68</td>\n",
       "      <td>396.0</td>\n",
       "      <td>Strength Training</td>\n",
       "      <td>19.0</td>\n",
       "      <td>2.7</td>\n",
       "      <td>4</td>\n",
       "      <td>Intermediate</td>\n",
       "      <td>27.1</td>\n",
       "    </tr>\n",
       "    <tr>\n",
       "      <th>1</th>\n",
       "      <td>29</td>\n",
       "      <td>Male</td>\n",
       "      <td>68.9</td>\n",
       "      <td>1.78</td>\n",
       "      <td>194.0</td>\n",
       "      <td>137.0</td>\n",
       "      <td>67.0</td>\n",
       "      <td>0.99</td>\n",
       "      <td>464.0</td>\n",
       "      <td>Boxing</td>\n",
       "      <td>11.8</td>\n",
       "      <td>2.2</td>\n",
       "      <td>5</td>\n",
       "      <td>Advanced</td>\n",
       "      <td>21.8</td>\n",
       "    </tr>\n",
       "    <tr>\n",
       "      <th>2</th>\n",
       "      <td>32</td>\n",
       "      <td>Male</td>\n",
       "      <td>61.0</td>\n",
       "      <td>1.76</td>\n",
       "      <td>196.0</td>\n",
       "      <td>128.0</td>\n",
       "      <td>71.0</td>\n",
       "      <td>0.66</td>\n",
       "      <td>211.0</td>\n",
       "      <td>Pilates</td>\n",
       "      <td>21.2</td>\n",
       "      <td>2.0</td>\n",
       "      <td>4</td>\n",
       "      <td>Beginner</td>\n",
       "      <td>19.7</td>\n",
       "    </tr>\n",
       "    <tr>\n",
       "      <th>3</th>\n",
       "      <td>22</td>\n",
       "      <td>Male</td>\n",
       "      <td>83.8</td>\n",
       "      <td>1.67</td>\n",
       "      <td>192.0</td>\n",
       "      <td>138.0</td>\n",
       "      <td>62.0</td>\n",
       "      <td>0.82</td>\n",
       "      <td>529.0</td>\n",
       "      <td>Tennis</td>\n",
       "      <td>18.1</td>\n",
       "      <td>2.3</td>\n",
       "      <td>4</td>\n",
       "      <td>Advanced</td>\n",
       "      <td>30.2</td>\n",
       "    </tr>\n",
       "    <tr>\n",
       "      <th>4</th>\n",
       "      <td>18</td>\n",
       "      <td>Male</td>\n",
       "      <td>104.2</td>\n",
       "      <td>1.88</td>\n",
       "      <td>192.0</td>\n",
       "      <td>NaN</td>\n",
       "      <td>NaN</td>\n",
       "      <td>0.76</td>\n",
       "      <td>776.0</td>\n",
       "      <td>Swimming</td>\n",
       "      <td>23.2</td>\n",
       "      <td>2.9</td>\n",
       "      <td>4</td>\n",
       "      <td>Beginner</td>\n",
       "      <td>29.6</td>\n",
       "    </tr>\n",
       "  </tbody>\n",
       "</table>\n",
       "</div>"
      ],
      "text/plain": [
       "   Age Gender  Weight_kg  Height_m  Max_BPM  Avg_BPM  Resting_BPM  \\\n",
       "0   21   Male       88.4      1.81    209.0    147.0         74.0   \n",
       "1   29   Male       68.9      1.78    194.0    137.0         67.0   \n",
       "2   32   Male       61.0      1.76    196.0    128.0         71.0   \n",
       "3   22   Male       83.8      1.67    192.0    138.0         62.0   \n",
       "4   18   Male      104.2      1.88    192.0      NaN          NaN   \n",
       "\n",
       "   Session_Duration_hours  Calories_Burned       Workout_Type  Fat_Percentage  \\\n",
       "0                    0.68            396.0  Strength Training            19.0   \n",
       "1                    0.99            464.0             Boxing            11.8   \n",
       "2                    0.66            211.0            Pilates            21.2   \n",
       "3                    0.82            529.0             Tennis            18.1   \n",
       "4                    0.76            776.0           Swimming            23.2   \n",
       "\n",
       "   Water_Intake_liters  Workout_Frequency_days_per_week Experience_Level   BMI  \n",
       "0                  2.7                                4     Intermediate  27.1  \n",
       "1                  2.2                                5         Advanced  21.8  \n",
       "2                  2.0                                4         Beginner  19.7  \n",
       "3                  2.3                                4         Advanced  30.2  \n",
       "4                  2.9                                4         Beginner  29.6  "
      ]
     },
     "execution_count": 15,
     "metadata": {},
     "output_type": "execute_result"
    }
   ],
   "source": [
    "df = pd.read_csv(data_url)\n",
    "df.head()"
   ]
  },
  {
   "cell_type": "code",
   "execution_count": null,
   "id": "7c8fe1fa-7754-4297-abab-bfe9752b50fc",
   "metadata": {
    "id": "7c8fe1fa-7754-4297-abab-bfe9752b50fc"
   },
   "outputs": [],
   "source": []
  },
  {
   "cell_type": "markdown",
   "id": "2a029d96-1f9f-4816-89cd-5d0f7a092d81",
   "metadata": {
    "id": "2a029d96-1f9f-4816-89cd-5d0f7a092d81"
   },
   "source": [
    "### Data Cleaning & Preparation\n",
    "> Check data types: Ensure numerical values are stored correctly.\n",
    "\n",
    "> Check for missing values: Ensure no missing data in important columns.\n",
    "\n",
    "> Check for duplicates: Avoid redundancy.\n",
    "\n",
    "\n",
    "\n",
    "> Outlier detection: Identify any abnormal values (e.g., extremely high/low heart rates)."
   ]
  },
  {
   "cell_type": "code",
   "execution_count": null,
   "id": "04f021ec-9ec2-4a5c-941e-13f260053b36",
   "metadata": {
    "id": "04f021ec-9ec2-4a5c-941e-13f260053b36"
   },
   "outputs": [],
   "source": []
  },
  {
   "cell_type": "markdown",
   "id": "597ba698-657e-45bd-aa10-e751755b4b5c",
   "metadata": {
    "id": "597ba698-657e-45bd-aa10-e751755b4b5c"
   },
   "source": [
    "# DATA PREPROCESSING"
   ]
  },
  {
   "cell_type": "markdown",
   "id": "542f5ddf-f667-40c2-85b9-7a9dbd3f98a5",
   "metadata": {
    "id": "542f5ddf-f667-40c2-85b9-7a9dbd3f98a5"
   },
   "source": [
    "> Number of Rows and columns presents in data"
   ]
  },
  {
   "cell_type": "code",
   "execution_count": 19,
   "id": "d3f547b6-1f32-4490-8cd8-e8f72362127c",
   "metadata": {
    "colab": {
     "base_uri": "https://localhost:8080/"
    },
    "id": "d3f547b6-1f32-4490-8cd8-e8f72362127c",
    "outputId": "43f4c842-7a26-4e93-8bfa-d8c3dc6853b6"
   },
   "outputs": [
    {
     "name": "stdout",
     "output_type": "stream",
     "text": [
      "Number of rows and columns in Dataset\n"
     ]
    },
    {
     "data": {
      "text/plain": [
       "(1680, 15)"
      ]
     },
     "execution_count": 19,
     "metadata": {},
     "output_type": "execute_result"
    }
   ],
   "source": [
    "print(\"Number of rows and columns in Dataset\")\n",
    "df.shape"
   ]
  },
  {
   "cell_type": "markdown",
   "id": "f2a8a281-c57e-4e4b-a528-bbf5b1be214d",
   "metadata": {
    "id": "f2a8a281-c57e-4e4b-a528-bbf5b1be214d"
   },
   "source": []
  },
  {
   "cell_type": "markdown",
   "id": "f77fd58a-9773-4ebd-9a63-f442a1fd62ec",
   "metadata": {
    "id": "f77fd58a-9773-4ebd-9a63-f442a1fd62ec"
   },
   "source": [
    "> Name of The columns"
   ]
  },
  {
   "cell_type": "code",
   "execution_count": 22,
   "id": "6905bca0-46eb-418c-95e0-55b3cf3da02b",
   "metadata": {
    "colab": {
     "base_uri": "https://localhost:8080/"
    },
    "id": "6905bca0-46eb-418c-95e0-55b3cf3da02b",
    "outputId": "611d8211-4d6f-4a8b-9066-700aa015baf6"
   },
   "outputs": [
    {
     "data": {
      "text/plain": [
       "Index(['Age', 'Gender', 'Weight_kg', 'Height_m', 'Max_BPM', 'Avg_BPM',\n",
       "       'Resting_BPM', 'Session_Duration_hours', 'Calories_Burned',\n",
       "       'Workout_Type', 'Fat_Percentage', 'Water_Intake_liters',\n",
       "       'Workout_Frequency_days_per_week', 'Experience_Level', 'BMI'],\n",
       "      dtype='object')"
      ]
     },
     "execution_count": 22,
     "metadata": {},
     "output_type": "execute_result"
    }
   ],
   "source": [
    "df.columns"
   ]
  },
  {
   "cell_type": "code",
   "execution_count": null,
   "id": "7d03f04f-a61a-4fe0-a080-f13714ce106a",
   "metadata": {
    "id": "7d03f04f-a61a-4fe0-a080-f13714ce106a"
   },
   "outputs": [],
   "source": []
  },
  {
   "cell_type": "markdown",
   "id": "712dd538-7318-4284-bfd5-328d888dd3f9",
   "metadata": {
    "id": "712dd538-7318-4284-bfd5-328d888dd3f9"
   },
   "source": [
    "> OverView and Info of the data set"
   ]
  },
  {
   "cell_type": "code",
   "execution_count": 24,
   "id": "c117ab0b-3615-4148-86f9-58cc30b650d0",
   "metadata": {
    "colab": {
     "base_uri": "https://localhost:8080/"
    },
    "id": "c117ab0b-3615-4148-86f9-58cc30b650d0",
    "outputId": "b1a3bfb4-e291-4b02-8a88-4c99351ffaab"
   },
   "outputs": [
    {
     "name": "stdout",
     "output_type": "stream",
     "text": [
      "<class 'pandas.core.frame.DataFrame'>\n",
      "RangeIndex: 1680 entries, 0 to 1679\n",
      "Data columns (total 15 columns):\n",
      " #   Column                           Non-Null Count  Dtype  \n",
      "---  ------                           --------------  -----  \n",
      " 0   Age                              1680 non-null   int64  \n",
      " 1   Gender                           1674 non-null   object \n",
      " 2   Weight_kg                        1679 non-null   float64\n",
      " 3   Height_m                         1679 non-null   float64\n",
      " 4   Max_BPM                          1668 non-null   float64\n",
      " 5   Avg_BPM                          1669 non-null   float64\n",
      " 6   Resting_BPM                      1675 non-null   float64\n",
      " 7   Session_Duration_hours           1670 non-null   float64\n",
      " 8   Calories_Burned                  1677 non-null   float64\n",
      " 9   Workout_Type                     1664 non-null   object \n",
      " 10  Fat_Percentage                   1677 non-null   float64\n",
      " 11  Water_Intake_liters              1673 non-null   float64\n",
      " 12  Workout_Frequency_days_per_week  1680 non-null   int64  \n",
      " 13  Experience_Level                 1663 non-null   object \n",
      " 14  BMI                              1673 non-null   float64\n",
      "dtypes: float64(10), int64(2), object(3)\n",
      "memory usage: 197.0+ KB\n"
     ]
    }
   ],
   "source": [
    "df.info()"
   ]
  },
  {
   "cell_type": "markdown",
   "id": "c04e5ef5-2e82-4fca-afa7-96191516ada1",
   "metadata": {
    "id": "c04e5ef5-2e82-4fca-afa7-96191516ada1"
   },
   "source": [
    "> Description of the Dataset"
   ]
  },
  {
   "cell_type": "code",
   "execution_count": 26,
   "id": "e74d2e3d-0ce3-452d-8c9b-853806f570ce",
   "metadata": {
    "colab": {
     "base_uri": "https://localhost:8080/",
     "height": 300
    },
    "id": "e74d2e3d-0ce3-452d-8c9b-853806f570ce",
    "outputId": "69c8f6b0-7000-4886-8f97-9ef3ea5c969f"
   },
   "outputs": [
    {
     "data": {
      "text/html": [
       "<div>\n",
       "<style scoped>\n",
       "    .dataframe tbody tr th:only-of-type {\n",
       "        vertical-align: middle;\n",
       "    }\n",
       "\n",
       "    .dataframe tbody tr th {\n",
       "        vertical-align: top;\n",
       "    }\n",
       "\n",
       "    .dataframe thead th {\n",
       "        text-align: right;\n",
       "    }\n",
       "</style>\n",
       "<table border=\"1\" class=\"dataframe\">\n",
       "  <thead>\n",
       "    <tr style=\"text-align: right;\">\n",
       "      <th></th>\n",
       "      <th>Age</th>\n",
       "      <th>Weight_kg</th>\n",
       "      <th>Height_m</th>\n",
       "      <th>Max_BPM</th>\n",
       "      <th>Avg_BPM</th>\n",
       "      <th>Resting_BPM</th>\n",
       "      <th>Session_Duration_hours</th>\n",
       "      <th>Calories_Burned</th>\n",
       "      <th>Fat_Percentage</th>\n",
       "      <th>Water_Intake_liters</th>\n",
       "      <th>Workout_Frequency_days_per_week</th>\n",
       "      <th>BMI</th>\n",
       "    </tr>\n",
       "  </thead>\n",
       "  <tbody>\n",
       "    <tr>\n",
       "      <th>count</th>\n",
       "      <td>1680.000000</td>\n",
       "      <td>1679.000000</td>\n",
       "      <td>1679.000000</td>\n",
       "      <td>1668.000000</td>\n",
       "      <td>1669.000000</td>\n",
       "      <td>1675.000000</td>\n",
       "      <td>1670.000000</td>\n",
       "      <td>1677.000000</td>\n",
       "      <td>1677.000000</td>\n",
       "      <td>1673.000000</td>\n",
       "      <td>1680.000000</td>\n",
       "      <td>1673.000000</td>\n",
       "    </tr>\n",
       "    <tr>\n",
       "      <th>mean</th>\n",
       "      <td>33.569643</td>\n",
       "      <td>73.963371</td>\n",
       "      <td>1.713675</td>\n",
       "      <td>186.486211</td>\n",
       "      <td>135.944278</td>\n",
       "      <td>71.316418</td>\n",
       "      <td>0.727371</td>\n",
       "      <td>415.017293</td>\n",
       "      <td>24.516160</td>\n",
       "      <td>2.348261</td>\n",
       "      <td>3.460119</td>\n",
       "      <td>25.100120</td>\n",
       "    </tr>\n",
       "    <tr>\n",
       "      <th>std</th>\n",
       "      <td>11.972816</td>\n",
       "      <td>14.415892</td>\n",
       "      <td>0.098151</td>\n",
       "      <td>13.062185</td>\n",
       "      <td>16.950411</td>\n",
       "      <td>6.218267</td>\n",
       "      <td>0.167151</td>\n",
       "      <td>150.202466</td>\n",
       "      <td>7.370978</td>\n",
       "      <td>0.325616</td>\n",
       "      <td>0.994124</td>\n",
       "      <td>3.898682</td>\n",
       "    </tr>\n",
       "    <tr>\n",
       "      <th>min</th>\n",
       "      <td>18.000000</td>\n",
       "      <td>45.000000</td>\n",
       "      <td>1.500000</td>\n",
       "      <td>160.000000</td>\n",
       "      <td>100.000000</td>\n",
       "      <td>53.000000</td>\n",
       "      <td>0.500000</td>\n",
       "      <td>200.000000</td>\n",
       "      <td>5.200000</td>\n",
       "      <td>0.340000</td>\n",
       "      <td>2.000000</td>\n",
       "      <td>18.500000</td>\n",
       "    </tr>\n",
       "    <tr>\n",
       "      <th>25%</th>\n",
       "      <td>24.000000</td>\n",
       "      <td>63.000000</td>\n",
       "      <td>1.640000</td>\n",
       "      <td>177.000000</td>\n",
       "      <td>124.000000</td>\n",
       "      <td>67.000000</td>\n",
       "      <td>0.600000</td>\n",
       "      <td>298.000000</td>\n",
       "      <td>19.100000</td>\n",
       "      <td>2.100000</td>\n",
       "      <td>3.000000</td>\n",
       "      <td>22.300000</td>\n",
       "    </tr>\n",
       "    <tr>\n",
       "      <th>50%</th>\n",
       "      <td>32.000000</td>\n",
       "      <td>73.000000</td>\n",
       "      <td>1.710000</td>\n",
       "      <td>188.000000</td>\n",
       "      <td>136.000000</td>\n",
       "      <td>72.000000</td>\n",
       "      <td>0.700000</td>\n",
       "      <td>392.000000</td>\n",
       "      <td>24.200000</td>\n",
       "      <td>2.300000</td>\n",
       "      <td>3.000000</td>\n",
       "      <td>25.100000</td>\n",
       "    </tr>\n",
       "    <tr>\n",
       "      <th>75%</th>\n",
       "      <td>41.000000</td>\n",
       "      <td>83.450000</td>\n",
       "      <td>1.780000</td>\n",
       "      <td>196.000000</td>\n",
       "      <td>149.000000</td>\n",
       "      <td>76.000000</td>\n",
       "      <td>0.830000</td>\n",
       "      <td>505.000000</td>\n",
       "      <td>29.600000</td>\n",
       "      <td>2.600000</td>\n",
       "      <td>4.000000</td>\n",
       "      <td>27.800000</td>\n",
       "    </tr>\n",
       "    <tr>\n",
       "      <th>max</th>\n",
       "      <td>69.000000</td>\n",
       "      <td>113.800000</td>\n",
       "      <td>2.000000</td>\n",
       "      <td>210.000000</td>\n",
       "      <td>170.000000</td>\n",
       "      <td>88.000000</td>\n",
       "      <td>1.260000</td>\n",
       "      <td>858.000000</td>\n",
       "      <td>40.000000</td>\n",
       "      <td>3.400000</td>\n",
       "      <td>5.000000</td>\n",
       "      <td>35.000000</td>\n",
       "    </tr>\n",
       "  </tbody>\n",
       "</table>\n",
       "</div>"
      ],
      "text/plain": [
       "               Age    Weight_kg     Height_m      Max_BPM      Avg_BPM  \\\n",
       "count  1680.000000  1679.000000  1679.000000  1668.000000  1669.000000   \n",
       "mean     33.569643    73.963371     1.713675   186.486211   135.944278   \n",
       "std      11.972816    14.415892     0.098151    13.062185    16.950411   \n",
       "min      18.000000    45.000000     1.500000   160.000000   100.000000   \n",
       "25%      24.000000    63.000000     1.640000   177.000000   124.000000   \n",
       "50%      32.000000    73.000000     1.710000   188.000000   136.000000   \n",
       "75%      41.000000    83.450000     1.780000   196.000000   149.000000   \n",
       "max      69.000000   113.800000     2.000000   210.000000   170.000000   \n",
       "\n",
       "       Resting_BPM  Session_Duration_hours  Calories_Burned  Fat_Percentage  \\\n",
       "count  1675.000000             1670.000000      1677.000000     1677.000000   \n",
       "mean     71.316418                0.727371       415.017293       24.516160   \n",
       "std       6.218267                0.167151       150.202466        7.370978   \n",
       "min      53.000000                0.500000       200.000000        5.200000   \n",
       "25%      67.000000                0.600000       298.000000       19.100000   \n",
       "50%      72.000000                0.700000       392.000000       24.200000   \n",
       "75%      76.000000                0.830000       505.000000       29.600000   \n",
       "max      88.000000                1.260000       858.000000       40.000000   \n",
       "\n",
       "       Water_Intake_liters  Workout_Frequency_days_per_week          BMI  \n",
       "count          1673.000000                      1680.000000  1673.000000  \n",
       "mean              2.348261                         3.460119    25.100120  \n",
       "std               0.325616                         0.994124     3.898682  \n",
       "min               0.340000                         2.000000    18.500000  \n",
       "25%               2.100000                         3.000000    22.300000  \n",
       "50%               2.300000                         3.000000    25.100000  \n",
       "75%               2.600000                         4.000000    27.800000  \n",
       "max               3.400000                         5.000000    35.000000  "
      ]
     },
     "execution_count": 26,
     "metadata": {},
     "output_type": "execute_result"
    }
   ],
   "source": [
    "df.describe()"
   ]
  },
  {
   "cell_type": "code",
   "execution_count": null,
   "id": "7823a9d1-0d98-4585-a094-020452a719c3",
   "metadata": {
    "id": "7823a9d1-0d98-4585-a094-020452a719c3"
   },
   "outputs": [],
   "source": []
  },
  {
   "cell_type": "code",
   "execution_count": null,
   "id": "db1a66eb-af52-4cef-a951-3957878759e6",
   "metadata": {
    "id": "db1a66eb-af52-4cef-a951-3957878759e6"
   },
   "outputs": [],
   "source": []
  },
  {
   "cell_type": "markdown",
   "id": "996f1e35-1130-42d2-9392-54814b1f6bcf",
   "metadata": {
    "id": "996f1e35-1130-42d2-9392-54814b1f6bcf"
   },
   "source": [
    ">Fix  redundancy in the availavble data that needed to be cleaned"
   ]
  },
  {
   "cell_type": "code",
   "execution_count": null,
   "id": "4339c029-6eb9-4c51-bec5-144f833a1e10",
   "metadata": {
    "id": "4339c029-6eb9-4c51-bec5-144f833a1e10"
   },
   "outputs": [],
   "source": []
  },
  {
   "cell_type": "code",
   "execution_count": 28,
   "id": "9d212e81-7e60-45c2-bed4-f9c1e09b7624",
   "metadata": {
    "colab": {
     "base_uri": "https://localhost:8080/"
    },
    "id": "9d212e81-7e60-45c2-bed4-f9c1e09b7624",
    "outputId": "9939f007-0076-4cb1-cf35-cb15f2cdd268"
   },
   "outputs": [
    {
     "name": "stdout",
     "output_type": "stream",
     "text": [
      "\n",
      "Column: Gender\n",
      "['Male' 'Female' 'Non-binary' nan]\n",
      "\n",
      "Column: Workout_Type\n",
      "['Strength Training' 'Boxing' 'Pilates' 'Tennis' 'Swimming' 'CrossFit'\n",
      " 'Running' 'HIIT' 'Rowing' 'Yoga' 'Aerobics' 'Walking' 'Soccer' 'Cycling'\n",
      " 'Runnng' nan 'CrosFit']\n",
      "\n",
      "Column: Experience_Level\n",
      "['Intermediate' 'Advanced' 'Beginner' 'Professional' nan 'Advnaced'\n",
      " 'Intermediat' 'Begnner']\n"
     ]
    }
   ],
   "source": [
    "for col in  df.select_dtypes(include=['object', 'category']).columns:\n",
    "    print(f\"\\nColumn: {col}\")\n",
    "    print(df[col].unique())"
   ]
  },
  {
   "cell_type": "code",
   "execution_count": null,
   "id": "cf093a9d-4485-42d0-8cc2-ddd1c8ee386b",
   "metadata": {
    "id": "cf093a9d-4485-42d0-8cc2-ddd1c8ee386b"
   },
   "outputs": [],
   "source": []
  },
  {
   "cell_type": "code",
   "execution_count": 29,
   "id": "94845d42-d18e-4703-9cf1-f4e71453add3",
   "metadata": {
    "id": "94845d42-d18e-4703-9cf1-f4e71453add3"
   },
   "outputs": [],
   "source": [
    "workout_type_corrections = {\n",
    "    \"Runnng\": \"Running\",\n",
    "    \"CrosFit\": \"CrossFit\"\n",
    "}\n",
    "\n",
    "experience_level_corrections = {\n",
    "    \"Advnaced\": \"Advanced\",\n",
    "    \"Intermediat\": \"Intermediate\",\n",
    "    \"Begnner\": \"Beginner\"\n",
    "}\n",
    "\n",
    "# Apply corrections\n",
    "df[\"Workout_Type\"] = df[\"Workout_Type\"].replace(workout_type_corrections)\n",
    "df[\"Experience_Level\"] = df[\"Experience_Level\"].replace(experience_level_corrections)\n",
    "\n"
   ]
  },
  {
   "cell_type": "markdown",
   "id": "7d86f463-e3d6-42de-b492-fd369c29784d",
   "metadata": {
    "id": "7d86f463-e3d6-42de-b492-fd369c29784d"
   },
   "source": [
    ">Now we have categorical columns with No Errors"
   ]
  },
  {
   "cell_type": "code",
   "execution_count": 31,
   "id": "905cc08d-2152-4adf-9474-bb77d4de8ada",
   "metadata": {
    "colab": {
     "base_uri": "https://localhost:8080/"
    },
    "id": "905cc08d-2152-4adf-9474-bb77d4de8ada",
    "outputId": "6dd16e62-668b-4141-9b89-11b0fa8cda7f"
   },
   "outputs": [
    {
     "name": "stdout",
     "output_type": "stream",
     "text": [
      "\n",
      "Column: Gender\n",
      "['Male' 'Female' 'Non-binary' nan]\n",
      "\n",
      "Column: Workout_Type\n",
      "['Strength Training' 'Boxing' 'Pilates' 'Tennis' 'Swimming' 'CrossFit'\n",
      " 'Running' 'HIIT' 'Rowing' 'Yoga' 'Aerobics' 'Walking' 'Soccer' 'Cycling'\n",
      " nan]\n",
      "\n",
      "Column: Experience_Level\n",
      "['Intermediate' 'Advanced' 'Beginner' 'Professional' nan]\n"
     ]
    }
   ],
   "source": [
    "for col in  df.select_dtypes(include=['object', 'category']).columns:\n",
    "    print(f\"\\nColumn: {col}\")\n",
    "    print(df[col].unique())"
   ]
  },
  {
   "cell_type": "code",
   "execution_count": null,
   "id": "c2387d1e-a624-483a-a97b-5a028cf8aba5",
   "metadata": {
    "id": "c2387d1e-a624-483a-a97b-5a028cf8aba5"
   },
   "outputs": [],
   "source": [
    "\n"
   ]
  },
  {
   "cell_type": "markdown",
   "id": "2e33cddc-1472-4428-a0bc-42de09f9fc5f",
   "metadata": {
    "id": "2e33cddc-1472-4428-a0bc-42de09f9fc5f"
   },
   "source": [
    "#### Ways of handling missing data either drop the rows or fill the data accordingly\n",
    "```Few missing values? → dropna() Numerical data? → fillna(mean/median) Categorical data? → fillna(mode) Time-series data? → interpolate() Missing in sequences? → ffill() or bfill()```"
   ]
  },
  {
   "cell_type": "code",
   "execution_count": null,
   "id": "223487e2-b9f3-401f-bcf9-c8ab0e02a426",
   "metadata": {
    "id": "223487e2-b9f3-401f-bcf9-c8ab0e02a426"
   },
   "outputs": [],
   "source": []
  },
  {
   "cell_type": "markdown",
   "id": "88e3f390-041b-4693-bdc5-2ab6a6a5be1b",
   "metadata": {
    "id": "88e3f390-041b-4693-bdc5-2ab6a6a5be1b"
   },
   "source": [
    ">Getting duplicate columns"
   ]
  },
  {
   "cell_type": "code",
   "execution_count": 34,
   "id": "26bbab4b-d0a2-4230-abf3-d98f0092ef34",
   "metadata": {
    "colab": {
     "base_uri": "https://localhost:8080/"
    },
    "id": "26bbab4b-d0a2-4230-abf3-d98f0092ef34",
    "outputId": "72e22222-ad2f-455f-ea51-d4a98079deee"
   },
   "outputs": [
    {
     "data": {
      "text/plain": [
       "6"
      ]
     },
     "execution_count": 34,
     "metadata": {},
     "output_type": "execute_result"
    }
   ],
   "source": [
    "# Duplicate rows do not add value and may skew results.\n",
    "df.duplicated().sum()"
   ]
  },
  {
   "cell_type": "code",
   "execution_count": 35,
   "id": "0fff6463-8868-4f50-9eb0-5488edb1cefc",
   "metadata": {
    "id": "0fff6463-8868-4f50-9eb0-5488edb1cefc"
   },
   "outputs": [],
   "source": [
    "# Remove duplicates\n",
    "df = df.drop_duplicates()"
   ]
  },
  {
   "cell_type": "markdown",
   "id": "b5250385-248d-41f0-ba4b-617e3c163fe0",
   "metadata": {
    "id": "b5250385-248d-41f0-ba4b-617e3c163fe0"
   },
   "source": [
    "> Checking how many columns has missing values"
   ]
  },
  {
   "cell_type": "code",
   "execution_count": 37,
   "id": "233272d9-e968-4b03-a579-c3c5abd08184",
   "metadata": {
    "colab": {
     "base_uri": "https://localhost:8080/",
     "height": 554
    },
    "id": "233272d9-e968-4b03-a579-c3c5abd08184",
    "outputId": "f36f5da2-cea6-467a-c5d1-5550dcf4be11"
   },
   "outputs": [
    {
     "data": {
      "text/plain": [
       "Age                                 0\n",
       "Gender                              6\n",
       "Weight_kg                           1\n",
       "Height_m                            1\n",
       "Max_BPM                            12\n",
       "Avg_BPM                            11\n",
       "Resting_BPM                         5\n",
       "Session_Duration_hours             10\n",
       "Calories_Burned                     3\n",
       "Workout_Type                       16\n",
       "Fat_Percentage                      3\n",
       "Water_Intake_liters                 6\n",
       "Workout_Frequency_days_per_week     0\n",
       "Experience_Level                   17\n",
       "BMI                                 7\n",
       "dtype: int64"
      ]
     },
     "execution_count": 37,
     "metadata": {},
     "output_type": "execute_result"
    }
   ],
   "source": [
    "df.isna().sum()"
   ]
  },
  {
   "cell_type": "markdown",
   "id": "0c92f875-6a02-493d-b9b3-70cb7774df99",
   "metadata": {
    "id": "0c92f875-6a02-493d-b9b3-70cb7774df99"
   },
   "source": [
    "> Visualising the missing data through piechart"
   ]
  },
  {
   "cell_type": "code",
   "execution_count": 39,
   "id": "720e7548-4701-4273-aa13-578e9aa1fff9",
   "metadata": {
    "id": "720e7548-4701-4273-aa13-578e9aa1fff9"
   },
   "outputs": [],
   "source": [
    "# missing_counts = df.isnull().sum()\n",
    "# missing_counts = missing_counts[missing_counts > 0]\n",
    "\n",
    "# plt.figure(figsize=(6, 6))\n",
    "# plt.pie(missing_counts, labels=missing_counts.index, autopct='%1.1f%%', colors=plt.cm.Pastel1.colors)\n",
    "# plt.title(\"Prop\n",
    "# ortion of Missing Values by Column\")\n",
    "# plt.show()\n"
   ]
  },
  {
   "cell_type": "markdown",
   "id": "c8138283-5072-429c-912f-f1808ad5edab",
   "metadata": {
    "id": "c8138283-5072-429c-912f-f1808ad5edab"
   },
   "source": [
    "> Handle Missing Values"
   ]
  },
  {
   "cell_type": "code",
   "execution_count": 41,
   "id": "30ad50d4-4749-4731-9423-9d4af33eb8f2",
   "metadata": {
    "colab": {
     "base_uri": "https://localhost:8080/"
    },
    "id": "30ad50d4-4749-4731-9423-9d4af33eb8f2",
    "outputId": "7d36dc75-9570-41ec-a730-1b458927dd4a"
   },
   "outputs": [],
   "source": [
    "numeric_cols = df.select_dtypes(include='number').columns\n",
    "categorical_cols = df.select_dtypes(include='object').columns\n",
    "\n",
    "# Fill numeric columns with median\n",
    "for col in numeric_cols:\n",
    "    df[col] = df[col].fillna(df[col].median())\n",
    "\n",
    "# Fill categorical columns with mode\n",
    "for col in categorical_cols:\n",
    "    df[col] = df[col].fillna(df[col].mode()[0])"
   ]
  },
  {
   "cell_type": "markdown",
   "id": "ad3f9fe0-d54b-4443-8825-0b8bbea5b126",
   "metadata": {
    "id": "ad3f9fe0-d54b-4443-8825-0b8bbea5b126"
   },
   "source": [
    "> Numerical columns had missing values filled with their median, and categorical columns with their modes."
   ]
  },
  {
   "cell_type": "code",
   "execution_count": 43,
   "id": "c8c954b5-4bd4-41f7-a8b0-5753da8f7fa1",
   "metadata": {
    "colab": {
     "base_uri": "https://localhost:8080/"
    },
    "id": "c8c954b5-4bd4-41f7-a8b0-5753da8f7fa1",
    "outputId": "ceb00a48-4d5a-47e1-f3db-51e71b0a8236"
   },
   "outputs": [
    {
     "name": "stdout",
     "output_type": "stream",
     "text": [
      "<class 'pandas.core.frame.DataFrame'>\n",
      "Index: 1674 entries, 0 to 1673\n",
      "Data columns (total 15 columns):\n",
      " #   Column                           Non-Null Count  Dtype  \n",
      "---  ------                           --------------  -----  \n",
      " 0   Age                              1674 non-null   int64  \n",
      " 1   Gender                           1674 non-null   object \n",
      " 2   Weight_kg                        1674 non-null   float64\n",
      " 3   Height_m                         1674 non-null   float64\n",
      " 4   Max_BPM                          1674 non-null   float64\n",
      " 5   Avg_BPM                          1674 non-null   float64\n",
      " 6   Resting_BPM                      1674 non-null   float64\n",
      " 7   Session_Duration_hours           1674 non-null   float64\n",
      " 8   Calories_Burned                  1674 non-null   float64\n",
      " 9   Workout_Type                     1674 non-null   object \n",
      " 10  Fat_Percentage                   1674 non-null   float64\n",
      " 11  Water_Intake_liters              1674 non-null   float64\n",
      " 12  Workout_Frequency_days_per_week  1674 non-null   int64  \n",
      " 13  Experience_Level                 1674 non-null   object \n",
      " 14  BMI                              1674 non-null   float64\n",
      "dtypes: float64(10), int64(2), object(3)\n",
      "memory usage: 209.2+ KB\n"
     ]
    }
   ],
   "source": [
    "df.info()"
   ]
  },
  {
   "cell_type": "code",
   "execution_count": 44,
   "id": "cbee4bd6-c865-4ac9-b5eb-a94d0da0913f",
   "metadata": {
    "colab": {
     "base_uri": "https://localhost:8080/"
    },
    "id": "cbee4bd6-c865-4ac9-b5eb-a94d0da0913f",
    "outputId": "9a39473f-3fc3-4a6a-b891-c978c9920ae8"
   },
   "outputs": [
    {
     "name": "stdout",
     "output_type": "stream",
     "text": [
      "Missing Values after Cleaning:\n",
      "Age                                0\n",
      "Gender                             0\n",
      "Weight_kg                          0\n",
      "Height_m                           0\n",
      "Max_BPM                            0\n",
      "Avg_BPM                            0\n",
      "Resting_BPM                        0\n",
      "Session_Duration_hours             0\n",
      "Calories_Burned                    0\n",
      "Workout_Type                       0\n",
      "Fat_Percentage                     0\n",
      "Water_Intake_liters                0\n",
      "Workout_Frequency_days_per_week    0\n",
      "Experience_Level                   0\n",
      "BMI                                0\n",
      "dtype: int64\n"
     ]
    }
   ],
   "source": [
    "missing_values = df.isnull().sum()\n",
    "print(\"Missing Values after Cleaning:\")\n",
    "print(missing_values)"
   ]
  },
  {
   "cell_type": "code",
   "execution_count": null,
   "id": "5eac96e3-d3df-4f16-bfbd-3659453a6e35",
   "metadata": {
    "id": "5eac96e3-d3df-4f16-bfbd-3659453a6e35"
   },
   "outputs": [],
   "source": []
  },
  {
   "cell_type": "markdown",
   "id": "b9fe3d0e-dc1c-4507-b7b8-e644d7bd3331",
   "metadata": {
    "id": "b9fe3d0e-dc1c-4507-b7b8-e644d7bd3331"
   },
   "source": [
    ">Handle Outliers\n",
    "\n",
    ">Why: Outliers skew analysis and affect scaling.\n",
    "\n",
    ">Approach: Winsorize"
   ]
  },
  {
   "cell_type": "code",
   "execution_count": null,
   "id": "VW7syi7efPZy",
   "metadata": {
    "id": "VW7syi7efPZy"
   },
   "outputs": [],
   "source": []
  },
  {
   "cell_type": "code",
   "execution_count": 46,
   "id": "Qis8bQWrfPWL",
   "metadata": {
    "colab": {
     "base_uri": "https://localhost:8080/"
    },
    "id": "Qis8bQWrfPWL",
    "outputId": "af52905e-3b3a-425e-9cc1-cb8a5887579d"
   },
   "outputs": [
    {
     "name": "stdout",
     "output_type": "stream",
     "text": [
      " Outliers per column (|z| > 3):\n",
      "Age                                0\n",
      "Weight_kg                          0\n",
      "Height_m                           0\n",
      "Max_BPM                            0\n",
      "Avg_BPM                            0\n",
      "Resting_BPM                        0\n",
      "Session_Duration_hours             7\n",
      "Calories_Burned                    0\n",
      "Fat_Percentage                     0\n",
      "Water_Intake_liters                3\n",
      "Workout_Frequency_days_per_week    0\n",
      "BMI                                0\n",
      "dtype: int64\n",
      "\n",
      " Total rows with at least one outlier: 10\n"
     ]
    }
   ],
   "source": [
    "import pandas as pd\n",
    "from scipy.stats import zscore\n",
    "\n",
    "# Load your dataset\n",
    "# df = pd.read_csv('your_dataset.csv')  # Uncomment if loading from CSV\n",
    "\n",
    "# Select only numeric columns\n",
    "numeric_cols = df.select_dtypes(include=['float64', 'int64']).columns\n",
    "\n",
    "# Calculate z-scores for numeric columns\n",
    "z_scores = df[numeric_cols].apply(zscore)\n",
    "\n",
    "# Flag outliers (absolute z-score > 3)\n",
    "outliers = (z_scores.abs() > 3)\n",
    "\n",
    "# Count of outliers per column\n",
    "outlier_counts = outliers.sum()\n",
    "\n",
    "print(\" Outliers per column (|z| > 3):\")\n",
    "print(outlier_counts)\n",
    "\n",
    "# Optional: Get rows where *any* column has an outlier\n",
    "rows_with_outliers = df[outliers.any(axis=1)]\n",
    "\n",
    "print(f\"\\n Total rows with at least one outlier: {len(rows_with_outliers)}\")\n",
    "\n",
    "# Optional: View those rows\n",
    "# print(rows_with_outliers.head())\n"
   ]
  },
  {
   "cell_type": "code",
   "execution_count": null,
   "id": "Tke0_gBUfPQu",
   "metadata": {
    "id": "Tke0_gBUfPQu"
   },
   "outputs": [],
   "source": []
  },
  {
   "cell_type": "code",
   "execution_count": null,
   "id": "HyPvd07QfPGQ",
   "metadata": {
    "id": "HyPvd07QfPGQ"
   },
   "outputs": [],
   "source": []
  },
  {
   "cell_type": "code",
   "execution_count": null,
   "id": "eMiFKZr3fO43",
   "metadata": {
    "id": "eMiFKZr3fO43"
   },
   "outputs": [],
   "source": []
  },
  {
   "cell_type": "code",
   "execution_count": 47,
   "id": "531a4223-91f9-4eba-baa4-c1bac6409b95",
   "metadata": {
    "colab": {
     "base_uri": "https://localhost:8080/"
    },
    "id": "531a4223-91f9-4eba-baa4-c1bac6409b95",
    "outputId": "083f74ea-a7f9-41df-f7d6-8e4fb1c78ee3"
   },
   "outputs": [
    {
     "name": "stdout",
     "output_type": "stream",
     "text": [
      " Age: 11 outliers\n",
      " Weight_kg: 0 outliers\n",
      " Height_m: 1 outliers\n",
      " Max_BPM: 0 outliers\n",
      " Avg_BPM: 0 outliers\n",
      " Resting_BPM: 8 outliers\n",
      " Session_Duration_hours: 11 outliers\n",
      " Calories_Burned: 16 outliers\n",
      " Fat_Percentage: 0 outliers\n",
      " BMI: 0 outliers\n",
      " Workout_Frequency_days_per_week: 0 outliers\n"
     ]
    }
   ],
   "source": [
    "import pandas as pd\n",
    "\n",
    "# List of numerical columns with likely outliers\n",
    "cols_with_outliers = [\n",
    "    'Age', 'Weight_kg', 'Height_m', 'Max_BPM', 'Avg_BPM', 'Resting_BPM',\n",
    "    'Session_Duration_hours', 'Calories_Burned', 'Fat_Percentage', 'BMI',\n",
    "    'Workout_Frequency_days_per_week'\n",
    "]\n",
    "\n",
    "outlier_indices = {}\n",
    "\n",
    "for col in cols_with_outliers:\n",
    "    q1 = df[col].quantile(0.25)\n",
    "    q3 = df[col].quantile(0.75)\n",
    "    iqr = q3 - q1\n",
    "    lower = q1 - 1.5 * iqr\n",
    "    upper = q3 + 1.5 * iqr\n",
    "    outliers = df[(df[col] < lower) | (df[col] > upper)]\n",
    "    outlier_indices[col] = outliers.index.tolist()\n",
    "    print(f\" {col}: {len(outliers)} outliers\")\n"
   ]
  },
  {
   "cell_type": "code",
   "execution_count": 48,
   "id": "2c15b323-b161-4f79-917e-d3542acdd9d6",
   "metadata": {
    "id": "2c15b323-b161-4f79-917e-d3542acdd9d6"
   },
   "outputs": [],
   "source": [
    "def winsorize_iqr(df, column):\n",
    "    Q1 = df[column].quantile(0.25)\n",
    "    Q3 = df[column].quantile(0.75)\n",
    "    IQR = Q3 - Q1\n",
    "    lower = Q1 - 1.5 * IQR\n",
    "    upper = Q3 + 1.5 * IQR\n",
    "\n",
    "    df[column] = df[column].clip(lower, upper)  # caps values within bounds\n",
    "    return df\n",
    "\n",
    "# Apply to numeric columns\n",
    "for col in numeric_cols:\n",
    "    df = winsorize_iqr(df, col)\n",
    "\n"
   ]
  },
  {
   "cell_type": "code",
   "execution_count": 49,
   "id": "08c83a63-8793-4b82-863a-46b23d8a1865",
   "metadata": {
    "colab": {
     "base_uri": "https://localhost:8080/"
    },
    "id": "08c83a63-8793-4b82-863a-46b23d8a1865",
    "outputId": "30503ce3-0149-4e6c-ee89-3fa0956a17f9"
   },
   "outputs": [
    {
     "data": {
      "text/plain": [
       "({'shape': (1674, 15), 'missing_values': 0, 'duplicate_count': 0},\n",
       " 'cleaned_fitness_dataset.csv')"
      ]
     },
     "execution_count": 49,
     "metadata": {},
     "output_type": "execute_result"
    }
   ],
   "source": [
    "# Check for remaining issues\n",
    "final_check = {\n",
    "    \"shape\": df.shape,\n",
    "    \"missing_values\": df.isnull().sum().sum(),\n",
    "    \"duplicate_count\": df.duplicated().sum()\n",
    "}\n",
    "\n",
    "# Save cleaned dataset\n",
    "cleaned_path = \"cleaned_fitness_dataset.csv\"\n",
    "df.to_csv(cleaned_path, index=False)\n",
    "\n",
    "final_check, cleaned_path"
   ]
  },
  {
   "cell_type": "code",
   "execution_count": 50,
   "id": "378d913e-7808-402b-8014-a75a79c315f3",
   "metadata": {
    "colab": {
     "base_uri": "https://localhost:8080/",
     "height": 300
    },
    "id": "378d913e-7808-402b-8014-a75a79c315f3",
    "outputId": "eb51e1e4-2456-4fee-ef38-817c742050af"
   },
   "outputs": [
    {
     "data": {
      "text/html": [
       "<div>\n",
       "<style scoped>\n",
       "    .dataframe tbody tr th:only-of-type {\n",
       "        vertical-align: middle;\n",
       "    }\n",
       "\n",
       "    .dataframe tbody tr th {\n",
       "        vertical-align: top;\n",
       "    }\n",
       "\n",
       "    .dataframe thead th {\n",
       "        text-align: right;\n",
       "    }\n",
       "</style>\n",
       "<table border=\"1\" class=\"dataframe\">\n",
       "  <thead>\n",
       "    <tr style=\"text-align: right;\">\n",
       "      <th></th>\n",
       "      <th>Age</th>\n",
       "      <th>Weight_kg</th>\n",
       "      <th>Height_m</th>\n",
       "      <th>Max_BPM</th>\n",
       "      <th>Avg_BPM</th>\n",
       "      <th>Resting_BPM</th>\n",
       "      <th>Session_Duration_hours</th>\n",
       "      <th>Calories_Burned</th>\n",
       "      <th>Fat_Percentage</th>\n",
       "      <th>Water_Intake_liters</th>\n",
       "      <th>Workout_Frequency_days_per_week</th>\n",
       "      <th>BMI</th>\n",
       "    </tr>\n",
       "  </thead>\n",
       "  <tbody>\n",
       "    <tr>\n",
       "      <th>count</th>\n",
       "      <td>1674.000000</td>\n",
       "      <td>1674.000000</td>\n",
       "      <td>1674.000000</td>\n",
       "      <td>1674.000000</td>\n",
       "      <td>1674.000000</td>\n",
       "      <td>1674.000000</td>\n",
       "      <td>1674.000000</td>\n",
       "      <td>1674.000000</td>\n",
       "      <td>1674.000000</td>\n",
       "      <td>1674.000000</td>\n",
       "      <td>1674.000000</td>\n",
       "      <td>1674.000000</td>\n",
       "    </tr>\n",
       "    <tr>\n",
       "      <th>mean</th>\n",
       "      <td>33.554659</td>\n",
       "      <td>73.949761</td>\n",
       "      <td>1.713584</td>\n",
       "      <td>186.508363</td>\n",
       "      <td>135.966547</td>\n",
       "      <td>71.307646</td>\n",
       "      <td>0.727070</td>\n",
       "      <td>414.960573</td>\n",
       "      <td>24.516607</td>\n",
       "      <td>2.348297</td>\n",
       "      <td>3.460573</td>\n",
       "      <td>25.097849</td>\n",
       "    </tr>\n",
       "    <tr>\n",
       "      <th>std</th>\n",
       "      <td>11.950179</td>\n",
       "      <td>14.421570</td>\n",
       "      <td>0.098145</td>\n",
       "      <td>12.997319</td>\n",
       "      <td>16.884512</td>\n",
       "      <td>6.199539</td>\n",
       "      <td>0.165693</td>\n",
       "      <td>149.358864</td>\n",
       "      <td>7.370036</td>\n",
       "      <td>0.322324</td>\n",
       "      <td>0.993072</td>\n",
       "      <td>3.894308</td>\n",
       "    </tr>\n",
       "    <tr>\n",
       "      <th>min</th>\n",
       "      <td>18.000000</td>\n",
       "      <td>45.000000</td>\n",
       "      <td>1.500000</td>\n",
       "      <td>160.000000</td>\n",
       "      <td>100.000000</td>\n",
       "      <td>53.500000</td>\n",
       "      <td>0.500000</td>\n",
       "      <td>200.000000</td>\n",
       "      <td>5.200000</td>\n",
       "      <td>1.350000</td>\n",
       "      <td>2.000000</td>\n",
       "      <td>18.500000</td>\n",
       "    </tr>\n",
       "    <tr>\n",
       "      <th>25%</th>\n",
       "      <td>24.000000</td>\n",
       "      <td>63.000000</td>\n",
       "      <td>1.640000</td>\n",
       "      <td>177.000000</td>\n",
       "      <td>124.000000</td>\n",
       "      <td>67.000000</td>\n",
       "      <td>0.600000</td>\n",
       "      <td>298.250000</td>\n",
       "      <td>19.100000</td>\n",
       "      <td>2.100000</td>\n",
       "      <td>3.000000</td>\n",
       "      <td>22.300000</td>\n",
       "    </tr>\n",
       "    <tr>\n",
       "      <th>50%</th>\n",
       "      <td>32.000000</td>\n",
       "      <td>73.000000</td>\n",
       "      <td>1.710000</td>\n",
       "      <td>188.000000</td>\n",
       "      <td>136.000000</td>\n",
       "      <td>72.000000</td>\n",
       "      <td>0.700000</td>\n",
       "      <td>392.000000</td>\n",
       "      <td>24.300000</td>\n",
       "      <td>2.300000</td>\n",
       "      <td>3.000000</td>\n",
       "      <td>25.100000</td>\n",
       "    </tr>\n",
       "    <tr>\n",
       "      <th>75%</th>\n",
       "      <td>41.000000</td>\n",
       "      <td>83.475000</td>\n",
       "      <td>1.780000</td>\n",
       "      <td>196.000000</td>\n",
       "      <td>148.000000</td>\n",
       "      <td>76.000000</td>\n",
       "      <td>0.830000</td>\n",
       "      <td>505.000000</td>\n",
       "      <td>29.600000</td>\n",
       "      <td>2.600000</td>\n",
       "      <td>4.000000</td>\n",
       "      <td>27.800000</td>\n",
       "    </tr>\n",
       "    <tr>\n",
       "      <th>max</th>\n",
       "      <td>66.500000</td>\n",
       "      <td>113.800000</td>\n",
       "      <td>1.990000</td>\n",
       "      <td>210.000000</td>\n",
       "      <td>170.000000</td>\n",
       "      <td>88.000000</td>\n",
       "      <td>1.175000</td>\n",
       "      <td>815.125000</td>\n",
       "      <td>40.000000</td>\n",
       "      <td>3.350000</td>\n",
       "      <td>5.000000</td>\n",
       "      <td>35.000000</td>\n",
       "    </tr>\n",
       "  </tbody>\n",
       "</table>\n",
       "</div>"
      ],
      "text/plain": [
       "               Age    Weight_kg     Height_m      Max_BPM      Avg_BPM  \\\n",
       "count  1674.000000  1674.000000  1674.000000  1674.000000  1674.000000   \n",
       "mean     33.554659    73.949761     1.713584   186.508363   135.966547   \n",
       "std      11.950179    14.421570     0.098145    12.997319    16.884512   \n",
       "min      18.000000    45.000000     1.500000   160.000000   100.000000   \n",
       "25%      24.000000    63.000000     1.640000   177.000000   124.000000   \n",
       "50%      32.000000    73.000000     1.710000   188.000000   136.000000   \n",
       "75%      41.000000    83.475000     1.780000   196.000000   148.000000   \n",
       "max      66.500000   113.800000     1.990000   210.000000   170.000000   \n",
       "\n",
       "       Resting_BPM  Session_Duration_hours  Calories_Burned  Fat_Percentage  \\\n",
       "count  1674.000000             1674.000000      1674.000000     1674.000000   \n",
       "mean     71.307646                0.727070       414.960573       24.516607   \n",
       "std       6.199539                0.165693       149.358864        7.370036   \n",
       "min      53.500000                0.500000       200.000000        5.200000   \n",
       "25%      67.000000                0.600000       298.250000       19.100000   \n",
       "50%      72.000000                0.700000       392.000000       24.300000   \n",
       "75%      76.000000                0.830000       505.000000       29.600000   \n",
       "max      88.000000                1.175000       815.125000       40.000000   \n",
       "\n",
       "       Water_Intake_liters  Workout_Frequency_days_per_week          BMI  \n",
       "count          1674.000000                      1674.000000  1674.000000  \n",
       "mean              2.348297                         3.460573    25.097849  \n",
       "std               0.322324                         0.993072     3.894308  \n",
       "min               1.350000                         2.000000    18.500000  \n",
       "25%               2.100000                         3.000000    22.300000  \n",
       "50%               2.300000                         3.000000    25.100000  \n",
       "75%               2.600000                         4.000000    27.800000  \n",
       "max               3.350000                         5.000000    35.000000  "
      ]
     },
     "execution_count": 50,
     "metadata": {},
     "output_type": "execute_result"
    }
   ],
   "source": [
    "df = pd.read_csv(\"cleaned_fitness_dataset.csv\")\n",
    "df.describe()"
   ]
  },
  {
   "cell_type": "code",
   "execution_count": 51,
   "id": "9d99b2ff-def3-4bcf-898e-4c17022684e6",
   "metadata": {
    "colab": {
     "base_uri": "https://localhost:8080/"
    },
    "id": "9d99b2ff-def3-4bcf-898e-4c17022684e6",
    "outputId": "f8ee421c-6b61-428c-d875-0f7e00103cf5"
   },
   "outputs": [
    {
     "name": "stdout",
     "output_type": "stream",
     "text": [
      "<class 'pandas.core.frame.DataFrame'>\n",
      "RangeIndex: 1674 entries, 0 to 1673\n",
      "Data columns (total 15 columns):\n",
      " #   Column                           Non-Null Count  Dtype  \n",
      "---  ------                           --------------  -----  \n",
      " 0   Age                              1674 non-null   float64\n",
      " 1   Gender                           1674 non-null   object \n",
      " 2   Weight_kg                        1674 non-null   float64\n",
      " 3   Height_m                         1674 non-null   float64\n",
      " 4   Max_BPM                          1674 non-null   float64\n",
      " 5   Avg_BPM                          1674 non-null   float64\n",
      " 6   Resting_BPM                      1674 non-null   float64\n",
      " 7   Session_Duration_hours           1674 non-null   float64\n",
      " 8   Calories_Burned                  1674 non-null   float64\n",
      " 9   Workout_Type                     1674 non-null   object \n",
      " 10  Fat_Percentage                   1674 non-null   float64\n",
      " 11  Water_Intake_liters              1674 non-null   float64\n",
      " 12  Workout_Frequency_days_per_week  1674 non-null   int64  \n",
      " 13  Experience_Level                 1674 non-null   object \n",
      " 14  BMI                              1674 non-null   float64\n",
      "dtypes: float64(11), int64(1), object(3)\n",
      "memory usage: 196.3+ KB\n"
     ]
    }
   ],
   "source": [
    "df.info()"
   ]
  },
  {
   "cell_type": "markdown",
   "id": "677fc61b-901e-477b-a14b-d637a09a143e",
   "metadata": {
    "id": "677fc61b-901e-477b-a14b-d637a09a143e"
   },
   "source": [
    "## ✅ Data Preprocessing Summary\n",
    "\n",
    "### 🔄 What Was Done:\n",
    "\n",
    "- 🗑️ **Remo6d 20 duplicate rows**  \n",
    "  Ensured no repeated entries to maintain dataset uniqueness.\n",
    "\n",
    "- ✏️ **Corrected categredundacyl typos**  \n",
    "  Standardized inconsistent category labels for accurate grouping and analysis.\n",
    "\n",
    "- 🧠 **Corrected data types**  \n",
    "  Verified all columns have valid and consistent data types.  \n",
    "  ✅ No data type errors remain.\n",
    "\n",
    "- 🧩 **Handled Missing Values**  \n",
    "  - **Numerical Features** → Imputed using **median**  \n",
    "  - **Categorical Features** → Imputed using **mode**\n",
    "\n",
    "- 📉 **Outlier Treatment**  \n",
    "  Applied **Winsorization** to reduce skew and minimize the influence of extreme values in numerical features.\n",
    "\n",
    "- ✅ **Validated Dataset Integrity**  \n",
    "  Final check confirms clean, consistent, and analysis-ready data.\n"
   ]
  },
  {
   "cell_type": "markdown",
   "id": "6c1cf56a-3b31-40fa-b210-852353b33c34",
   "metadata": {
    "id": "6c1cf56a-3b31-40fa-b210-852353b33c34"
   },
   "source": [
    "# Feature Engineering"
   ]
  },
  {
   "cell_type": "markdown",
   "id": "632f7a5a-7247-4820-b9d5-d316ee84f734",
   "metadata": {
    "id": "632f7a5a-7247-4820-b9d5-d316ee84f734"
   },
   "source": [
    "\n",
    "```Demographics: Age, Gender, Height, Weight, BMI```\n",
    "\n",
    "```Workout: Workout_Type, Session_Duration, Calories_Burned, Workout_Frequency, Experience_Level```\n",
    "\n",
    "```Health Indicators: Fat_Percentage, Max_BPM, Resting_BPM, Avg_BPM, Water_Intake ```"
   ]
  },
  {
   "cell_type": "markdown",
   "id": "b64ac7bd-9ce4-487a-8e4f-407bd0180736",
   "metadata": {
    "id": "b64ac7bd-9ce4-487a-8e4f-407bd0180736"
   },
   "source": [
    ">Adding new column Workout intensity using Avg BPM and Max BPM columns  "
   ]
  },
  {
   "cell_type": "code",
   "execution_count": 56,
   "id": "4c5bbb52-a434-4ab0-a37d-d6b4fa1e1531",
   "metadata": {
    "colab": {
     "base_uri": "https://localhost:8080/",
     "height": 423
    },
    "id": "4c5bbb52-a434-4ab0-a37d-d6b4fa1e1531",
    "outputId": "bd661c5d-e21c-4763-eb66-382eefd26e08"
   },
   "outputs": [
    {
     "data": {
      "text/html": [
       "<div>\n",
       "<style scoped>\n",
       "    .dataframe tbody tr th:only-of-type {\n",
       "        vertical-align: middle;\n",
       "    }\n",
       "\n",
       "    .dataframe tbody tr th {\n",
       "        vertical-align: top;\n",
       "    }\n",
       "\n",
       "    .dataframe thead th {\n",
       "        text-align: right;\n",
       "    }\n",
       "</style>\n",
       "<table border=\"1\" class=\"dataframe\">\n",
       "  <thead>\n",
       "    <tr style=\"text-align: right;\">\n",
       "      <th></th>\n",
       "      <th>Age</th>\n",
       "      <th>Gender</th>\n",
       "      <th>Weight_kg</th>\n",
       "      <th>Height_m</th>\n",
       "      <th>Max_BPM</th>\n",
       "      <th>Avg_BPM</th>\n",
       "      <th>Resting_BPM</th>\n",
       "      <th>Session_Duration_hours</th>\n",
       "      <th>Calories_Burned</th>\n",
       "      <th>Workout_Type</th>\n",
       "      <th>Fat_Percentage</th>\n",
       "      <th>Water_Intake_liters</th>\n",
       "      <th>Workout_Frequency_days_per_week</th>\n",
       "      <th>Experience_Level</th>\n",
       "      <th>BMI</th>\n",
       "    </tr>\n",
       "  </thead>\n",
       "  <tbody>\n",
       "    <tr>\n",
       "      <th>0</th>\n",
       "      <td>21.0</td>\n",
       "      <td>Male</td>\n",
       "      <td>88.4</td>\n",
       "      <td>1.81</td>\n",
       "      <td>209.0</td>\n",
       "      <td>147.0</td>\n",
       "      <td>74.0</td>\n",
       "      <td>0.68</td>\n",
       "      <td>396.0</td>\n",
       "      <td>Strength Training</td>\n",
       "      <td>19.0</td>\n",
       "      <td>2.7</td>\n",
       "      <td>4</td>\n",
       "      <td>Intermediate</td>\n",
       "      <td>27.1</td>\n",
       "    </tr>\n",
       "    <tr>\n",
       "      <th>1</th>\n",
       "      <td>29.0</td>\n",
       "      <td>Male</td>\n",
       "      <td>68.9</td>\n",
       "      <td>1.78</td>\n",
       "      <td>194.0</td>\n",
       "      <td>137.0</td>\n",
       "      <td>67.0</td>\n",
       "      <td>0.99</td>\n",
       "      <td>464.0</td>\n",
       "      <td>Boxing</td>\n",
       "      <td>11.8</td>\n",
       "      <td>2.2</td>\n",
       "      <td>5</td>\n",
       "      <td>Advanced</td>\n",
       "      <td>21.8</td>\n",
       "    </tr>\n",
       "    <tr>\n",
       "      <th>2</th>\n",
       "      <td>32.0</td>\n",
       "      <td>Male</td>\n",
       "      <td>61.0</td>\n",
       "      <td>1.76</td>\n",
       "      <td>196.0</td>\n",
       "      <td>128.0</td>\n",
       "      <td>71.0</td>\n",
       "      <td>0.66</td>\n",
       "      <td>211.0</td>\n",
       "      <td>Pilates</td>\n",
       "      <td>21.2</td>\n",
       "      <td>2.0</td>\n",
       "      <td>4</td>\n",
       "      <td>Beginner</td>\n",
       "      <td>19.7</td>\n",
       "    </tr>\n",
       "    <tr>\n",
       "      <th>3</th>\n",
       "      <td>22.0</td>\n",
       "      <td>Male</td>\n",
       "      <td>83.8</td>\n",
       "      <td>1.67</td>\n",
       "      <td>192.0</td>\n",
       "      <td>138.0</td>\n",
       "      <td>62.0</td>\n",
       "      <td>0.82</td>\n",
       "      <td>529.0</td>\n",
       "      <td>Tennis</td>\n",
       "      <td>18.1</td>\n",
       "      <td>2.3</td>\n",
       "      <td>4</td>\n",
       "      <td>Advanced</td>\n",
       "      <td>30.2</td>\n",
       "    </tr>\n",
       "    <tr>\n",
       "      <th>4</th>\n",
       "      <td>18.0</td>\n",
       "      <td>Male</td>\n",
       "      <td>104.2</td>\n",
       "      <td>1.88</td>\n",
       "      <td>192.0</td>\n",
       "      <td>136.0</td>\n",
       "      <td>72.0</td>\n",
       "      <td>0.76</td>\n",
       "      <td>776.0</td>\n",
       "      <td>Swimming</td>\n",
       "      <td>23.2</td>\n",
       "      <td>2.9</td>\n",
       "      <td>4</td>\n",
       "      <td>Beginner</td>\n",
       "      <td>29.6</td>\n",
       "    </tr>\n",
       "    <tr>\n",
       "      <th>...</th>\n",
       "      <td>...</td>\n",
       "      <td>...</td>\n",
       "      <td>...</td>\n",
       "      <td>...</td>\n",
       "      <td>...</td>\n",
       "      <td>...</td>\n",
       "      <td>...</td>\n",
       "      <td>...</td>\n",
       "      <td>...</td>\n",
       "      <td>...</td>\n",
       "      <td>...</td>\n",
       "      <td>...</td>\n",
       "      <td>...</td>\n",
       "      <td>...</td>\n",
       "      <td>...</td>\n",
       "    </tr>\n",
       "    <tr>\n",
       "      <th>1669</th>\n",
       "      <td>24.0</td>\n",
       "      <td>Male</td>\n",
       "      <td>101.2</td>\n",
       "      <td>1.83</td>\n",
       "      <td>191.0</td>\n",
       "      <td>136.0</td>\n",
       "      <td>80.0</td>\n",
       "      <td>0.51</td>\n",
       "      <td>353.0</td>\n",
       "      <td>Tennis</td>\n",
       "      <td>27.4</td>\n",
       "      <td>2.6</td>\n",
       "      <td>3</td>\n",
       "      <td>Beginner</td>\n",
       "      <td>30.4</td>\n",
       "    </tr>\n",
       "    <tr>\n",
       "      <th>1670</th>\n",
       "      <td>25.0</td>\n",
       "      <td>Male</td>\n",
       "      <td>100.4</td>\n",
       "      <td>1.87</td>\n",
       "      <td>204.0</td>\n",
       "      <td>151.0</td>\n",
       "      <td>78.0</td>\n",
       "      <td>0.55</td>\n",
       "      <td>407.0</td>\n",
       "      <td>Boxing</td>\n",
       "      <td>20.8</td>\n",
       "      <td>2.7</td>\n",
       "      <td>5</td>\n",
       "      <td>Beginner</td>\n",
       "      <td>28.7</td>\n",
       "    </tr>\n",
       "    <tr>\n",
       "      <th>1671</th>\n",
       "      <td>42.0</td>\n",
       "      <td>Male</td>\n",
       "      <td>73.0</td>\n",
       "      <td>1.82</td>\n",
       "      <td>169.0</td>\n",
       "      <td>114.0</td>\n",
       "      <td>78.0</td>\n",
       "      <td>0.95</td>\n",
       "      <td>522.0</td>\n",
       "      <td>Strength Training</td>\n",
       "      <td>14.9</td>\n",
       "      <td>2.3</td>\n",
       "      <td>2</td>\n",
       "      <td>Intermediate</td>\n",
       "      <td>22.0</td>\n",
       "    </tr>\n",
       "    <tr>\n",
       "      <th>1672</th>\n",
       "      <td>18.0</td>\n",
       "      <td>Male</td>\n",
       "      <td>78.4</td>\n",
       "      <td>1.83</td>\n",
       "      <td>210.0</td>\n",
       "      <td>121.0</td>\n",
       "      <td>67.0</td>\n",
       "      <td>0.89</td>\n",
       "      <td>347.0</td>\n",
       "      <td>Walking</td>\n",
       "      <td>13.5</td>\n",
       "      <td>2.4</td>\n",
       "      <td>3</td>\n",
       "      <td>Intermediate</td>\n",
       "      <td>23.5</td>\n",
       "    </tr>\n",
       "    <tr>\n",
       "      <th>1673</th>\n",
       "      <td>31.0</td>\n",
       "      <td>Male</td>\n",
       "      <td>87.4</td>\n",
       "      <td>1.76</td>\n",
       "      <td>198.0</td>\n",
       "      <td>134.0</td>\n",
       "      <td>76.0</td>\n",
       "      <td>0.89</td>\n",
       "      <td>555.0</td>\n",
       "      <td>Strength Training</td>\n",
       "      <td>19.0</td>\n",
       "      <td>2.6</td>\n",
       "      <td>5</td>\n",
       "      <td>Intermediate</td>\n",
       "      <td>28.1</td>\n",
       "    </tr>\n",
       "  </tbody>\n",
       "</table>\n",
       "<p>1674 rows × 15 columns</p>\n",
       "</div>"
      ],
      "text/plain": [
       "       Age Gender  Weight_kg  Height_m  Max_BPM  Avg_BPM  Resting_BPM  \\\n",
       "0     21.0   Male       88.4      1.81    209.0    147.0         74.0   \n",
       "1     29.0   Male       68.9      1.78    194.0    137.0         67.0   \n",
       "2     32.0   Male       61.0      1.76    196.0    128.0         71.0   \n",
       "3     22.0   Male       83.8      1.67    192.0    138.0         62.0   \n",
       "4     18.0   Male      104.2      1.88    192.0    136.0         72.0   \n",
       "...    ...    ...        ...       ...      ...      ...          ...   \n",
       "1669  24.0   Male      101.2      1.83    191.0    136.0         80.0   \n",
       "1670  25.0   Male      100.4      1.87    204.0    151.0         78.0   \n",
       "1671  42.0   Male       73.0      1.82    169.0    114.0         78.0   \n",
       "1672  18.0   Male       78.4      1.83    210.0    121.0         67.0   \n",
       "1673  31.0   Male       87.4      1.76    198.0    134.0         76.0   \n",
       "\n",
       "      Session_Duration_hours  Calories_Burned       Workout_Type  \\\n",
       "0                       0.68            396.0  Strength Training   \n",
       "1                       0.99            464.0             Boxing   \n",
       "2                       0.66            211.0            Pilates   \n",
       "3                       0.82            529.0             Tennis   \n",
       "4                       0.76            776.0           Swimming   \n",
       "...                      ...              ...                ...   \n",
       "1669                    0.51            353.0             Tennis   \n",
       "1670                    0.55            407.0             Boxing   \n",
       "1671                    0.95            522.0  Strength Training   \n",
       "1672                    0.89            347.0            Walking   \n",
       "1673                    0.89            555.0  Strength Training   \n",
       "\n",
       "      Fat_Percentage  Water_Intake_liters  Workout_Frequency_days_per_week  \\\n",
       "0               19.0                  2.7                                4   \n",
       "1               11.8                  2.2                                5   \n",
       "2               21.2                  2.0                                4   \n",
       "3               18.1                  2.3                                4   \n",
       "4               23.2                  2.9                                4   \n",
       "...              ...                  ...                              ...   \n",
       "1669            27.4                  2.6                                3   \n",
       "1670            20.8                  2.7                                5   \n",
       "1671            14.9                  2.3                                2   \n",
       "1672            13.5                  2.4                                3   \n",
       "1673            19.0                  2.6                                5   \n",
       "\n",
       "     Experience_Level   BMI  \n",
       "0        Intermediate  27.1  \n",
       "1            Advanced  21.8  \n",
       "2            Beginner  19.7  \n",
       "3            Advanced  30.2  \n",
       "4            Beginner  29.6  \n",
       "...               ...   ...  \n",
       "1669         Beginner  30.4  \n",
       "1670         Beginner  28.7  \n",
       "1671     Intermediate  22.0  \n",
       "1672     Intermediate  23.5  \n",
       "1673     Intermediate  28.1  \n",
       "\n",
       "[1674 rows x 15 columns]"
      ]
     },
     "execution_count": 56,
     "metadata": {},
     "output_type": "execute_result"
    }
   ],
   "source": [
    "# Keep only selected useful columns\n",
    "selected_columns = ['Age', 'Gender', 'Weight_kg', 'Height_m', 'Max_BPM', 'Avg_BPM',\n",
    "       'Resting_BPM', 'Session_Duration_hours', 'Calories_Burned',\n",
    "       'Workout_Type', 'Fat_Percentage', 'Water_Intake_liters',\n",
    "       'Workout_Frequency_days_per_week', 'Experience_Level', 'BMI']\n",
    "\n",
    "df = df[selected_columns]\n",
    "df"
   ]
  },
  {
   "cell_type": "markdown",
   "id": "ade70233-5128-4f75-951c-e6f65c5ce43e",
   "metadata": {
    "id": "ade70233-5128-4f75-951c-e6f65c5ce43e"
   },
   "source": [
    "```New Features:```\n",
    "\n",
    "```Workout_Intensity```\n",
    "\n",
    "```Calories_per_Min: efficiency```\n",
    "\n",
    "```HRR: Heart Rate Reserve = Max - Resting```\n",
    "\n",
    "```BMI_Category: Underweight/Normal/Overweight/Obese```\n",
    "\n",
    "```Hydration_per_Kg: normalize water intake```"
   ]
  },
  {
   "cell_type": "markdown",
   "id": "25da472b-950b-47b1-b7ee-070866ae43cd",
   "metadata": {
    "id": "25da472b-950b-47b1-b7ee-070866ae43cd"
   },
   "source": [
    ">Workout_Intensity"
   ]
  },
  {
   "cell_type": "code",
   "execution_count": 59,
   "id": "0df83654-9df2-4891-b679-a946beafc5e6",
   "metadata": {
    "colab": {
     "base_uri": "https://localhost:8080/",
     "height": 458
    },
    "id": "0df83654-9df2-4891-b679-a946beafc5e6",
    "outputId": "09661b40-a0d0-4419-fd7f-dfdacb084cf4"
   },
   "outputs": [
    {
     "data": {
      "text/plain": [
       "0       0.703\n",
       "1       0.706\n",
       "2       0.653\n",
       "3       0.719\n",
       "4       0.708\n",
       "        ...  \n",
       "1669    0.712\n",
       "1670    0.740\n",
       "1671    0.675\n",
       "1672    0.576\n",
       "1673    0.677\n",
       "Name: Workout_Intensity, Length: 1674, dtype: float64"
      ]
     },
     "execution_count": 59,
     "metadata": {},
     "output_type": "execute_result"
    }
   ],
   "source": [
    "# Ensure 'Avg_BPM' and 'Max_BPM' are numeric for the calculation\n",
    "df['Avg_BPM'] = pd.to_numeric(df['Avg_BPM'], errors='coerce')\n",
    "df['Max_BPM'] = pd.to_numeric(df['Max_BPM'], errors='coerce')\n",
    "\n",
    "# Create the 'Workout_Intensity' column\n",
    "df['Workout_Intensity'] = (df['Avg_BPM'] / df['Max_BPM']).round(3)\n",
    "df['Workout_Intensity']"
   ]
  },
  {
   "cell_type": "markdown",
   "id": "007b4af6-c43e-4a16-9ace-33fd7694b006",
   "metadata": {
    "id": "007b4af6-c43e-4a16-9ace-33fd7694b006"
   },
   "source": [
    "> Calories per Minute\n"
   ]
  },
  {
   "cell_type": "code",
   "execution_count": 61,
   "id": "5437e465-fa80-4415-b6e6-cff34c6530c8",
   "metadata": {
    "colab": {
     "base_uri": "https://localhost:8080/",
     "height": 458
    },
    "id": "5437e465-fa80-4415-b6e6-cff34c6530c8",
    "outputId": "d6b578f0-ebba-4f9b-d45f-3a21ac1da853"
   },
   "outputs": [
    {
     "data": {
      "text/plain": [
       "0        9.706\n",
       "1        7.811\n",
       "2        5.328\n",
       "3       10.752\n",
       "4       17.018\n",
       "         ...  \n",
       "1669    11.536\n",
       "1670    12.333\n",
       "1671     9.158\n",
       "1672     6.498\n",
       "1673    10.393\n",
       "Name: Calories_per_Min, Length: 1674, dtype: float64"
      ]
     },
     "execution_count": 61,
     "metadata": {},
     "output_type": "execute_result"
    }
   ],
   "source": [
    "# Calories per Minute\n",
    "df['Calories_per_Min'] = (df['Calories_Burned'] / (df['Session_Duration_hours'] * 60)).round(3)\n",
    "df['Calories_per_Min']"
   ]
  },
  {
   "cell_type": "markdown",
   "id": "01f095a4-15cf-48ae-bbb9-5415623bf222",
   "metadata": {
    "id": "01f095a4-15cf-48ae-bbb9-5415623bf222"
   },
   "source": [
    ">2. Heart Rate Reserve (HRR)"
   ]
  },
  {
   "cell_type": "code",
   "execution_count": 63,
   "id": "d29b5f52-5361-424d-a8a5-72bf214ae286",
   "metadata": {
    "colab": {
     "base_uri": "https://localhost:8080/",
     "height": 458
    },
    "id": "d29b5f52-5361-424d-a8a5-72bf214ae286",
    "outputId": "eed44b2f-b7b5-408e-9ecf-541121748edc"
   },
   "outputs": [
    {
     "data": {
      "text/plain": [
       "0       135.0\n",
       "1       127.0\n",
       "2       125.0\n",
       "3       130.0\n",
       "4       120.0\n",
       "        ...  \n",
       "1669    111.0\n",
       "1670    126.0\n",
       "1671     91.0\n",
       "1672    143.0\n",
       "1673    122.0\n",
       "Name: HRR, Length: 1674, dtype: float64"
      ]
     },
     "execution_count": 63,
     "metadata": {},
     "output_type": "execute_result"
    }
   ],
   "source": [
    "#HRR Heart Rate Reserve\n",
    "\n",
    "df['HRR'] = df['Max_BPM'] - df['Resting_BPM']\n",
    "df['HRR']"
   ]
  },
  {
   "cell_type": "markdown",
   "id": "a46b75a6-21b9-4847-b60b-51c9aeebb6d3",
   "metadata": {
    "id": "a46b75a6-21b9-4847-b60b-51c9aeebb6d3"
   },
   "source": [
    ">3. BMI Category"
   ]
  },
  {
   "cell_type": "code",
   "execution_count": 65,
   "id": "9f649218-b398-4617-a176-d0c9a2f5679f",
   "metadata": {
    "colab": {
     "base_uri": "https://localhost:8080/",
     "height": 458
    },
    "id": "9f649218-b398-4617-a176-d0c9a2f5679f",
    "outputId": "bceab51e-b1eb-4d19-f89b-986e1e84d5f7"
   },
   "outputs": [
    {
     "data": {
      "text/plain": [
       "0       Overweight\n",
       "1           Normal\n",
       "2           Normal\n",
       "3            Obese\n",
       "4       Overweight\n",
       "           ...    \n",
       "1669         Obese\n",
       "1670    Overweight\n",
       "1671        Normal\n",
       "1672        Normal\n",
       "1673    Overweight\n",
       "Name: BMI_Category, Length: 1674, dtype: object"
      ]
     },
     "execution_count": 65,
     "metadata": {},
     "output_type": "execute_result"
    }
   ],
   "source": [
    "def bmi_category(bmi):\n",
    "    if bmi < 18.5:\n",
    "        return 'Underweight'\n",
    "    elif 18.5 <= bmi < 25:\n",
    "        return 'Normal'\n",
    "    elif 25 <= bmi < 30:\n",
    "        return 'Overweight'\n",
    "    else:\n",
    "        return 'Obese'\n",
    "\n",
    "df['BMI_Category'] = df['BMI'].apply(bmi_category)\n",
    "df['BMI_Category']"
   ]
  },
  {
   "cell_type": "markdown",
   "id": "c6d0169d-b590-40f6-bc6f-c391fce2479b",
   "metadata": {
    "id": "c6d0169d-b590-40f6-bc6f-c391fce2479b"
   },
   "source": [
    ">4. Hydration per Kg of Body Weight"
   ]
  },
  {
   "cell_type": "code",
   "execution_count": 67,
   "id": "a6c6ae81-0c3e-4f79-ac8f-664ea065627f",
   "metadata": {
    "colab": {
     "base_uri": "https://localhost:8080/",
     "height": 458
    },
    "id": "a6c6ae81-0c3e-4f79-ac8f-664ea065627f",
    "outputId": "eaadad0c-07f0-4ac2-e395-e9185f315415"
   },
   "outputs": [
    {
     "data": {
      "text/plain": [
       "0       0.031\n",
       "1       0.032\n",
       "2       0.033\n",
       "3       0.027\n",
       "4       0.028\n",
       "        ...  \n",
       "1669    0.026\n",
       "1670    0.027\n",
       "1671    0.032\n",
       "1672    0.031\n",
       "1673    0.030\n",
       "Name: Hydration_per_Kg, Length: 1674, dtype: float64"
      ]
     },
     "execution_count": 67,
     "metadata": {},
     "output_type": "execute_result"
    }
   ],
   "source": [
    "df['Hydration_per_Kg'] = (df['Water_Intake_liters'] / df['Weight_kg']).round(3)\n",
    "df['Hydration_per_Kg']"
   ]
  },
  {
   "cell_type": "code",
   "execution_count": 68,
   "id": "44235baf-1b76-4060-9776-3e611997ecbb",
   "metadata": {
    "colab": {
     "base_uri": "https://localhost:8080/",
     "height": 243
    },
    "id": "44235baf-1b76-4060-9776-3e611997ecbb",
    "outputId": "4f26fd6d-4142-48b2-a8eb-e8efcb6a0b0a"
   },
   "outputs": [
    {
     "data": {
      "text/html": [
       "<div>\n",
       "<style scoped>\n",
       "    .dataframe tbody tr th:only-of-type {\n",
       "        vertical-align: middle;\n",
       "    }\n",
       "\n",
       "    .dataframe tbody tr th {\n",
       "        vertical-align: top;\n",
       "    }\n",
       "\n",
       "    .dataframe thead th {\n",
       "        text-align: right;\n",
       "    }\n",
       "</style>\n",
       "<table border=\"1\" class=\"dataframe\">\n",
       "  <thead>\n",
       "    <tr style=\"text-align: right;\">\n",
       "      <th></th>\n",
       "      <th>Age</th>\n",
       "      <th>Gender</th>\n",
       "      <th>Weight_kg</th>\n",
       "      <th>Height_m</th>\n",
       "      <th>Max_BPM</th>\n",
       "      <th>Avg_BPM</th>\n",
       "      <th>Resting_BPM</th>\n",
       "      <th>Session_Duration_hours</th>\n",
       "      <th>Calories_Burned</th>\n",
       "      <th>Workout_Type</th>\n",
       "      <th>Fat_Percentage</th>\n",
       "      <th>Water_Intake_liters</th>\n",
       "      <th>Workout_Frequency_days_per_week</th>\n",
       "      <th>Experience_Level</th>\n",
       "      <th>BMI</th>\n",
       "      <th>Workout_Intensity</th>\n",
       "      <th>Calories_per_Min</th>\n",
       "      <th>HRR</th>\n",
       "      <th>BMI_Category</th>\n",
       "      <th>Hydration_per_Kg</th>\n",
       "    </tr>\n",
       "  </thead>\n",
       "  <tbody>\n",
       "    <tr>\n",
       "      <th>0</th>\n",
       "      <td>21.0</td>\n",
       "      <td>Male</td>\n",
       "      <td>88.4</td>\n",
       "      <td>1.81</td>\n",
       "      <td>209.0</td>\n",
       "      <td>147.0</td>\n",
       "      <td>74.0</td>\n",
       "      <td>0.68</td>\n",
       "      <td>396.0</td>\n",
       "      <td>Strength Training</td>\n",
       "      <td>19.0</td>\n",
       "      <td>2.7</td>\n",
       "      <td>4</td>\n",
       "      <td>Intermediate</td>\n",
       "      <td>27.1</td>\n",
       "      <td>0.703</td>\n",
       "      <td>9.706</td>\n",
       "      <td>135.0</td>\n",
       "      <td>Overweight</td>\n",
       "      <td>0.031</td>\n",
       "    </tr>\n",
       "    <tr>\n",
       "      <th>1</th>\n",
       "      <td>29.0</td>\n",
       "      <td>Male</td>\n",
       "      <td>68.9</td>\n",
       "      <td>1.78</td>\n",
       "      <td>194.0</td>\n",
       "      <td>137.0</td>\n",
       "      <td>67.0</td>\n",
       "      <td>0.99</td>\n",
       "      <td>464.0</td>\n",
       "      <td>Boxing</td>\n",
       "      <td>11.8</td>\n",
       "      <td>2.2</td>\n",
       "      <td>5</td>\n",
       "      <td>Advanced</td>\n",
       "      <td>21.8</td>\n",
       "      <td>0.706</td>\n",
       "      <td>7.811</td>\n",
       "      <td>127.0</td>\n",
       "      <td>Normal</td>\n",
       "      <td>0.032</td>\n",
       "    </tr>\n",
       "    <tr>\n",
       "      <th>2</th>\n",
       "      <td>32.0</td>\n",
       "      <td>Male</td>\n",
       "      <td>61.0</td>\n",
       "      <td>1.76</td>\n",
       "      <td>196.0</td>\n",
       "      <td>128.0</td>\n",
       "      <td>71.0</td>\n",
       "      <td>0.66</td>\n",
       "      <td>211.0</td>\n",
       "      <td>Pilates</td>\n",
       "      <td>21.2</td>\n",
       "      <td>2.0</td>\n",
       "      <td>4</td>\n",
       "      <td>Beginner</td>\n",
       "      <td>19.7</td>\n",
       "      <td>0.653</td>\n",
       "      <td>5.328</td>\n",
       "      <td>125.0</td>\n",
       "      <td>Normal</td>\n",
       "      <td>0.033</td>\n",
       "    </tr>\n",
       "    <tr>\n",
       "      <th>3</th>\n",
       "      <td>22.0</td>\n",
       "      <td>Male</td>\n",
       "      <td>83.8</td>\n",
       "      <td>1.67</td>\n",
       "      <td>192.0</td>\n",
       "      <td>138.0</td>\n",
       "      <td>62.0</td>\n",
       "      <td>0.82</td>\n",
       "      <td>529.0</td>\n",
       "      <td>Tennis</td>\n",
       "      <td>18.1</td>\n",
       "      <td>2.3</td>\n",
       "      <td>4</td>\n",
       "      <td>Advanced</td>\n",
       "      <td>30.2</td>\n",
       "      <td>0.719</td>\n",
       "      <td>10.752</td>\n",
       "      <td>130.0</td>\n",
       "      <td>Obese</td>\n",
       "      <td>0.027</td>\n",
       "    </tr>\n",
       "    <tr>\n",
       "      <th>4</th>\n",
       "      <td>18.0</td>\n",
       "      <td>Male</td>\n",
       "      <td>104.2</td>\n",
       "      <td>1.88</td>\n",
       "      <td>192.0</td>\n",
       "      <td>136.0</td>\n",
       "      <td>72.0</td>\n",
       "      <td>0.76</td>\n",
       "      <td>776.0</td>\n",
       "      <td>Swimming</td>\n",
       "      <td>23.2</td>\n",
       "      <td>2.9</td>\n",
       "      <td>4</td>\n",
       "      <td>Beginner</td>\n",
       "      <td>29.6</td>\n",
       "      <td>0.708</td>\n",
       "      <td>17.018</td>\n",
       "      <td>120.0</td>\n",
       "      <td>Overweight</td>\n",
       "      <td>0.028</td>\n",
       "    </tr>\n",
       "  </tbody>\n",
       "</table>\n",
       "</div>"
      ],
      "text/plain": [
       "    Age Gender  Weight_kg  Height_m  Max_BPM  Avg_BPM  Resting_BPM  \\\n",
       "0  21.0   Male       88.4      1.81    209.0    147.0         74.0   \n",
       "1  29.0   Male       68.9      1.78    194.0    137.0         67.0   \n",
       "2  32.0   Male       61.0      1.76    196.0    128.0         71.0   \n",
       "3  22.0   Male       83.8      1.67    192.0    138.0         62.0   \n",
       "4  18.0   Male      104.2      1.88    192.0    136.0         72.0   \n",
       "\n",
       "   Session_Duration_hours  Calories_Burned       Workout_Type  Fat_Percentage  \\\n",
       "0                    0.68            396.0  Strength Training            19.0   \n",
       "1                    0.99            464.0             Boxing            11.8   \n",
       "2                    0.66            211.0            Pilates            21.2   \n",
       "3                    0.82            529.0             Tennis            18.1   \n",
       "4                    0.76            776.0           Swimming            23.2   \n",
       "\n",
       "   Water_Intake_liters  Workout_Frequency_days_per_week Experience_Level  \\\n",
       "0                  2.7                                4     Intermediate   \n",
       "1                  2.2                                5         Advanced   \n",
       "2                  2.0                                4         Beginner   \n",
       "3                  2.3                                4         Advanced   \n",
       "4                  2.9                                4         Beginner   \n",
       "\n",
       "    BMI  Workout_Intensity  Calories_per_Min    HRR BMI_Category  \\\n",
       "0  27.1              0.703             9.706  135.0   Overweight   \n",
       "1  21.8              0.706             7.811  127.0       Normal   \n",
       "2  19.7              0.653             5.328  125.0       Normal   \n",
       "3  30.2              0.719            10.752  130.0        Obese   \n",
       "4  29.6              0.708            17.018  120.0   Overweight   \n",
       "\n",
       "   Hydration_per_Kg  \n",
       "0             0.031  \n",
       "1             0.032  \n",
       "2             0.033  \n",
       "3             0.027  \n",
       "4             0.028  "
      ]
     },
     "execution_count": 68,
     "metadata": {},
     "output_type": "execute_result"
    }
   ],
   "source": [
    "df.head()"
   ]
  },
  {
   "cell_type": "markdown",
   "id": "d98013fa-2ed6-4347-bceb-e69aa17c6a38",
   "metadata": {
    "id": "d98013fa-2ed6-4347-bceb-e69aa17c6a38"
   },
   "source": [
    ">saving featured enigineered dataset"
   ]
  },
  {
   "cell_type": "code",
   "execution_count": 70,
   "id": "c522e61c-4e99-400e-a124-da2b9a933f08",
   "metadata": {
    "id": "c522e61c-4e99-400e-a124-da2b9a933f08"
   },
   "outputs": [
    {
     "ename": "PermissionError",
     "evalue": "[Errno 13] Permission denied: 'featured_fitness_dataset.csv'",
     "output_type": "error",
     "traceback": [
      "\u001b[1;31m---------------------------------------------------------------------------\u001b[0m",
      "\u001b[1;31mPermissionError\u001b[0m                           Traceback (most recent call last)",
      "Cell \u001b[1;32mIn[70], line 4\u001b[0m\n\u001b[0;32m      1\u001b[0m \u001b[38;5;66;03m# Save featured  dataset\u001b[39;00m\n\u001b[0;32m      3\u001b[0m featured_path \u001b[38;5;241m=\u001b[39m \u001b[38;5;124m\"\u001b[39m\u001b[38;5;124mfeatured_fitness_dataset.csv\u001b[39m\u001b[38;5;124m\"\u001b[39m\n\u001b[1;32m----> 4\u001b[0m df\u001b[38;5;241m.\u001b[39mto_csv(featured_path, index\u001b[38;5;241m=\u001b[39m\u001b[38;5;28;01mFalse\u001b[39;00m)\n",
      "File \u001b[1;32mD:\\Program Files\\Anaconda\\Lib\\site-packages\\pandas\\util\\_decorators.py:333\u001b[0m, in \u001b[0;36mdeprecate_nonkeyword_arguments.<locals>.decorate.<locals>.wrapper\u001b[1;34m(*args, **kwargs)\u001b[0m\n\u001b[0;32m    327\u001b[0m \u001b[38;5;28;01mif\u001b[39;00m \u001b[38;5;28mlen\u001b[39m(args) \u001b[38;5;241m>\u001b[39m num_allow_args:\n\u001b[0;32m    328\u001b[0m     warnings\u001b[38;5;241m.\u001b[39mwarn(\n\u001b[0;32m    329\u001b[0m         msg\u001b[38;5;241m.\u001b[39mformat(arguments\u001b[38;5;241m=\u001b[39m_format_argument_list(allow_args)),\n\u001b[0;32m    330\u001b[0m         \u001b[38;5;167;01mFutureWarning\u001b[39;00m,\n\u001b[0;32m    331\u001b[0m         stacklevel\u001b[38;5;241m=\u001b[39mfind_stack_level(),\n\u001b[0;32m    332\u001b[0m     )\n\u001b[1;32m--> 333\u001b[0m \u001b[38;5;28;01mreturn\u001b[39;00m func(\u001b[38;5;241m*\u001b[39margs, \u001b[38;5;241m*\u001b[39m\u001b[38;5;241m*\u001b[39mkwargs)\n",
      "File \u001b[1;32mD:\\Program Files\\Anaconda\\Lib\\site-packages\\pandas\\core\\generic.py:3967\u001b[0m, in \u001b[0;36mNDFrame.to_csv\u001b[1;34m(self, path_or_buf, sep, na_rep, float_format, columns, header, index, index_label, mode, encoding, compression, quoting, quotechar, lineterminator, chunksize, date_format, doublequote, escapechar, decimal, errors, storage_options)\u001b[0m\n\u001b[0;32m   3956\u001b[0m df \u001b[38;5;241m=\u001b[39m \u001b[38;5;28mself\u001b[39m \u001b[38;5;28;01mif\u001b[39;00m \u001b[38;5;28misinstance\u001b[39m(\u001b[38;5;28mself\u001b[39m, ABCDataFrame) \u001b[38;5;28;01melse\u001b[39;00m \u001b[38;5;28mself\u001b[39m\u001b[38;5;241m.\u001b[39mto_frame()\n\u001b[0;32m   3958\u001b[0m formatter \u001b[38;5;241m=\u001b[39m DataFrameFormatter(\n\u001b[0;32m   3959\u001b[0m     frame\u001b[38;5;241m=\u001b[39mdf,\n\u001b[0;32m   3960\u001b[0m     header\u001b[38;5;241m=\u001b[39mheader,\n\u001b[1;32m   (...)\u001b[0m\n\u001b[0;32m   3964\u001b[0m     decimal\u001b[38;5;241m=\u001b[39mdecimal,\n\u001b[0;32m   3965\u001b[0m )\n\u001b[1;32m-> 3967\u001b[0m \u001b[38;5;28;01mreturn\u001b[39;00m DataFrameRenderer(formatter)\u001b[38;5;241m.\u001b[39mto_csv(\n\u001b[0;32m   3968\u001b[0m     path_or_buf,\n\u001b[0;32m   3969\u001b[0m     lineterminator\u001b[38;5;241m=\u001b[39mlineterminator,\n\u001b[0;32m   3970\u001b[0m     sep\u001b[38;5;241m=\u001b[39msep,\n\u001b[0;32m   3971\u001b[0m     encoding\u001b[38;5;241m=\u001b[39mencoding,\n\u001b[0;32m   3972\u001b[0m     errors\u001b[38;5;241m=\u001b[39merrors,\n\u001b[0;32m   3973\u001b[0m     compression\u001b[38;5;241m=\u001b[39mcompression,\n\u001b[0;32m   3974\u001b[0m     quoting\u001b[38;5;241m=\u001b[39mquoting,\n\u001b[0;32m   3975\u001b[0m     columns\u001b[38;5;241m=\u001b[39mcolumns,\n\u001b[0;32m   3976\u001b[0m     index_label\u001b[38;5;241m=\u001b[39mindex_label,\n\u001b[0;32m   3977\u001b[0m     mode\u001b[38;5;241m=\u001b[39mmode,\n\u001b[0;32m   3978\u001b[0m     chunksize\u001b[38;5;241m=\u001b[39mchunksize,\n\u001b[0;32m   3979\u001b[0m     quotechar\u001b[38;5;241m=\u001b[39mquotechar,\n\u001b[0;32m   3980\u001b[0m     date_format\u001b[38;5;241m=\u001b[39mdate_format,\n\u001b[0;32m   3981\u001b[0m     doublequote\u001b[38;5;241m=\u001b[39mdoublequote,\n\u001b[0;32m   3982\u001b[0m     escapechar\u001b[38;5;241m=\u001b[39mescapechar,\n\u001b[0;32m   3983\u001b[0m     storage_options\u001b[38;5;241m=\u001b[39mstorage_options,\n\u001b[0;32m   3984\u001b[0m )\n",
      "File \u001b[1;32mD:\\Program Files\\Anaconda\\Lib\\site-packages\\pandas\\io\\formats\\format.py:1014\u001b[0m, in \u001b[0;36mDataFrameRenderer.to_csv\u001b[1;34m(self, path_or_buf, encoding, sep, columns, index_label, mode, compression, quoting, quotechar, lineterminator, chunksize, date_format, doublequote, escapechar, errors, storage_options)\u001b[0m\n\u001b[0;32m    993\u001b[0m     created_buffer \u001b[38;5;241m=\u001b[39m \u001b[38;5;28;01mFalse\u001b[39;00m\n\u001b[0;32m    995\u001b[0m csv_formatter \u001b[38;5;241m=\u001b[39m CSVFormatter(\n\u001b[0;32m    996\u001b[0m     path_or_buf\u001b[38;5;241m=\u001b[39mpath_or_buf,\n\u001b[0;32m    997\u001b[0m     lineterminator\u001b[38;5;241m=\u001b[39mlineterminator,\n\u001b[1;32m   (...)\u001b[0m\n\u001b[0;32m   1012\u001b[0m     formatter\u001b[38;5;241m=\u001b[39m\u001b[38;5;28mself\u001b[39m\u001b[38;5;241m.\u001b[39mfmt,\n\u001b[0;32m   1013\u001b[0m )\n\u001b[1;32m-> 1014\u001b[0m csv_formatter\u001b[38;5;241m.\u001b[39msave()\n\u001b[0;32m   1016\u001b[0m \u001b[38;5;28;01mif\u001b[39;00m created_buffer:\n\u001b[0;32m   1017\u001b[0m     \u001b[38;5;28;01massert\u001b[39;00m \u001b[38;5;28misinstance\u001b[39m(path_or_buf, StringIO)\n",
      "File \u001b[1;32mD:\\Program Files\\Anaconda\\Lib\\site-packages\\pandas\\io\\formats\\csvs.py:251\u001b[0m, in \u001b[0;36mCSVFormatter.save\u001b[1;34m(self)\u001b[0m\n\u001b[0;32m    247\u001b[0m \u001b[38;5;250m\u001b[39m\u001b[38;5;124;03m\"\"\"\u001b[39;00m\n\u001b[0;32m    248\u001b[0m \u001b[38;5;124;03mCreate the writer & save.\u001b[39;00m\n\u001b[0;32m    249\u001b[0m \u001b[38;5;124;03m\"\"\"\u001b[39;00m\n\u001b[0;32m    250\u001b[0m \u001b[38;5;66;03m# apply compression and byte/text conversion\u001b[39;00m\n\u001b[1;32m--> 251\u001b[0m \u001b[38;5;28;01mwith\u001b[39;00m get_handle(\n\u001b[0;32m    252\u001b[0m     \u001b[38;5;28mself\u001b[39m\u001b[38;5;241m.\u001b[39mfilepath_or_buffer,\n\u001b[0;32m    253\u001b[0m     \u001b[38;5;28mself\u001b[39m\u001b[38;5;241m.\u001b[39mmode,\n\u001b[0;32m    254\u001b[0m     encoding\u001b[38;5;241m=\u001b[39m\u001b[38;5;28mself\u001b[39m\u001b[38;5;241m.\u001b[39mencoding,\n\u001b[0;32m    255\u001b[0m     errors\u001b[38;5;241m=\u001b[39m\u001b[38;5;28mself\u001b[39m\u001b[38;5;241m.\u001b[39merrors,\n\u001b[0;32m    256\u001b[0m     compression\u001b[38;5;241m=\u001b[39m\u001b[38;5;28mself\u001b[39m\u001b[38;5;241m.\u001b[39mcompression,\n\u001b[0;32m    257\u001b[0m     storage_options\u001b[38;5;241m=\u001b[39m\u001b[38;5;28mself\u001b[39m\u001b[38;5;241m.\u001b[39mstorage_options,\n\u001b[0;32m    258\u001b[0m ) \u001b[38;5;28;01mas\u001b[39;00m handles:\n\u001b[0;32m    259\u001b[0m     \u001b[38;5;66;03m# Note: self.encoding is irrelevant here\u001b[39;00m\n\u001b[0;32m    260\u001b[0m     \u001b[38;5;28mself\u001b[39m\u001b[38;5;241m.\u001b[39mwriter \u001b[38;5;241m=\u001b[39m csvlib\u001b[38;5;241m.\u001b[39mwriter(\n\u001b[0;32m    261\u001b[0m         handles\u001b[38;5;241m.\u001b[39mhandle,\n\u001b[0;32m    262\u001b[0m         lineterminator\u001b[38;5;241m=\u001b[39m\u001b[38;5;28mself\u001b[39m\u001b[38;5;241m.\u001b[39mlineterminator,\n\u001b[1;32m   (...)\u001b[0m\n\u001b[0;32m    267\u001b[0m         quotechar\u001b[38;5;241m=\u001b[39m\u001b[38;5;28mself\u001b[39m\u001b[38;5;241m.\u001b[39mquotechar,\n\u001b[0;32m    268\u001b[0m     )\n\u001b[0;32m    270\u001b[0m     \u001b[38;5;28mself\u001b[39m\u001b[38;5;241m.\u001b[39m_save()\n",
      "File \u001b[1;32mD:\\Program Files\\Anaconda\\Lib\\site-packages\\pandas\\io\\common.py:873\u001b[0m, in \u001b[0;36mget_handle\u001b[1;34m(path_or_buf, mode, encoding, compression, memory_map, is_text, errors, storage_options)\u001b[0m\n\u001b[0;32m    868\u001b[0m \u001b[38;5;28;01melif\u001b[39;00m \u001b[38;5;28misinstance\u001b[39m(handle, \u001b[38;5;28mstr\u001b[39m):\n\u001b[0;32m    869\u001b[0m     \u001b[38;5;66;03m# Check whether the filename is to be opened in binary mode.\u001b[39;00m\n\u001b[0;32m    870\u001b[0m     \u001b[38;5;66;03m# Binary mode does not support 'encoding' and 'newline'.\u001b[39;00m\n\u001b[0;32m    871\u001b[0m     \u001b[38;5;28;01mif\u001b[39;00m ioargs\u001b[38;5;241m.\u001b[39mencoding \u001b[38;5;129;01mand\u001b[39;00m \u001b[38;5;124m\"\u001b[39m\u001b[38;5;124mb\u001b[39m\u001b[38;5;124m\"\u001b[39m \u001b[38;5;129;01mnot\u001b[39;00m \u001b[38;5;129;01min\u001b[39;00m ioargs\u001b[38;5;241m.\u001b[39mmode:\n\u001b[0;32m    872\u001b[0m         \u001b[38;5;66;03m# Encoding\u001b[39;00m\n\u001b[1;32m--> 873\u001b[0m         handle \u001b[38;5;241m=\u001b[39m \u001b[38;5;28mopen\u001b[39m(\n\u001b[0;32m    874\u001b[0m             handle,\n\u001b[0;32m    875\u001b[0m             ioargs\u001b[38;5;241m.\u001b[39mmode,\n\u001b[0;32m    876\u001b[0m             encoding\u001b[38;5;241m=\u001b[39mioargs\u001b[38;5;241m.\u001b[39mencoding,\n\u001b[0;32m    877\u001b[0m             errors\u001b[38;5;241m=\u001b[39merrors,\n\u001b[0;32m    878\u001b[0m             newline\u001b[38;5;241m=\u001b[39m\u001b[38;5;124m\"\u001b[39m\u001b[38;5;124m\"\u001b[39m,\n\u001b[0;32m    879\u001b[0m         )\n\u001b[0;32m    880\u001b[0m     \u001b[38;5;28;01melse\u001b[39;00m:\n\u001b[0;32m    881\u001b[0m         \u001b[38;5;66;03m# Binary mode\u001b[39;00m\n\u001b[0;32m    882\u001b[0m         handle \u001b[38;5;241m=\u001b[39m \u001b[38;5;28mopen\u001b[39m(handle, ioargs\u001b[38;5;241m.\u001b[39mmode)\n",
      "\u001b[1;31mPermissionError\u001b[0m: [Errno 13] Permission denied: 'featured_fitness_dataset.csv'"
     ]
    }
   ],
   "source": [
    "# Save featured  dataset\n",
    "\n",
    "featured_path = \"featured_fitness_dataset.csv\"\n",
    "df.to_csv(featured_path, index=False)\n",
    "\n"
   ]
  },
  {
   "cell_type": "code",
   "execution_count": null,
   "id": "3bc1a564-650f-4ef5-931a-697e98ec223e",
   "metadata": {
    "colab": {
     "base_uri": "https://localhost:8080/",
     "height": 243
    },
    "id": "3bc1a564-650f-4ef5-931a-697e98ec223e",
    "outputId": "a76911bb-c84d-4164-fb37-e535c1fed5ae"
   },
   "outputs": [],
   "source": [
    "df.head()"
   ]
  },
  {
   "cell_type": "markdown",
   "id": "67599930-61ed-493a-a76a-247f38573d19",
   "metadata": {
    "id": "67599930-61ed-493a-a76a-247f38573d19"
   },
   "source": [
    "### Feature Engineering Done\n",
    "To enhance the dataset and derive more insights, several new features were created based on existing variables. These transformations aim to represent physiological and workout performance metrics more meaningfully.\n",
    "\n",
    "\n",
    "\n",
    "```Workout_Intensity```\n",
    ">Ratio of average heart rate to maximum heart rate during workouts.\tAvg_BPM / Max_BPM\n",
    "\n",
    "```Calories_per_Min```\n",
    ">Efficiency of calorie burn per minute of workout session.\tCalories_Burned / (Session_Duration_hours * 60)\n",
    "\n",
    "```HRR (Heart Rate Reserve)```\n",
    ">A marker of cardiovascular fitness, indicating recovery potential.\tMax_BPM - Resting_BPM\n",
    "\n",
    "```BMI_Category```\n",
    ">Categorized BMI to indicate weight classification.\tDerived from BMI: underweight, normal, overweight, obese (based on standard cutoffs)\n",
    "\n",
    "```Hydration_per_Kg```\n",
    ">Normalized water intake by individual body weight.\tWater_Intake_liters / Weight_kg"
   ]
  },
  {
   "cell_type": "markdown",
   "id": "668bd5d8-08f5-4c72-8927-ba61f7f7947e",
   "metadata": {
    "id": "668bd5d8-08f5-4c72-8927-ba61f7f7947e"
   },
   "source": [
    "# Elementry DATA Analysis"
   ]
  },
  {
   "cell_type": "markdown",
   "id": "242eba3a-0d0f-4e12-a6e4-27aa1201b67f",
   "metadata": {
    "id": "242eba3a-0d0f-4e12-a6e4-27aa1201b67f"
   },
   "source": [
    ">Now we will analyse the data"
   ]
  },
  {
   "cell_type": "markdown",
   "id": "e4179f3e-e520-4748-8188-13ccfb13dc5e",
   "metadata": {
    "id": "e4179f3e-e520-4748-8188-13ccfb13dc5e"
   },
   "source": [
    "#### Univariate Analysyis"
   ]
  },
  {
   "cell_type": "code",
   "execution_count": null,
   "id": "c4000fe3-c0d8-4cd5-9a5f-56e12f66f92b",
   "metadata": {
    "id": "c4000fe3-c0d8-4cd5-9a5f-56e12f66f92b"
   },
   "outputs": [],
   "source": [
    "numerical_cols = [\n",
    "    'Age', 'Weight_kg', 'Height_m', 'Max_BPM', 'Avg_BPM', 'Resting_BPM',\n",
    "    'Session_Duration_hours', 'Calories_Burned', 'Fat_Percentage',\n",
    "    'Water_Intake_liters', 'Workout_Frequency_days_per_week', 'BMI',\n",
    "    'Workout_Intensity', 'Calories_per_Min', 'HRR', 'Hydration_per_Kg'\n",
    "]\n",
    "\n",
    "categorical_cols = ['Gender', 'Workout_Type', 'Experience_Level', 'BMI_Category']"
   ]
  },
  {
   "cell_type": "code",
   "execution_count": null,
   "id": "20cb4c0d-7f14-40aa-b6a5-000e867b8736",
   "metadata": {
    "colab": {
     "base_uri": "https://localhost:8080/",
     "height": 551
    },
    "id": "20cb4c0d-7f14-40aa-b6a5-000e867b8736",
    "outputId": "fb1fc6ef-fb5d-48e8-8a97-afc9a0110ec0"
   },
   "outputs": [],
   "source": [
    "# Descriptive stats\n",
    "df[numerical_cols].describe().T\n"
   ]
  },
  {
   "cell_type": "code",
   "execution_count": null,
   "id": "f8101565-e549-4b38-b731-586ac5c593a4",
   "metadata": {
    "id": "f8101565-e549-4b38-b731-586ac5c593a4"
   },
   "outputs": [],
   "source": []
  },
  {
   "cell_type": "code",
   "execution_count": null,
   "id": "8b2fd4a6-ab34-4eb8-b286-b1a75a7dad58",
   "metadata": {
    "id": "8b2fd4a6-ab34-4eb8-b286-b1a75a7dad58"
   },
   "outputs": [],
   "source": []
  },
  {
   "cell_type": "markdown",
   "id": "c0a09bb3-6237-480b-aa5c-1d7671441698",
   "metadata": {
    "id": "c0a09bb3-6237-480b-aa5c-1d7671441698"
   },
   "source": [
    ">Age"
   ]
  },
  {
   "cell_type": "code",
   "execution_count": null,
   "id": "aba1cf28-ae48-4499-90f8-c2b9bce66c61",
   "metadata": {
    "colab": {
     "base_uri": "https://localhost:8080/",
     "height": 487
    },
    "id": "aba1cf28-ae48-4499-90f8-c2b9bce66c61",
    "outputId": "c20921fd-6624-473a-e848-ebca6dc3e8a1"
   },
   "outputs": [],
   "source": [
    "import matplotlib.pyplot as plt\n",
    "import seaborn as sns\n",
    "\n",
    "plt.figure(figsize=(12, 5))\n",
    "sns.histplot(df['Age'], kde=True, bins=20, color='skyblue')\n",
    "plt.title('Distribution of Age')\n",
    "plt.xlabel('Age')\n",
    "plt.ylabel('Count')\n",
    "plt.show()\n"
   ]
  },
  {
   "cell_type": "markdown",
   "id": "8f94af48-2fd3-4d16-ac97-ff837d9f0011",
   "metadata": {
    "id": "8f94af48-2fd3-4d16-ac97-ff837d9f0011"
   },
   "source": [
    ">Most users are between 24–42 years.\n",
    "\n",
    ">Right-skewed tail; very few users above 60."
   ]
  },
  {
   "cell_type": "markdown",
   "id": "693f6a04-cce0-460b-bbd8-d29e50ddab80",
   "metadata": {
    "id": "693f6a04-cce0-460b-bbd8-d29e50ddab80"
   },
   "source": [
    ">weight"
   ]
  },
  {
   "cell_type": "code",
   "execution_count": null,
   "id": "b57a97a8-ab6a-4f51-8463-5ffdf4252b9d",
   "metadata": {
    "colab": {
     "base_uri": "https://localhost:8080/",
     "height": 487
    },
    "id": "b57a97a8-ab6a-4f51-8463-5ffdf4252b9d",
    "outputId": "cf960381-a65e-4a48-943b-32092feb071c"
   },
   "outputs": [],
   "source": [
    "plt.figure(figsize=(12, 5))\n",
    "sns.boxplot(x=df['Weight_kg'], color='lightgreen')\n",
    "plt.title('Boxplot of Weight (kg)')\n",
    "plt.xlabel('Weight (kg)')\n",
    "plt.show()"
   ]
  },
  {
   "cell_type": "markdown",
   "id": "1f257b26-e406-4a94-8e9c-f6a42e5b52b9",
   "metadata": {
    "id": "1f257b26-e406-4a94-8e9c-f6a42e5b52b9"
   },
   "source": [
    ">Majority weigh between 63–84 kg.\n",
    "\n",
    ">Some potential outliers near 116 kg."
   ]
  },
  {
   "cell_type": "code",
   "execution_count": null,
   "id": "4f6365a6-b805-4627-9320-b7ba944c6b23",
   "metadata": {
    "colab": {
     "base_uri": "https://localhost:8080/",
     "height": 472
    },
    "id": "4f6365a6-b805-4627-9320-b7ba944c6b23",
    "outputId": "71db1062-1ce0-4fd5-9093-de4f49846083"
   },
   "outputs": [],
   "source": [
    "BMI_cat=df['BMI_Category']\n",
    "sns.countplot(x=BMI_cat, hue=BMI_cat, legend=False, palette='Set2')\n",
    "plt.title('BMI Category Counts')\n",
    "plt.xlabel('BMI CAtegories')\n",
    "plt.ylabel('Number of Users')\n",
    "plt.show()\n"
   ]
  },
  {
   "cell_type": "markdown",
   "id": "7dabcbea-28b6-4bb2-83f5-b672906611d2",
   "metadata": {
    "id": "7dabcbea-28b6-4bb2-83f5-b672906611d2"
   },
   "source": [
    ">Height"
   ]
  },
  {
   "cell_type": "code",
   "execution_count": null,
   "id": "f1134a22-168a-4925-8c9c-c6dccfad843e",
   "metadata": {
    "colab": {
     "base_uri": "https://localhost:8080/",
     "height": 472
    },
    "id": "f1134a22-168a-4925-8c9c-c6dccfad843e",
    "outputId": "1703dd6a-531d-4872-f45f-a8bd138c29a5"
   },
   "outputs": [],
   "source": [
    "sns.histplot(df['Height_m'], bins=20, kde=True, color='orange')\n",
    "plt.title('Distribution of Height (m)')\n",
    "plt.xlabel('Height (m)')\n",
    "plt.show()"
   ]
  },
  {
   "cell_type": "markdown",
   "id": "7436991d-daec-400f-ac1a-9f0886d0e1c1",
   "metadata": {
    "id": "7436991d-daec-400f-ac1a-9f0886d0e1c1"
   },
   "source": [
    ">Most users are between 1.64 m and 1.79 m.\n",
    "\n",
    ">Near-normal distribution."
   ]
  },
  {
   "cell_type": "code",
   "execution_count": null,
   "id": "02a4f07f-84f9-4cfc-a064-08c8371f1672",
   "metadata": {
    "id": "02a4f07f-84f9-4cfc-a064-08c8371f1672"
   },
   "outputs": [],
   "source": []
  },
  {
   "cell_type": "markdown",
   "id": "445ca946-cea1-40e6-95da-5c15caa6cd6b",
   "metadata": {
    "id": "445ca946-cea1-40e6-95da-5c15caa6cd6b"
   },
   "source": [
    ">MAX_BPM"
   ]
  },
  {
   "cell_type": "code",
   "execution_count": null,
   "id": "5b98cab4-8118-447e-af3a-968010a6e95d",
   "metadata": {
    "colab": {
     "base_uri": "https://localhost:8080/",
     "height": 472
    },
    "id": "5b98cab4-8118-447e-af3a-968010a6e95d",
    "outputId": "50684d9a-bf5f-41a7-a9e4-6887a356e111"
   },
   "outputs": [],
   "source": [
    "sns.histplot(df['Max_BPM'], bins=20, kde=True, color='red')\n",
    "plt.title('Max BPM Distribution')\n",
    "plt.xlabel('Max BPM')\n",
    "plt.show()\n"
   ]
  },
  {
   "cell_type": "markdown",
   "id": "10802025-10c6-4951-9864-964f228be4d1",
   "metadata": {
    "id": "10802025-10c6-4951-9864-964f228be4d1"
   },
   "source": [
    ">Common max BPM lies around 177–196.\n",
    "\n",
    ">Max of 210 suggests some users push intense cardio."
   ]
  },
  {
   "cell_type": "markdown",
   "id": "1e0c351a-ba83-4e92-bad6-7511f1739d37",
   "metadata": {
    "id": "1e0c351a-ba83-4e92-bad6-7511f1739d37"
   },
   "source": []
  },
  {
   "cell_type": "markdown",
   "id": "bde8c524-62a6-4a7a-aca4-265b5eb73437",
   "metadata": {
    "id": "bde8c524-62a6-4a7a-aca4-265b5eb73437"
   },
   "source": [
    ">Resting BPM"
   ]
  },
  {
   "cell_type": "code",
   "execution_count": null,
   "id": "7b6dd150-f130-4a4b-93d2-6e622d421336",
   "metadata": {
    "colab": {
     "base_uri": "https://localhost:8080/",
     "height": 472
    },
    "id": "7b6dd150-f130-4a4b-93d2-6e622d421336",
    "outputId": "e8e15482-e4e1-48fd-d5ed-f5b7d4f4d0ec"
   },
   "outputs": [],
   "source": [
    "sns.boxplot(x=df['Resting_BPM'], color='purple')\n",
    "plt.title('Boxplot of Resting BPM')\n",
    "plt.show()"
   ]
  },
  {
   "cell_type": "markdown",
   "id": "8aee1ca3-9753-435a-8c5f-eeae503ffcb5",
   "metadata": {
    "id": "8aee1ca3-9753-435a-8c5f-eeae503ffcb5"
   },
   "source": [
    ">Median is 71 BPM, which is healthy.\n",
    "\n",
    ">Few resting BPMs above 85 may suggest poor cardio health.\n"
   ]
  },
  {
   "cell_type": "code",
   "execution_count": null,
   "id": "da04df2e-d4cb-4966-894f-9a6cee119735",
   "metadata": {
    "id": "da04df2e-d4cb-4966-894f-9a6cee119735"
   },
   "outputs": [],
   "source": []
  },
  {
   "cell_type": "markdown",
   "id": "a162c6f5-fbb2-4d97-b07e-ff0e2473756f",
   "metadata": {
    "id": "a162c6f5-fbb2-4d97-b07e-ff0e2473756f"
   },
   "source": [
    "\n",
    ">Calories Burned"
   ]
  },
  {
   "cell_type": "code",
   "execution_count": null,
   "id": "b48a23b2-5ad1-4060-a68d-a8380732beeb",
   "metadata": {
    "colab": {
     "base_uri": "https://localhost:8080/",
     "height": 472
    },
    "id": "b48a23b2-5ad1-4060-a68d-a8380732beeb",
    "outputId": "18dfe759-3f33-4027-c35f-a2931bb11855"
   },
   "outputs": [],
   "source": [
    "sns.histplot(df['Calories_Burned'], bins=25, kde=True, color='salmon')\n",
    "plt.title('Calories Burned per Session')\n",
    "plt.xlabel('Calories')\n",
    "plt.show()"
   ]
  },
  {
   "cell_type": "markdown",
   "id": "e278af3d-2276-4ca7-a8aa-6ffd4b8479a1",
   "metadata": {
    "id": "e278af3d-2276-4ca7-a8aa-6ffd4b8479a1"
   },
   "source": [
    ">Majority burn between 298–505 calories.\n",
    "\n",
    ">Tail suggests high-effort sessions (up to 866)."
   ]
  },
  {
   "cell_type": "code",
   "execution_count": null,
   "id": "ab746905-fd9d-4f50-a3d2-3094b6e08cd9",
   "metadata": {
    "id": "ab746905-fd9d-4f50-a3d2-3094b6e08cd9"
   },
   "outputs": [],
   "source": []
  },
  {
   "cell_type": "markdown",
   "id": "87a50cba-bc24-4d58-862f-59c849b9da4d",
   "metadata": {
    "id": "87a50cba-bc24-4d58-862f-59c849b9da4d"
   },
   "source": [
    ">wter_intake_litres"
   ]
  },
  {
   "cell_type": "code",
   "execution_count": null,
   "id": "4c2ec959-7e35-4f8b-9ca3-3594e40e20f2",
   "metadata": {
    "colab": {
     "base_uri": "https://localhost:8080/",
     "height": 472
    },
    "id": "4c2ec959-7e35-4f8b-9ca3-3594e40e20f2",
    "outputId": "d8fee8e1-a86b-4150-c65a-057305bc9a6a"
   },
   "outputs": [],
   "source": [
    "sns.boxplot(x=df['Water_Intake_liters'], color='deepskyblue')\n",
    "plt.title('Boxplot of Water Intake (liters)')\n",
    "plt.show()"
   ]
  },
  {
   "cell_type": "markdown",
   "id": "f3d0d381-fea2-4ba1-aac7-64b48be93912",
   "metadata": {
    "id": "f3d0d381-fea2-4ba1-aac7-64b48be93912"
   },
   "source": [
    ">Normal users consume 2.1–2.6 liters.\n",
    "\n",
    ">One extreme outlier at 39 liters likely needs removal."
   ]
  },
  {
   "cell_type": "code",
   "execution_count": null,
   "id": "3c8faceb-660f-4b43-aba3-2bfb22d2ae10",
   "metadata": {
    "id": "3c8faceb-660f-4b43-aba3-2bfb22d2ae10"
   },
   "outputs": [],
   "source": []
  },
  {
   "cell_type": "markdown",
   "id": "75f24cc8-4228-41f9-8457-2e80b069f28f",
   "metadata": {
    "id": "75f24cc8-4228-41f9-8457-2e80b069f28f"
   },
   "source": [
    ">Workout_intensity"
   ]
  },
  {
   "cell_type": "code",
   "execution_count": null,
   "id": "41d3fb2a-6ab6-4e9b-82f5-3696a2df3a5c",
   "metadata": {
    "colab": {
     "base_uri": "https://localhost:8080/",
     "height": 472
    },
    "id": "41d3fb2a-6ab6-4e9b-82f5-3696a2df3a5c",
    "outputId": "60411e53-1bf9-4694-f8fa-52365b3f5e12"
   },
   "outputs": [],
   "source": [
    "sns.histplot(df['Workout_Intensity'], bins=20, kde=True, color='slateblue')\n",
    "plt.title('Workout Intensity Distribution')\n",
    "plt.show()"
   ]
  },
  {
   "cell_type": "markdown",
   "id": "edbe91be-fe2d-4cd0-8193-9a0ff53ac90f",
   "metadata": {
    "id": "edbe91be-fe2d-4cd0-8193-9a0ff53ac90f"
   },
   "source": [
    ">Median around 0.73, suggesting moderate-intensity workouts.\n",
    "\n",
    ">Right tail means a few intense trainers."
   ]
  },
  {
   "cell_type": "code",
   "execution_count": null,
   "id": "aca6812b-62c9-4e51-8491-579484c1deaf",
   "metadata": {
    "id": "aca6812b-62c9-4e51-8491-579484c1deaf"
   },
   "outputs": [],
   "source": []
  },
  {
   "cell_type": "markdown",
   "id": "dd827717-2672-442a-816e-787f56cca1e3",
   "metadata": {
    "id": "dd827717-2672-442a-816e-787f56cca1e3"
   },
   "source": [
    ">Workout_Frequency_days_per_week"
   ]
  },
  {
   "cell_type": "code",
   "execution_count": null,
   "id": "c285b15b-8c51-4d2b-a582-4b0dc213781f",
   "metadata": {
    "colab": {
     "base_uri": "https://localhost:8080/",
     "height": 472
    },
    "id": "c285b15b-8c51-4d2b-a582-4b0dc213781f",
    "outputId": "7f98779b-167a-46b1-faa0-d78e1dd6ba68"
   },
   "outputs": [],
   "source": [
    "wfd=df['Workout_Frequency_days_per_week']\n",
    "sns.countplot(x=wfd, hue=wfd, legend=False, palette='Set2')\n",
    "plt.title('Workout Frequency per Week')\n",
    "plt.xlabel('Days per Week')\n",
    "plt.ylabel('Number of Users')\n",
    "plt.show()\n"
   ]
  },
  {
   "cell_type": "markdown",
   "id": "42180cd0-c9c9-460f-9c0c-27dde32baac0",
   "metadata": {
    "id": "42180cd0-c9c9-460f-9c0c-27dde32baac0"
   },
   "source": [
    ">Most users work out 3–4 days per week.\n",
    "\n",
    ">Few exercise daily or just 2 days.\n"
   ]
  },
  {
   "cell_type": "code",
   "execution_count": null,
   "id": "d07b80c1-4ee8-413a-9a14-d59f5fbb52b9",
   "metadata": {
    "id": "d07b80c1-4ee8-413a-9a14-d59f5fbb52b9"
   },
   "outputs": [],
   "source": []
  },
  {
   "cell_type": "markdown",
   "id": "4bfec30c-5926-4d6c-9cf6-51a6f29eedf1",
   "metadata": {
    "id": "4bfec30c-5926-4d6c-9cf6-51a6f29eedf1"
   },
   "source": [
    ">BMI"
   ]
  },
  {
   "cell_type": "code",
   "execution_count": null,
   "id": "87059dff-7a7e-4b39-ab24-330c23f16c7f",
   "metadata": {
    "colab": {
     "base_uri": "https://localhost:8080/",
     "height": 472
    },
    "id": "87059dff-7a7e-4b39-ab24-330c23f16c7f",
    "outputId": "eebd4a9d-2908-4221-f2f5-83355be6cf9e"
   },
   "outputs": [],
   "source": [
    "sns.histplot(df['BMI'], bins=20, kde=True, color='darkcyan')\n",
    "plt.title('BMI Distribution')\n",
    "plt.show()"
   ]
  },
  {
   "cell_type": "markdown",
   "id": "9d59d748-b8be-4c0e-9046-53071ad1f207",
   "metadata": {
    "id": "9d59d748-b8be-4c0e-9046-53071ad1f207"
   },
   "source": [
    ">Most users have BMI between 22–28.\n",
    "\n",
    ">Suggests a healthy to overweight population."
   ]
  },
  {
   "cell_type": "code",
   "execution_count": null,
   "id": "409d0c07-b7c0-4225-b7cc-fbd1d4f65fd6",
   "metadata": {
    "id": "409d0c07-b7c0-4225-b7cc-fbd1d4f65fd6"
   },
   "outputs": [],
   "source": []
  },
  {
   "cell_type": "markdown",
   "id": "40c482d1-6967-49f3-9272-ef73b7e7cc45",
   "metadata": {
    "id": "40c482d1-6967-49f3-9272-ef73b7e7cc45"
   },
   "source": [
    ">Hydration_per_Kg"
   ]
  },
  {
   "cell_type": "code",
   "execution_count": null,
   "id": "28c6ba2a-4e32-4360-8b7d-f0f3f152d556",
   "metadata": {
    "colab": {
     "base_uri": "https://localhost:8080/",
     "height": 472
    },
    "id": "28c6ba2a-4e32-4360-8b7d-f0f3f152d556",
    "outputId": "9856ebbc-427c-4d7a-ef33-a4aedcaedc05"
   },
   "outputs": [],
   "source": [
    "sns.boxplot(x=df['Hydration_per_Kg'], color='cyan')\n",
    "plt.title('Hydration per Kg')\n",
    "plt.show()"
   ]
  },
  {
   "cell_type": "markdown",
   "id": "ae732c24-311c-46e2-a49b-3a94cd29516c",
   "metadata": {
    "id": "ae732c24-311c-46e2-a49b-3a94cd29516c"
   },
   "source": [
    ">Most users hydrate at 0.03–0.04 L/kg.\n",
    "\n",
    ">One extreme outlier (0.508) likely invalid."
   ]
  },
  {
   "cell_type": "code",
   "execution_count": null,
   "id": "eea168ec-c94c-4e95-8c3c-51eb0ca2b439",
   "metadata": {
    "id": "eea168ec-c94c-4e95-8c3c-51eb0ca2b439"
   },
   "outputs": [],
   "source": []
  },
  {
   "cell_type": "markdown",
   "id": "9a719013-9e9c-4990-9d00-70cdee41bbcd",
   "metadata": {
    "id": "9a719013-9e9c-4990-9d00-70cdee41bbcd"
   },
   "source": [
    ">Calories_per_Min"
   ]
  },
  {
   "cell_type": "code",
   "execution_count": null,
   "id": "e3cbe03a-326e-4537-bf2f-5081d40a9a0c",
   "metadata": {
    "colab": {
     "base_uri": "https://localhost:8080/",
     "height": 472
    },
    "id": "e3cbe03a-326e-4537-bf2f-5081d40a9a0c",
    "outputId": "197315ec-b80a-429c-9045-25db1c07ab1e"
   },
   "outputs": [],
   "source": [
    "sns.histplot(df['Calories_per_Min'], bins=20, kde=True, color='tomato')\n",
    "plt.title('Calories Burned per Minute')\n",
    "plt.show()"
   ]
  },
  {
   "cell_type": "markdown",
   "id": "87ca4647-95c0-4932-8412-c1c8985c39e2",
   "metadata": {
    "id": "87ca4647-95c0-4932-8412-c1c8985c39e2"
   },
   "source": [
    ">Most burn between 7.2–11.5 cal/min, which is efficient.\n",
    "\n",
    ">Very few above 20 may be errors or extremely fit users."
   ]
  },
  {
   "cell_type": "code",
   "execution_count": null,
   "id": "1d566838-56d2-46e4-8ced-2e9cd978737c",
   "metadata": {
    "id": "1d566838-56d2-46e4-8ced-2e9cd978737c"
   },
   "outputs": [],
   "source": []
  },
  {
   "cell_type": "markdown",
   "id": "13618239-7c26-4816-8ea3-070895a294e9",
   "metadata": {
    "id": "13618239-7c26-4816-8ea3-070895a294e9"
   },
   "source": [
    "HRR"
   ]
  },
  {
   "cell_type": "code",
   "execution_count": null,
   "id": "481bfcd6-d34d-4357-b78b-8d1379bad96e",
   "metadata": {
    "colab": {
     "base_uri": "https://localhost:8080/",
     "height": 607
    },
    "id": "481bfcd6-d34d-4357-b78b-8d1379bad96e",
    "outputId": "add13e1e-4bd7-43fd-f70a-29fb6f6e85c7"
   },
   "outputs": [],
   "source": [
    "import matplotlib.pyplot as plt\n",
    "import seaborn as sns\n",
    "\n",
    "plt.figure(figsize=(14, 6))\n",
    "\n",
    "# Histogram with KDE\n",
    "plt.subplot(1, 2, 1)\n",
    "sns.histplot(df['HRR'], bins=20, kde=True, color='mediumseagreen')\n",
    "plt.title('Distribution of Heart Rate Recovery (HRR)')\n",
    "plt.xlabel('HRR')\n",
    "plt.ylabel('Frequency')\n",
    "\n",
    "# Boxplot\n",
    "plt.subplot(1, 2, 2)\n",
    "sns.boxplot(x=df['HRR'], color='lightcoral')\n",
    "plt.title('Boxplot of HRR')\n",
    "plt.xlabel('HRR')\n",
    "\n",
    "plt.tight_layout()\n",
    "plt.show()"
   ]
  },
  {
   "cell_type": "code",
   "execution_count": null,
   "id": "d355bf24-4a55-4b3d-9edc-dde9c774a0d8",
   "metadata": {
    "id": "d355bf24-4a55-4b3d-9edc-dde9c774a0d8"
   },
   "outputs": [],
   "source": []
  },
  {
   "cell_type": "markdown",
   "id": "cf5d344b-7410-4dd0-8753-6708d6523016",
   "metadata": {
    "id": "cf5d344b-7410-4dd0-8753-6708d6523016"
   },
   "source": [
    ">HRR is centered around 115-126, indicating healthy recovery for most users.\n",
    "\n",
    ">Outliers (values < 90 or > 140) may signal unusually fast or slow recovery – possibly elite fitness or cardiac inefficiency."
   ]
  },
  {
   "cell_type": "code",
   "execution_count": null,
   "id": "43165073-9ce1-4087-83ed-038e3b2ec4c4",
   "metadata": {
    "id": "43165073-9ce1-4087-83ed-038e3b2ec4c4"
   },
   "outputs": [],
   "source": []
  },
  {
   "cell_type": "code",
   "execution_count": null,
   "id": "f6973067-5088-4463-9031-652e0dccbbd3",
   "metadata": {
    "colab": {
     "base_uri": "https://localhost:8080/"
    },
    "id": "f6973067-5088-4463-9031-652e0dccbbd3",
    "outputId": "473f7b1f-74a3-42b8-83db-acfc9ee6c4a8"
   },
   "outputs": [],
   "source": [
    "import pandas as pd\n",
    "\n",
    "# Clean Workout_Type (remove extra spaces or newlines)\n",
    "df['Workout_Type'] = df['Workout_Type'].str.strip()\n",
    "\n",
    "# 1. Average Calories Burned by Workout Type\n",
    "avg_calories_by_workout = df.groupby(\"Workout_Type\")[\"Calories_Burned\"].mean().round(1)\n",
    "\n",
    "# 2. Average Hydration per Kg by Gender\n",
    "avg_hydration_by_gender = df.groupby(\"Gender\")[\"Hydration_per_Kg\"].mean().round(4)\n",
    "\n",
    "# 3. Average Fat Percentage by Experience Level\n",
    "avg_fat_by_experience = df.groupby(\"Experience_Level\")[\"Fat_Percentage\"].mean().round(2)\n",
    "\n",
    "# 4. Calories per Minute by BMI Category\n",
    "cal_per_min_by_bmi_category = df.groupby(\"BMI_Category\")[\"Calories_per_Min\"].mean().round(2)\n",
    "\n",
    "# 5. Average HRR and Max_BPM by Workout Type\n",
    "hr_stats_by_workout = df.groupby(\"Workout_Type\")[[\"HRR\", \"Max_BPM\"]].mean().round(2)\n",
    "\n",
    "# 6. Workout Frequency and Duration by Experience Level\n",
    "workout_stats_by_experience = df.groupby(\"Experience_Level\")[[\"Workout_Frequency_days_per_week\", \"Session_Duration_hours\"]].mean().round(2)\n",
    "\n",
    "# Print all results\n",
    "print(\"Average Calories Burned by Workout Type:\\n\", avg_calories_by_workout, \"\\n\")\n",
    "print(\"Average Hydration per Kg by Gender:\\n\", avg_hydration_by_gender, \"\\n\")\n",
    "print(\"Average Fat Percentage by Experience Level:\\n\", avg_fat_by_experience, \"\\n\")\n",
    "print(\"Calories per Minute by BMI Category:\\n\", cal_per_min_by_bmi_category, \"\\n\")\n",
    "print(\"HRR and Max BPM by Workout Type:\\n\", hr_stats_by_workout, \"\\n\")\n",
    "print(\"Workout Frequency & Duration by Experience:\\n\", workout_stats_by_experience, \"\\n\")\n"
   ]
  },
  {
   "cell_type": "code",
   "execution_count": null,
   "id": "044b0b2b-bb28-4b54-aa6c-b328edeb8564",
   "metadata": {
    "colab": {
     "base_uri": "https://localhost:8080/",
     "height": 487
    },
    "id": "044b0b2b-bb28-4b54-aa6c-b328edeb8564",
    "outputId": "8bb8b26d-9b4b-4f05-d37c-6782cdd32d43"
   },
   "outputs": [],
   "source": [
    "df_exp = df.groupby(\"Experience_Level\")[[\"Workout_Frequency_days_per_week\", \"Session_Duration_hours\"]].mean().reset_index()\n",
    "df_exp_melted = df_exp.melt(id_vars=\"Experience_Level\", var_name=\"Metric\", value_name=\"Value\")\n",
    "\n",
    "sns.barplot(data=df_exp_melted, x=\"Experience_Level\", y=\"Value\", hue=\"Metric\", palette=\"pastel\")\n",
    "plt.title(\"Workout Frequency & Duration by Experience Level\")\n",
    "plt.ylabel(\"Average Value\")\n",
    "plt.xlabel(\"Experience Level\")\n",
    "plt.xticks(rotation=0)\n",
    "plt.tight_layout()\n",
    "plt.show()"
   ]
  },
  {
   "cell_type": "code",
   "execution_count": null,
   "id": "40ce5560-0523-4791-9b82-a69f84bf3c89",
   "metadata": {
    "id": "40ce5560-0523-4791-9b82-a69f84bf3c89"
   },
   "outputs": [],
   "source": []
  },
  {
   "cell_type": "code",
   "execution_count": null,
   "id": "10cac8a7-3cba-4bb8-969d-9200c7271610",
   "metadata": {
    "colab": {
     "base_uri": "https://localhost:8080/",
     "height": 487
    },
    "id": "10cac8a7-3cba-4bb8-969d-9200c7271610",
    "outputId": "d77b5961-c129-4200-d53f-caddec7dd26a"
   },
   "outputs": [],
   "source": [
    "sns.barplot(data=df, x=\"BMI_Category\", y=\"Calories_per_Min\", hue ='BMI_Category',estimator='mean', errorbar=None, palette=\"Accent\")\n",
    "plt.title(\"Calories per Minute by BMI Category\")\n",
    "plt.ylabel(\"Calories/Min\")\n",
    "plt.xlabel(\"BMI Category\")\n",
    "plt.tight_layout()\n",
    "plt.show()\n"
   ]
  },
  {
   "cell_type": "code",
   "execution_count": null,
   "id": "2cd77e9c-5e96-427f-af43-2df9cd2d5d82",
   "metadata": {
    "id": "2cd77e9c-5e96-427f-af43-2df9cd2d5d82"
   },
   "outputs": [],
   "source": []
  },
  {
   "cell_type": "code",
   "execution_count": null,
   "id": "043d3a86-5570-4e92-879e-91edc779629b",
   "metadata": {
    "colab": {
     "base_uri": "https://localhost:8080/",
     "height": 487
    },
    "id": "043d3a86-5570-4e92-879e-91edc779629b",
    "outputId": "13ed9198-5c5d-4bc3-8338-89234e6a787d"
   },
   "outputs": [],
   "source": [
    "sns.barplot(data=df, x=\"Experience_Level\", y=\"Fat_Percentage\", estimator='mean', hue=\"Experience_Level\", errorbar=None, palette=\"viridis\")\n",
    "plt.title(\"Avg Fat % by Experience Level\")\n",
    "plt.ylabel(\"Fat Percentage\")\n",
    "plt.xlabel(\"Experience Level\")\n",
    "plt.tight_layout()\n",
    "plt.show()\n"
   ]
  },
  {
   "cell_type": "code",
   "execution_count": null,
   "id": "5eb9ad95-12f2-4a85-83d6-412e5ec5fa2c",
   "metadata": {
    "id": "5eb9ad95-12f2-4a85-83d6-412e5ec5fa2c"
   },
   "outputs": [],
   "source": []
  },
  {
   "cell_type": "code",
   "execution_count": null,
   "id": "8e27afdf-2e68-4986-90f0-a533ef9ec31f",
   "metadata": {
    "colab": {
     "base_uri": "https://localhost:8080/",
     "height": 487
    },
    "id": "8e27afdf-2e68-4986-90f0-a533ef9ec31f",
    "outputId": "43218765-e6c1-495d-f062-ee3e8627c818"
   },
   "outputs": [],
   "source": [
    "sns.barplot(data=df, x=\"Gender\", y=\"Hydration_per_Kg\", hue='Gender', estimator='mean',errorbar=None, palette=\"Paired\")\n",
    "plt.title(\"Avg Hydration per Kg by Gender\")\n",
    "plt.ylabel(\"Hydration per Kg\")\n",
    "plt.xlabel(\"Gender\")\n",
    "plt.tight_layout()\n",
    "plt.show()"
   ]
  },
  {
   "cell_type": "code",
   "execution_count": null,
   "id": "8dd1ed51-3917-46c2-a47d-26b734b190ee",
   "metadata": {
    "id": "8dd1ed51-3917-46c2-a47d-26b734b190ee"
   },
   "outputs": [],
   "source": []
  },
  {
   "cell_type": "code",
   "execution_count": null,
   "id": "a1f62ca4-2fa6-4865-85e1-0e6e6e829912",
   "metadata": {
    "id": "a1f62ca4-2fa6-4865-85e1-0e6e6e829912"
   },
   "outputs": [],
   "source": []
  },
  {
   "cell_type": "code",
   "execution_count": null,
   "id": "e8808009-d6a0-470f-800c-2e0ee4b16674",
   "metadata": {
    "id": "e8808009-d6a0-470f-800c-2e0ee4b16674"
   },
   "outputs": [],
   "source": []
  },
  {
   "cell_type": "code",
   "execution_count": null,
   "id": "c7968a64-500c-4de5-9c0f-8f549479503d",
   "metadata": {
    "id": "c7968a64-500c-4de5-9c0f-8f549479503d"
   },
   "outputs": [],
   "source": []
  },
  {
   "cell_type": "markdown",
   "id": "d3629cac-5de3-4f7e-a888-565edd784ab8",
   "metadata": {
    "id": "d3629cac-5de3-4f7e-a888-565edd784ab8"
   },
   "source": [
    "> Bar Plot of Mean Calories Burned by Workout Type"
   ]
  },
  {
   "cell_type": "code",
   "execution_count": null,
   "id": "f84c06d8-2d85-4aec-b781-7ec806e67f25",
   "metadata": {
    "colab": {
     "base_uri": "https://localhost:8080/",
     "height": 607
    },
    "id": "f84c06d8-2d85-4aec-b781-7ec806e67f25",
    "outputId": "c01d40ed-6774-4178-eba4-26a400abb016"
   },
   "outputs": [],
   "source": [
    "import pandas as pd\n",
    "import seaborn as sns\n",
    "import matplotlib.pyplot as plt\n",
    "\n",
    "# Group by Workout_Type and get mean calories\n",
    "mean_calories = df.groupby('Workout_Type')['Calories_Burned'].mean().reset_index()\n",
    "\n",
    "# Sort for better visualization\n",
    "mean_calories = mean_calories.sort_values(by='Calories_Burned', ascending=False)\n",
    "\n",
    "# Bar plot\n",
    "plt.figure(figsize=(10, 6))\n",
    "sns.barplot(x='Workout_Type', y='Calories_Burned', hue='Workout_Type', data=mean_calories, palette='viridis')\n",
    "plt.title(\"Average Calories Burned by Workout Type\")\n",
    "plt.ylabel(\"Average Calories Burned\")\n",
    "plt.xlabel(\"Workout Type\")\n",
    "plt.xticks(rotation=45)\n",
    "plt.tight_layout()\n",
    "plt.show()\n"
   ]
  },
  {
   "cell_type": "markdown",
   "id": "6496ab7a-81a1-45cb-82a6-3965d198c2e6",
   "metadata": {
    "id": "6496ab7a-81a1-45cb-82a6-3965d198c2e6"
   },
   "source": [
    ">Running burn more calories than all other workout types and pilates burn lowe calories in all of them"
   ]
  },
  {
   "cell_type": "code",
   "execution_count": null,
   "id": "a6d7afcd-c11f-43c0-81a8-7777dc6d5e32",
   "metadata": {
    "id": "a6d7afcd-c11f-43c0-81a8-7777dc6d5e32"
   },
   "outputs": [],
   "source": []
  },
  {
   "cell_type": "markdown",
   "id": "02bb344e-992a-4848-9937-ddc1738ac087",
   "metadata": {
    "id": "02bb344e-992a-4848-9937-ddc1738ac087"
   },
   "source": [
    ">BIVARIATE\n",
    "\n",
    ">Workout_Intensity vs Calories_Burned (FeatureData)"
   ]
  },
  {
   "cell_type": "code",
   "execution_count": null,
   "id": "c3f129ad-14ed-41ff-8e1f-a25ee99cb9fb",
   "metadata": {
    "colab": {
     "base_uri": "https://localhost:8080/",
     "height": 607
    },
    "id": "c3f129ad-14ed-41ff-8e1f-a25ee99cb9fb",
    "outputId": "ef343ce4-e197-446d-b021-5a0aa6457fa2"
   },
   "outputs": [],
   "source": [
    "plt.figure(figsize=(10, 6))\n",
    "sns.kdeplot(\n",
    "    x='Workout_Intensity',\n",
    "    y='Calories_Burned',\n",
    "    data=df,\n",
    "    fill=True,\n",
    "    cmap=\"mako\",\n",
    "    thresh=0.05\n",
    ")\n",
    "plt.title(\"Workout Intensity vs Calories Burned (KDE Density)\")\n",
    "plt.xlabel(\"Workout Intensity\")\n",
    "plt.ylabel(\"Calories Burned\")\n",
    "plt.tight_layout()\n",
    "plt.show()\n"
   ]
  },
  {
   "cell_type": "markdown",
   "id": "e1017bbe-07cc-4c06-b80d-77d66796dc11",
   "metadata": {
    "id": "e1017bbe-07cc-4c06-b80d-77d66796dc11"
   },
   "source": [
    "### 📊 **Conclusion from KDE Plot (Workout Intensity vs Calories Burned)**\n",
    "\n",
    "This Kernel Density Estimation (KDE) plot shows the **density of data points** for `Workout_Intensity` and `Calories_Burned`. Here's what we can infer:\n",
    "\n",
    "---\n",
    "\n",
    "### 🔍 **Key Insights**:\n",
    "\n",
    "1. **Central Cluster**:\n",
    "   - The **highest density (lightest area)** is concentrated around:\n",
    "     - `Workout_Intensity` ≈ **0.7**\n",
    "     - `Calories_Burned` ≈ **350–450**\n",
    "   - This means most users typically engage in **moderate-intensity workouts** and burn **350–450 calories**.\n",
    "\n",
    "2. **Positive Correlation Trend**:\n",
    "   - As workout intensity increases slightly, the calories burned also tend to increase — indicating a **positive relationship** (though not strictly linear).\n",
    "\n",
    "3. **Sparse at Extremes**:\n",
    "   - There are **fewer users** performing **very high-intensity workouts** (`>0.85`) or burning extremely high calories (`>700`), suggesting such workouts are **less common**.\n",
    "\n",
    "4. **Balanced Distribution**:\n",
    "   - No extreme outliers are visible.\n",
    "   - The distribution tapers off symmetrically, meaning participants are distributed fairly consistently around the average.\n",
    "\n",
    "---\n",
    "\n",
    "### 🧠 **Business Implication (Stakeholder Focus)**:\n",
    "- The **\"sweet spot\"** for optimal efficiency in workouts appears to be moderate intensity.\n",
    "- This can help design **recommended workout zones** for balanced calorie burn without pushing for high-intensity training for everyone.\n",
    "- Ideal for **personalized coaching or app insights** that optimize health impact without risking burnout or injury.\n",
    "\n",
    "Would you like me to repeat this format for the other pairings you mentioned (like BMI vs Fat %, Hydration vs Frequency, etc.)?"
   ]
  },
  {
   "cell_type": "code",
   "execution_count": null,
   "id": "1ff65a2b-c3ec-4f1a-af78-5d1fe3d36cef",
   "metadata": {
    "id": "1ff65a2b-c3ec-4f1a-af78-5d1fe3d36cef"
   },
   "outputs": [],
   "source": []
  },
  {
   "cell_type": "markdown",
   "id": "e4e9e22c-ab1f-4027-bdc5-b8a7e8ad84ef",
   "metadata": {
    "id": "e4e9e22c-ab1f-4027-bdc5-b8a7e8ad84ef"
   },
   "source": [
    "> BMI vs Fat_Percentage"
   ]
  },
  {
   "cell_type": "code",
   "execution_count": null,
   "id": "b3b54168-27fc-4d65-9fcc-27ae89a5486c",
   "metadata": {
    "colab": {
     "base_uri": "https://localhost:8080/",
     "height": 629
    },
    "id": "b3b54168-27fc-4d65-9fcc-27ae89a5486c",
    "outputId": "f21778df-d921-4afc-ee3e-a751d7f23c88"
   },
   "outputs": [],
   "source": [
    "sns.lmplot(x='BMI', y='Fat_Percentage', data=df, height=6, aspect=1.5)\n",
    "plt.title(\"BMI vs Fat Percentage\")\n",
    "plt.show()"
   ]
  },
  {
   "cell_type": "markdown",
   "id": "97e3694f-fca5-4a62-a5b2-8431ad28d184",
   "metadata": {
    "id": "97e3694f-fca5-4a62-a5b2-8431ad28d184"
   },
   "source": [
    "###  **Conclusion:**\n",
    "- There is a **clear positive trend** between BMI and Fat Percentage — higher BMI tends to align with higher fat %.\n",
    "- Individuals with **higher workout intensity** (shown by darker hues) seem to scatter more broadly but cluster in lower fat percentage ranges.\n",
    "- This suggests workout intensity may **moderate fat gain at higher BMI**, useful for targeting fitness interventions.\n",
    "o deeper into insights for this one?"
   ]
  },
  {
   "cell_type": "markdown",
   "id": "8a8a556f-3b51-49f9-b33d-b75c88bb6697",
   "metadata": {
    "id": "8a8a556f-3b51-49f9-b33d-b75c88bb6697"
   },
   "source": [
    ">Experience_Level vs Calories_per_Min\n",
    "w()\n"
   ]
  },
  {
   "cell_type": "code",
   "execution_count": null,
   "id": "5d704b42-d40c-45ae-99a8-6e8f00289bc6",
   "metadata": {
    "colab": {
     "base_uri": "https://localhost:8080/",
     "height": 487
    },
    "id": "5d704b42-d40c-45ae-99a8-6e8f00289bc6",
    "outputId": "aaf4e8ca-4168-4afb-9df8-ca9e53489f75"
   },
   "outputs": [],
   "source": [
    "plt.figure(figsize=(8, 5))\n",
    "sns.violinplot(x='Experience_Level', hue='Experience_Level', y='Calories_per_Min', data=df, palette='muted')\n",
    "plt.title(\"Distribution of Calories per Minute by Experience Level\")\n",
    "plt.show()"
   ]
  },
  {
   "cell_type": "markdown",
   "id": "d0296aaf-d3e6-4835-abc4-ab3c51fef4fc",
   "metadata": {
    "id": "d0296aaf-d3e6-4835-abc4-ab3c51fef4fc"
   },
   "source": [
    "1. **Similar Median**: All experience levels burn about the same median calories per minute (~9–10).  \n",
    "2. **More Variability**: Beginners and Intermediates show more variation in calories burned.  \n",
    "3. **Consistent Burn**: Professionals and Advanced users have more consistent calorie burn rates.  \n",
    "4. **High Outliers**: Beginners and Intermediates have more extreme high values."
   ]
  },
  {
   "cell_type": "markdown",
   "id": "5638ee9b-61c1-495e-8b92-1b574b0043cb",
   "metadata": {
    "id": "5638ee9b-61c1-495e-8b92-1b574b0043cb"
   },
   "source": [
    " >HRR Distribution By Experience Level"
   ]
  },
  {
   "cell_type": "code",
   "execution_count": null,
   "id": "267053aa-5aa9-48af-af7f-184b5f8055c7",
   "metadata": {
    "colab": {
     "base_uri": "https://localhost:8080/",
     "height": 507
    },
    "id": "267053aa-5aa9-48af-af7f-184b5f8055c7",
    "outputId": "4ca3b557-65d7-4566-d605-c5618eb4bfac"
   },
   "outputs": [],
   "source": [
    "plt.figure(figsize=(8, 5))\n",
    "# Boxplot for HRR by Experience Level\n",
    "sns.boxplot(x='Experience_Level', y='HRR', hue='Experience_Level', data=df, palette='pastel')\n",
    "plt.title(\"HRR Distribution by Experience Level\")\n",
    "\n",
    "plt.tight_layout()\n",
    "plt.show()\n"
   ]
  },
  {
   "cell_type": "markdown",
   "id": "0aad7ea3-98ea-47f3-8a41-b5e8082f2c05",
   "metadata": {
    "id": "0aad7ea3-98ea-47f3-8a41-b5e8082f2c05"
   },
   "source": [
    "**Heart Rate Recovery (HRR)** measures how quickly your heart rate drops after exercise — a key indicator of cardiovascular fitness and recovery efficiency. Interpreting HRR by **experience level**:\n",
    "\n",
    "### What HRR Signifies by Experience Level:\n",
    "\n",
    "1. **Beginners**  \n",
    "   - **High variability** in HRR suggests inconsistent fitness levels.\n",
    "   - Some recover quickly, others slowly — possibly due to newness to training or varying health conditions.\n",
    "\n",
    "2. **Intermediate**  \n",
    "   - Moderate HRR with less variability than beginners.\n",
    "   - Indicates improving cardiovascular fitness and recovery ability.\n",
    "\n",
    "3. **Advanced**  \n",
    "   - More **consistent and efficient HRR**.\n",
    "   - Suggests stronger heart function and better training adaptation.\n",
    "\n",
    "4. **Professional**  \n",
    "   - Generally **high and consistent HRR**, with the highest upper range.\n",
    "   - Reflects **excellent recovery capability** and cardiovascular efficiency typical of elite fitness levels.\n",
    "\n",
    "### In Summary:\n",
    "As experience level increases, HRR tends to become **more efficient and consistent**, reflecting **better cardiovascular health and fitness adaptation**. HRR."
   ]
  },
  {
   "cell_type": "code",
   "execution_count": null,
   "id": "a0989e27-ef57-42b0-a19a-ceef664ae916",
   "metadata": {
    "id": "a0989e27-ef57-42b0-a19a-ceef664ae916"
   },
   "outputs": [],
   "source": [
    "# not fixed"
   ]
  },
  {
   "cell_type": "code",
   "execution_count": null,
   "id": "ebb0aac5-3fe4-41b4-b99c-63e86cf00bba",
   "metadata": {
    "colab": {
     "base_uri": "https://localhost:8080/",
     "height": 552
    },
    "id": "ebb0aac5-3fe4-41b4-b99c-63e86cf00bba",
    "outputId": "8c1de3bd-73b0-4baa-dbcd-d09d7844f1b6"
   },
   "outputs": [],
   "source": [
    "df['Age_Group'] = pd.cut(df['Age'], bins=[0, 20, 30, 40, 50, 60, 100],\n",
    "                         labels=['<20', '20-30', '30-40', '40-50', '50-60', '60+'])\n",
    "\n",
    "sns.countplot(x='Workout_Type', hue='Age_Group', data=df)\n",
    "plt.title(\"Workout Type by Age Group\")\n",
    "plt.xticks(rotation=45)\n",
    "plt.show()\n"
   ]
  },
  {
   "cell_type": "code",
   "execution_count": null,
   "id": "ed524a9b-e7e0-43ce-ba43-bf3af6cdc3b5",
   "metadata": {
    "id": "ed524a9b-e7e0-43ce-ba43-bf3af6cdc3b5"
   },
   "outputs": [],
   "source": [
    "\n"
   ]
  },
  {
   "cell_type": "code",
   "execution_count": null,
   "id": "24e6c0b7-21da-47b9-89a4-91224de372f7",
   "metadata": {
    "colab": {
     "base_uri": "https://localhost:8080/",
     "height": 552
    },
    "id": "24e6c0b7-21da-47b9-89a4-91224de372f7",
    "outputId": "a166131f-4f81-431a-ebb4-3a985f78eed8"
   },
   "outputs": [],
   "source": [
    "sns.countplot(x='Workout_Type', hue='Gender', data=df, palette=\"Set2\")\n",
    "plt.title(\"Workout Type by Gender\")\n",
    "plt.xticks(rotation=45)\n",
    "plt.show()\n"
   ]
  },
  {
   "cell_type": "code",
   "execution_count": null,
   "id": "04a25266-78a5-4495-aa64-2b6811f94e25",
   "metadata": {
    "id": "04a25266-78a5-4495-aa64-2b6811f94e25"
   },
   "outputs": [],
   "source": []
  },
  {
   "cell_type": "code",
   "execution_count": null,
   "id": "3e54f9c5-07e6-4b31-94a2-9ec1bdd97d76",
   "metadata": {
    "colab": {
     "base_uri": "https://localhost:8080/",
     "height": 552
    },
    "id": "3e54f9c5-07e6-4b31-94a2-9ec1bdd97d76",
    "outputId": "ab583b7c-257d-40b6-99f0-876a136948b1"
   },
   "outputs": [],
   "source": [
    "sns.countplot(x='Workout_Type', hue='Experience_Level', data=df,  palette=\"bright\")\n",
    "plt.title(\"Workout Type by Experience Level\")\n",
    "plt.xticks(rotation=45)\n",
    "plt.show()\n"
   ]
  },
  {
   "cell_type": "code",
   "execution_count": null,
   "id": "7a686172-06db-4565-98ac-68a1e8e621eb",
   "metadata": {
    "id": "7a686172-06db-4565-98ac-68a1e8e621eb"
   },
   "outputs": [],
   "source": []
  },
  {
   "cell_type": "code",
   "execution_count": null,
   "id": "c926f00a-c05e-4402-ba70-9b4d3bad0382",
   "metadata": {
    "colab": {
     "base_uri": "https://localhost:8080/",
     "height": 707
    },
    "id": "c926f00a-c05e-4402-ba70-9b4d3bad0382",
    "outputId": "311b1dc0-70ce-44a3-bf01-73118c3bc7ca"
   },
   "outputs": [],
   "source": [
    "plt.figure(figsize=(14, 7))  # Make the figure larger\n",
    "sns.countplot(x='Age_Group', hue='Workout_Type', data=df, palette='bright')\n",
    "\n",
    "plt.title(\"Workout Preferences by Age Group\", fontsize=16)\n",
    "plt.xticks(rotation=45)\n",
    "\n",
    "plt.legend(title='Workout Type', bbox_to_anchor=(1.05, 1), loc='upper left')\n",
    "\n",
    "plt.tight_layout()\n",
    "plt.show()"
   ]
  },
  {
   "cell_type": "code",
   "execution_count": null,
   "id": "edcd46d9-56a7-4bf5-aec0-fd1ee2fd47ca",
   "metadata": {
    "id": "edcd46d9-56a7-4bf5-aec0-fd1ee2fd47ca"
   },
   "outputs": [],
   "source": []
  },
  {
   "cell_type": "code",
   "execution_count": null,
   "id": "f50a7ebe-1d60-4176-a34f-21b2c7a4c55c",
   "metadata": {
    "id": "f50a7ebe-1d60-4176-a34f-21b2c7a4c55c"
   },
   "outputs": [],
   "source": []
  },
  {
   "cell_type": "code",
   "execution_count": null,
   "id": "d25329c0-fc37-41c1-9621-944eaa387c8b",
   "metadata": {
    "id": "d25329c0-fc37-41c1-9621-944eaa387c8b"
   },
   "outputs": [],
   "source": []
  },
  {
   "cell_type": "code",
   "execution_count": null,
   "id": "710a0897-60ed-4bd7-80f3-b02955b8e6c2",
   "metadata": {
    "id": "710a0897-60ed-4bd7-80f3-b02955b8e6c2"
   },
   "outputs": [],
   "source": []
  },
  {
   "cell_type": "markdown",
   "id": "183b7c1a-4a7e-4815-bc9e-bc1cf812ca36",
   "metadata": {
    "id": "183b7c1a-4a7e-4815-bc9e-bc1cf812ca36"
   },
   "source": [
    "### Multivariate Analysis"
   ]
  },
  {
   "cell_type": "markdown",
   "id": "593da506-c192-467b-9a6b-cb65afc1249a",
   "metadata": {
    "id": "593da506-c192-467b-9a6b-cb65afc1249a"
   },
   "source": [
    ">Gender vs Experience_Level (countplot)"
   ]
  },
  {
   "cell_type": "code",
   "execution_count": null,
   "id": "556b73e7-83c5-4074-8918-a40784f0f5b4",
   "metadata": {
    "colab": {
     "base_uri": "https://localhost:8080/",
     "height": 472
    },
    "id": "556b73e7-83c5-4074-8918-a40784f0f5b4",
    "outputId": "0373e4f7-c467-409e-fc79-50eb56e3f64d"
   },
   "outputs": [],
   "source": [
    "sns.countplot(x='Experience_Level', hue='Gender', data=df)\n",
    "plt.title(\"Experience Level Distribution by Gender\")\n",
    "plt.show()\n"
   ]
  },
  {
   "cell_type": "markdown",
   "id": "5c5be430-2907-4e23-80a9-8d084db101b4",
   "metadata": {
    "id": "5c5be430-2907-4e23-80a9-8d084db101b4"
   },
   "source": [
    " >Gender vs Calories_Burned by Workout_Type"
   ]
  },
  {
   "cell_type": "code",
   "execution_count": null,
   "id": "d15a7c7d-0fb3-49f5-9b9f-f2174e955b5c",
   "metadata": {
    "colab": {
     "base_uri": "https://localhost:8080/",
     "height": 645
    },
    "id": "d15a7c7d-0fb3-49f5-9b9f-f2174e955b5c",
    "outputId": "57997ed0-dedc-4f92-c1a0-d893608d0356"
   },
   "outputs": [],
   "source": [
    "plt.figure(figsize=(10,6))\n",
    "sns.barplot(x='Workout_Type', y='Calories_Burned', hue='Gender',errorbar=None, data=df, palette=\"husl\")\n",
    "plt.title(\"Calories Burned by Workout Type and Gender\")\n",
    "plt.xticks(rotation=45)\n",
    "plt.show()\n"
   ]
  },
  {
   "cell_type": "markdown",
   "id": "fcbc2e81-a74f-45d3-966b-9c08ddd11dd6",
   "metadata": {
    "id": "fcbc2e81-a74f-45d3-966b-9c08ddd11dd6"
   },
   "source": [
    "> Age vs Fat_Percentage"
   ]
  },
  {
   "cell_type": "code",
   "execution_count": null,
   "id": "2875661b-a49a-4163-b682-3c72125db471",
   "metadata": {
    "colab": {
     "base_uri": "https://localhost:8080/",
     "height": 472
    },
    "id": "2875661b-a49a-4163-b682-3c72125db471",
    "outputId": "65ef6d85-b37a-44f2-b88d-53bda1e49fe3"
   },
   "outputs": [],
   "source": [
    "sns.scatterplot(x='Age', y='Fat_Percentage', hue='Gender', data=df)\n",
    "plt.title(\"Fat Percentage by Age and Gender\")\n",
    "plt.show()\n"
   ]
  },
  {
   "cell_type": "code",
   "execution_count": null,
   "id": "1db15739-ba7e-4940-8b35-526f284919db",
   "metadata": {
    "id": "1db15739-ba7e-4940-8b35-526f284919db"
   },
   "outputs": [],
   "source": []
  },
  {
   "cell_type": "markdown",
   "id": "a0bf6f15-334b-4f34-81b1-d3781686a70f",
   "metadata": {
    "id": "a0bf6f15-334b-4f34-81b1-d3781686a70f"
   },
   "source": []
  },
  {
   "cell_type": "markdown",
   "id": "a9ec19ff-fad5-4d94-8373-8a97354b6a21",
   "metadata": {
    "id": "a9ec19ff-fad5-4d94-8373-8a97354b6a21"
   },
   "source": [
    ">Regression Plot (with Trend Line by Gender)"
   ]
  },
  {
   "cell_type": "code",
   "execution_count": null,
   "id": "04a47aad-38b2-48c2-aa3f-b925cd21cfe3",
   "metadata": {
    "colab": {
     "base_uri": "https://localhost:8080/",
     "height": 529
    },
    "id": "04a47aad-38b2-48c2-aa3f-b925cd21cfe3",
    "outputId": "508ac67f-43dd-4972-b65a-b1430a719aca"
   },
   "outputs": [],
   "source": [
    "sns.lmplot(x='Age', y='Avg_BPM', hue='Gender', data=df, aspect=1.5, palette=\"Set1\")\n",
    "plt.title(\"Trend of Avg BPM by Age and Gender\")\n",
    "plt.show()"
   ]
  },
  {
   "cell_type": "code",
   "execution_count": null,
   "id": "a6ce2549-67cc-4094-9f45-318467cae4f3",
   "metadata": {
    "id": "a6ce2549-67cc-4094-9f45-318467cae4f3"
   },
   "outputs": [],
   "source": []
  },
  {
   "cell_type": "code",
   "execution_count": null,
   "id": "99760650-5e8b-4b83-8811-022872cd0e64",
   "metadata": {
    "colab": {
     "base_uri": "https://localhost:8080/",
     "height": 697
    },
    "id": "99760650-5e8b-4b83-8811-022872cd0e64",
    "outputId": "01a87512-8ef8-40da-c274-17cceecda500"
   },
   "outputs": [],
   "source": [
    "import seaborn as sns\n",
    "import matplotlib.pyplot as plt\n",
    "\n",
    "# Select relevant numeric features\n",
    "features = ['Calories_Burned', 'Session_Duration_hours', 'Workout_Intensity',\n",
    "            'HRR', 'BMI', 'Fat_Percentage', 'Hydration_per_Kg', 'Calories_per_Min']\n",
    "\n",
    "corr_matrix = df[features].corr()\n",
    "\n",
    "plt.figure(figsize=(10, 6))\n",
    "sns.heatmap(corr_matrix, annot=True, cmap='coolwarm', fmt='.2f', linewidths=0.5)\n",
    "plt.title(\"Correlation Heatmap of Key Fitness Metrics\")\n",
    "plt.show()\n"
   ]
  },
  {
   "cell_type": "code",
   "execution_count": null,
   "id": "dc16fe73-e19b-411d-89eb-fe9ea2ca315d",
   "metadata": {
    "id": "dc16fe73-e19b-411d-89eb-fe9ea2ca315d"
   },
   "outputs": [],
   "source": []
  },
  {
   "cell_type": "code",
   "execution_count": null,
   "id": "4b716515-ee86-452c-a92a-225deef521c9",
   "metadata": {
    "colab": {
     "base_uri": "https://localhost:8080/",
     "height": 512
    },
    "id": "4b716515-ee86-452c-a92a-225deef521c9",
    "outputId": "fd89aae8-1d0a-48b9-d47e-b120b4aed3a8"
   },
   "outputs": [],
   "source": [
    "g = sns.lmplot(x='Workout_Intensity', y='Calories_per_Min', col='BMI_Category',\n",
    "               hue='Workout_Type', data=df, height=5, aspect=1, scatter_kws={'alpha':0.6})\n",
    "g.fig.subplots_adjust(top=0.85)\n",
    "g.fig.suptitle(\"Calories Burned vs Workout Intensity by BMI Categories\")\n",
    "plt.show()"
   ]
  },
  {
   "cell_type": "markdown",
   "id": "edbef211-5448-4edf-baf8-cbd63831dd1f",
   "metadata": {
    "id": "edbef211-5448-4edf-baf8-cbd63831dd1f"
   },
   "source": [
    ">workout intensity formula caloeries burned per min"
   ]
  },
  {
   "cell_type": "markdown",
   "id": "84d4f2ff-0c12-4600-9660-3d82eceb408c",
   "metadata": {
    "id": "84d4f2ff-0c12-4600-9660-3d82eceb408c"
   },
   "source": [
    "# Inferential Statistics"
   ]
  },
  {
   "cell_type": "markdown",
   "id": "faf392f4-5f78-4d41-96b0-573ec3502355",
   "metadata": {
    "id": "faf392f4-5f78-4d41-96b0-573ec3502355"
   },
   "source": [
    " Hypothesis E:\n",
    "\"Advanced users have higher heart rate recovery (HRR) than beginners.\"\n",
    "\n",
    "Test Used: Independent Samples T-Test\n",
    "\n",
    "p-value: 2.34e-05 ✅\n",
    "\n",
    "Conclusion: HRR is significantly higher for experienced users.\n",
    "\n",
    "Stakeholder Implication: The system can use HRR as a fitness progress indicator and recommend advanced programs for users with higher HRR.\n",
    "give me visual rcode for concluding this hypothesis"
   ]
  },
  {
   "cell_type": "code",
   "execution_count": null,
   "id": "7f86214a-cd69-4aaf-b690-4bafaff0a9ae",
   "metadata": {
    "colab": {
     "base_uri": "https://localhost:8080/",
     "height": 711
    },
    "id": "7f86214a-cd69-4aaf-b690-4bafaff0a9ae",
    "outputId": "33ca5a4f-37d3-47bc-aeb2-5f18c83dd0bd"
   },
   "outputs": [],
   "source": [
    "from scipy.stats import ttest_ind\n",
    "\n",
    "# Prepare HRR data for Beginner and Advanced users\n",
    "beginner_hrr = df_exp_hrr[df_exp_hrr['Experience_Level'] == 'Beginner']['HRR']\n",
    "advanced_hrr = df_exp_hrr[df_exp_hrr['Experience_Level'] == 'Advanced']['HRR']\n",
    "\n",
    "# Perform Independent Samples T-Test\n",
    "t_stat, p_val = ttest_ind(advanced_hrr, beginner_hrr, equal_var=False)  # Welch's t-test for unequal variances\n",
    "\n",
    "# Plotting with mean annotations\n",
    "plt.figure(figsize=(8, 6))\n",
    "sns.boxplot(data=df_exp_hrr, x='Experience_Level', y='HRR', palette='viridis')\n",
    "plt.title(\"HRR Comparison Between Beginner and Advanced Users\")\n",
    "plt.xlabel(\"Experience Level\")\n",
    "plt.ylabel(\"Heart Rate Recovery (HRR)\")\n",
    "plt.grid(axis='y', linestyle='--', alpha=0.5)\n",
    "\n",
    "# Add mean values on the plot\n",
    "means = df_exp_hrr.groupby('Experience_Level')['HRR'].mean()\n",
    "for i, level in enumerate(['Beginner', 'Advanced']):\n",
    "    plt.text(i, means[level] + 1, f\"Mean: {means[level]:.2f}\", ha='center', fontsize=10, color='black')\n",
    "\n",
    "plt.tight_layout()\n",
    "plt.show()\n",
    "\n",
    "# Return test statistics\n",
    "t_stat, p_val\n"
   ]
  },
  {
   "cell_type": "markdown",
   "id": "1TW0qG-eGmfq",
   "metadata": {
    "id": "1TW0qG-eGmfq"
   },
   "source": [
    "Advanced users have higher heart rate recovery (HRR) than beginners.\"\n",
    "\n",
    "🔢 Statistical Test: Independent Samples T-Test (Welch’s T-Test)\n",
    "t-statistic: 4.29\n",
    "\n",
    "p-value: 2.34e-05 ✅\n",
    "\n",
    "✅ Conclusion:\n",
    "There is a statistically significant difference in HRR between Advanced and Beginner users.\n",
    "Advanced users tend to have higher HRR, supporting the hypothesis.\n",
    "\n",
    "📊 Visual Insight:\n",
    "The boxplot confirms Advanced users have a higher average HRR.\n",
    "\n",
    "Mean HRR values are shown directly on the plot for clarity"
   ]
  },
  {
   "cell_type": "code",
   "execution_count": null,
   "id": "285525c4-2d15-4418-b626-1bf65f3fc30d",
   "metadata": {
    "id": "285525c4-2d15-4418-b626-1bf65f3fc30d"
   },
   "outputs": [],
   "source": []
  },
  {
   "cell_type": "markdown",
   "id": "d9uLxHAh-ZNx",
   "metadata": {
    "id": "d9uLxHAh-ZNx"
   },
   "source": [
    "# Hypothesis testing Inferential tests"
   ]
  },
  {
   "cell_type": "markdown",
   "id": "28bbd592-aa51-4bfe-a6bf-5aa2b6beaa25",
   "metadata": {
    "id": "28bbd592-aa51-4bfe-a6bf-5aa2b6beaa25"
   },
   "source": [
    "#"
   ]
  },
  {
   "cell_type": "markdown",
   "id": "7DNp-z_p7nit",
   "metadata": {
    "id": "7DNp-z_p7nit"
   },
   "source": [
    "Hypothesis 1:\n",
    "\"Experienced individuals tend to burn more calories per session than beginners.\"\n",
    "\n",
    "Variables: Experience_Level (categorical), Calories_Burned (numerical)\n",
    "\n",
    "Test Used: ANOVA (Analysis of Variance)\n",
    "\n",
    "Reason: To compare the means of a continuous variable across 3+ independent categories.\n",
    "\n",
    "Visualization: Boxplot to compare distributions"
   ]
  },
  {
   "cell_type": "code",
   "execution_count": null,
   "id": "3e279d71-70cd-41b5-b162-176cd8286b92",
   "metadata": {
    "colab": {
     "base_uri": "https://localhost:8080/",
     "height": 524
    },
    "id": "3e279d71-70cd-41b5-b162-176cd8286b92",
    "outputId": "d7d674e7-96c0-422a-8649-712dba83160a"
   },
   "outputs": [],
   "source": [
    "import seaborn as sns\n",
    "import matplotlib.pyplot as plt\n",
    "from scipy.stats import f_oneway\n",
    "\n",
    "# Boxplot\n",
    "plt.figure(figsize=(8,5))\n",
    "sns.boxplot(x='Experience_Level', y='Calories_Burned', data=df)\n",
    "plt.title(\"Calories Burned across Experience Levels\")\n",
    "plt.xticks(rotation=45)\n",
    "plt.tight_layout()\n",
    "plt.show()\n",
    "\n",
    "# ANOVA Test\n",
    "beginner = df[df['Experience_Level'] == 'Beginner']['Calories_Burned']\n",
    "intermediate = df[df['Experience_Level'] == 'Intermediate']['Calories_Burned']\n",
    "advanced = df[df['Experience_Level'] == 'Advanced']['Calories_Burned']\n",
    "\n",
    "anova_result = f_oneway(beginner, intermediate, advanced)\n",
    "anova_result\n"
   ]
  },
  {
   "cell_type": "markdown",
   "id": "C9Glu2s4-NLH",
   "metadata": {
    "id": "C9Glu2s4-NLH"
   },
   "source": [
    "# Analysis of Hypothesis Testing Results: Experience Level vs. Calories Burned\n",
    "\n",
    "Based on the boxplot and ANOVA test results shown in the image, we can draw several important conclusions about Hypothesis 1: \"Experienced individuals tend to burn more calories per session than beginners.\"\n",
    "\n",
    "## Statistical Findings\n",
    "\n",
    "The ANOVA test yielded highly significant results:\n",
    "- **F-statistic**: 103.63\n",
    "- **p-value**: 4.84e-43 (extremely small, far below the conventional 0.05 threshold)[1]\n",
    "\n",
    "This extraordinarily small p-value indicates that there are **statistically significant differences** in calories burned between at least some of the experience level groups[1].\n",
    "\n",
    "## Visual Evidence from the Boxplot\n",
    "\n",
    "The boxplot clearly illustrates these differences:\n",
    "\n",
    "- **Advanced** and **Professional** groups show markedly higher median calories burned (approximately 500 calories) compared to Beginners[1]\n",
    "- **Beginners** demonstrate the lowest median calories burned (around 350 calories)[1]\n",
    "- **Intermediates** fall between Beginners and the more experienced groups[1]\n",
    "- The interquartile ranges (boxes) for Advanced and Professional groups are positioned higher on the y-axis than for Beginners[1]\n",
    "\n",
    "## Conclusion on Hypothesis\n",
    "\n",
    "**The hypothesis is supported by the data.** Both visual evidence and statistical testing confirm that experienced individuals (Advanced and Professional) do tend to burn significantly more calories per session than Beginners[1].\n",
    "\n",
    "## Implications\n",
    "\n",
    "This finding has several important implications for the health tech company:\n",
    "\n",
    "1. **Personalized Recommendations**: Workout recommendations should account for experience level, with different calorie targets for beginners versus advanced users[1]\n",
    "\n",
    "2. **Progress Tracking**: Users should be informed that calorie burn typically increases with experience, setting realistic expectations for beginners[1]\n",
    "\n",
    "3. **Motivation Strategy**: Beginners might benefit from seeing this data as motivation - showing them the potential for increased calorie burn as they advance[1]\n",
    "\n",
    "4. **Workout Intensity Guidance**: The app could help beginners gradually increase workout intensity to approach the calorie burn levels of more experienced users[1]\n",
    "\n",
    "The clear progression in calories burned across experience levels suggests that experience significantly impacts workout efficiency and intensity, which should inform the company's recommendation algorithms and user guidance features[1].\n",
    "\n",
    "Citations:\n",
    "[1] https://pplx-res.cloudinary.com/image/private/user_uploads/gWRvYfoCIiuPvFR/image.jpg\n",
    "\n",
    "---\n",
    "Answer from Perplexity: pplx.ai/share"
   ]
  },
  {
   "cell_type": "code",
   "execution_count": null,
   "id": "bc2689fc-667f-4201-8a6b-392798fe7347",
   "metadata": {
    "id": "bc2689fc-667f-4201-8a6b-392798fe7347"
   },
   "outputs": [],
   "source": []
  },
  {
   "cell_type": "markdown",
   "id": "QMRgv3y075NW",
   "metadata": {
    "id": "QMRgv3y075NW"
   },
   "source": [
    "Hypothesis 2:\n",
    "\"Higher workout intensity correlates with higher water intake.\"\n",
    "\n",
    "Variables: Workout_Intensity, Water_Intake_liters\n",
    "\n",
    "Test Used: Pearson Correlation\n",
    "\n",
    "Reason: To test linear relationship between two continuous variables.\n",
    "\n",
    "Visualization: Scatter plot + Regression line"
   ]
  },
  {
   "cell_type": "code",
   "execution_count": null,
   "id": "-cB02AsN756Z",
   "metadata": {
    "colab": {
     "base_uri": "https://localhost:8080/",
     "height": 524
    },
    "id": "-cB02AsN756Z",
    "outputId": "8daf4860-ffb4-4e75-85ab-f6810952ac73"
   },
   "outputs": [],
   "source": [
    "from scipy.stats import pearsonr\n",
    "\n",
    "# Scatter plot with regression\n",
    "plt.figure(figsize=(8,5))\n",
    "sns.regplot(x='Workout_Intensity', y='Water_Intake_liters', data=df)\n",
    "plt.title(\"Workout Intensity vs Water Intake\")\n",
    "plt.tight_layout()\n",
    "plt.show()\n",
    "\n",
    "# Pearson correlation\n",
    "corr, p_val = pearsonr(df['Workout_Intensity'], df['Water_Intake_liters'])\n",
    "corr, p_val\n"
   ]
  },
  {
   "cell_type": "markdown",
   "id": "HaEgaNFy_Mv3",
   "metadata": {
    "id": "HaEgaNFy_Mv3"
   },
   "source": [
    "## Conclusion for Hypothesis 2: \"Higher workout intensity correlates with higher water intake.\"\n",
    "\n",
    "### Statistical Result\n",
    "- **Pearson correlation coefficient**: **0.029**\n",
    "- This value indicates a **very weak positive linear relationship** between workout intensity and water intake.\n",
    "- The correlation is close to zero, suggesting that, in this dataset, higher workout intensity does **not** strongly predict higher water intake.\n",
    "\n",
    "### Visual Evidence\n",
    "- **Scatter plots with regression lines** (both images) show a nearly flat regression line, visually confirming the weak correlation[1].\n",
    "- The points are widely scattered with no clear upward trend.\n",
    "- **KDE plot** shows the distributions of both variables but does not indicate any strong alignment or relationship.\n",
    "- **Hexbin plot** (density plot) reveals that most data points cluster in the middle ranges for both variables, again with no strong directional trend.\n",
    "\n",
    "### Interpretation\n",
    "- **Conclusion**: The hypothesis is **not supported** by the data. There is only a negligible increase in water intake with higher workout intensity, and the relationship is not statistically meaningful in practical terms.\n",
    "\n",
    "### Additional Visualizations to Support or Explore Further\n",
    "- **Boxplots**: Group water intake by binned workout intensity levels to see if any non-linear patterns exist.\n",
    "- **Violin plots**: To compare the distribution of water intake across intensity bins.\n",
    "- **Jointplot (with regression)**: To visualize both the scatter and the distribution.\n",
    "- **Heatmaps**: If you have more variables, a correlation matrix heatmap can show how water intake relates to other factors as well.\n",
    "\n",
    "### Implications\n",
    "- **For product recommendations**: Personalized hydration advice should not rely solely on workout intensity. Other factors (such as session duration, body weight, or environmental conditions) may be more relevant.\n",
    "- **For further analysis**: Consider multivariate regression including other variables to see if a more complex relationship exists.\n"
   ]
  },
  {
   "cell_type": "code",
   "execution_count": null,
   "id": "eVoFo215_TRf",
   "metadata": {
    "id": "eVoFo215_TRf"
   },
   "outputs": [],
   "source": []
  },
  {
   "cell_type": "markdown",
   "id": "B7vl3eoh_Nyz",
   "metadata": {
    "id": "B7vl3eoh_Nyz"
   },
   "source": [
    "Hypothesis 4:\n",
    "\"Calories burned per minute varies by workout type.\"\n",
    "\n",
    "Variables: Workout_Type (categorical), Calories_per_Min (numerical)\n",
    "\n",
    "Test Used: ANOVA\n",
    "\n",
    "Visualization: Boxplot or bar chart"
   ]
  },
  {
   "cell_type": "code",
   "execution_count": null,
   "id": "6nP6isN0-xcj",
   "metadata": {
    "colab": {
     "base_uri": "https://localhost:8080/",
     "height": 524
    },
    "id": "6nP6isN0-xcj",
    "outputId": "ad6d53c9-22a4-4320-825f-c0039e79567c"
   },
   "outputs": [],
   "source": [
    "plt.figure(figsize=(12,5))\n",
    "sns.boxplot(x='Workout_Type', y='Calories_per_Min', data=df)\n",
    "plt.xticks(rotation=90)\n",
    "plt.title(\"Calories per Minute across Workout Types\")\n",
    "plt.tight_layout()\n",
    "plt.show()\n",
    "\n",
    "# ANOVA\n",
    "types = df['Workout_Type'].unique()\n",
    "groups = [df[df['Workout_Type'] == wt]['Calories_per_Min'] for wt in types]\n",
    "\n",
    "f_oneway(*groups)\n"
   ]
  },
  {
   "cell_type": "markdown",
   "id": "FX-PE31CB5qx",
   "metadata": {
    "id": "FX-PE31CB5qx"
   },
   "source": [
    "## Conclusion for Hypothesis 4: \"Calories burned per minute varies by workout type.\"\n",
    "\n",
    "### Statistical Results\n",
    "\n",
    "- **ANOVA F-statistic:** 128.00951425525645\n",
    "- **p-value:** 4.49e-59\n",
    "\n",
    "This extremely low p-value (far below 0.05) indicates that there are **statistically significant differences** in average calories burned per minute across different workout types[5].\n",
    "\n",
    "---\n",
    "\n",
    "### Visual Evidence\n",
    "\n",
    "- **Boxplots** (see all three images) show clear differences in the distribution and median of calories burned per minute for each workout type.\n",
    "    - **HIIT, CrossFit, Swimming, and Running** have the highest medians and wider ranges, indicating they burn more calories per minute.\n",
    "    - **Yoga and Pilates** have the lowest medians and narrower ranges, showing they are less calorie-intensive.\n",
    "    - Outliers are present, but the separation between groups is visually obvious.\n",
    "- **Spread and Overlap:** There is some overlap in the ranges, but the central tendency (median) and spread (IQR) are distinctly higher for high-intensity workouts.\n",
    "\n",
    "---\n",
    "\n",
    "### Interpretation\n",
    "\n",
    "- **The hypothesis is strongly supported:** Calories burned per minute **does vary significantly** by workout type.\n",
    "- **Practical Implication:** Users seeking maximum calorie burn per minute should prefer HIIT, CrossFit, Swimming, or Running, while Yoga and Pilates are better suited for lower-intensity, lower-calorie-burn sessions.\n",
    "\n",
    "---\n",
    "\n",
    "### Additional Visualizations (Optional for Further Support)\n",
    "\n",
    "- **Bar charts** of mean or median calories per minute by workout type can provide a quick summary.\n",
    "- **Violin plots** can show the distribution shape for each workout type.\n",
    "- **Pairwise post-hoc tests** (e.g., Tukey HSD) can identify which specific workout types differ significantly from each other.\n",
    "\n",
    "---\n",
    "\n",
    "### Summary Table\n",
    "\n",
    "| Workout Type | Median Calories/Min | Intensity Level         |\n",
    "|--------------|---------------------|------------------------|\n",
    "| HIIT         | Highest             | High                   |\n",
    "| CrossFit     | High                | High                   |\n",
    "| Swimming     | High                | High                   |\n",
    "| Running      | High                | High                   |\n",
    "| Cycling      | Moderate            | Moderate               |\n",
    "| Yoga         | Low                 | Low                    |\n",
    "| Pilates      | Lowest              | Low                    |\n",
    "\n",
    "---\n",
    "\n",
    "### Final Statement\n",
    "\n",
    "**Conclusion:**  \n",
    "There are clear, statistically significant differences in calories burned per minute across workout types. This insight enables the health tech platform to provide evidence-based, personalized workout recommendations according to users' calorie-burning goals and preferences.\n"
   ]
  },
  {
   "cell_type": "markdown",
   "id": "XIcm2srOB6Dh",
   "metadata": {
    "id": "XIcm2srOB6Dh"
   },
   "source": []
  },
  {
   "cell_type": "markdown",
   "id": "QTMa4Bcc_OGW",
   "metadata": {
    "id": "QTMa4Bcc_OGW"
   },
   "source": [
    "Hypothesis 5:\n",
    "\"Hydration per kg is lower in individuals with higher fat percentage.\"\n",
    "\n",
    "Variables: Fat_Percentage, Hydration_per_Kg (both numerical)\n",
    "\n",
    "Test Used: Spearman Rank Correlation (non-parametric)\n",
    "\n",
    "Reason: Fat percentage and hydration may not have a linear relationship.\n",
    "\n",
    "Visualization: Jointplot or regplot"
   ]
  },
  {
   "cell_type": "code",
   "execution_count": null,
   "id": "sMHGJ_5PB3un",
   "metadata": {
    "colab": {
     "base_uri": "https://localhost:8080/",
     "height": 650
    },
    "id": "sMHGJ_5PB3un",
    "outputId": "1095c6ad-c32f-4a2f-89d1-a3690c33c7a1"
   },
   "outputs": [],
   "source": [
    "from scipy.stats import spearmanr\n",
    "\n",
    "# Scatter\n",
    "sns.jointplot(x='Fat_Percentage', y='Hydration_per_Kg', data=df, kind='reg', height=6)\n",
    "plt.suptitle(\"Fat % vs Hydration per Kg\", y=1.02)\n",
    "plt.show()\n",
    "\n",
    "# Spearman correlation\n",
    "spearmanr(df['Fat_Percentage'], df['Hydration_per_Kg'])\n"
   ]
  },
  {
   "cell_type": "markdown",
   "id": "qbTuCydGDnZg",
   "metadata": {
    "id": "qbTuCydGDnZg"
   },
   "source": [
    "## Conclusion for Hypothesis 5: \"Hydration per kg is lower in individuals with higher fat percentage.\"\n",
    "\n",
    "### Statistical Results\n",
    "\n",
    "- **Spearman Correlation Coefficient**: -0.207\n",
    "- **p-value**: 1.09e-17 (extremely significant)\n",
    "- The negative correlation indicates that as fat percentage increases, hydration per kg decreases.\n",
    "- The very small p-value (<0.001) confirms this relationship is not due to random chance.\n",
    "\n",
    "### Visual Evidence\n",
    "\n",
    "The jointplot in the image[1] shows:\n",
    "- A clear downward sloping regression line\n",
    "- Data points distributed in a pattern that confirms the negative relationship\n",
    "- Histogram distributions showing the spread of both variables\n",
    "- Higher concentrations of data points in the middle ranges of fat percentage (15-30%)\n",
    "- Hydration per kg values mostly clustered between 0.025-0.040 L/kg\n",
    "\n",
    "### Interpretation\n",
    "\n",
    "**The hypothesis is strongly supported by the data.** There is a statistically significant negative relationship between fat percentage and hydration per kg. As an individual's fat percentage increases, their hydration per kg decreases.\n",
    "\n",
    "### Scientific Context\n",
    "\n",
    "This finding aligns with established research:\n",
    "- Studies show significant inverse associations between body fat mass and water intake per kg[2][6]\n",
    "- Total water intake per kg is positively correlated with percentage of body water and negatively with body fat percentage[6]\n",
    "- In clinical studies, this relationship has been observed in different demographic groups[4]\n",
    "\n",
    "### Physiological Explanation\n",
    "\n",
    "The inverse relationship can be explained by:\n",
    "1. Fat tissue contains less water than lean tissue (approximately 10% water in fat vs. 73% in muscle)[4]\n",
    "2. During dehydration, adipocytes can become dehydrated, affecting triglyceride metabolism[4]\n",
    "3. Insufficient water intake may lead to elevated serum copeptin, which can increase fat accumulation[4]\n",
    "\n",
    "### Implications for Health Tech Platform\n",
    "\n",
    "1. **Personalized Hydration Recommendations**:\n",
    "   - Users with higher body fat percentages may need more targeted hydration guidance\n",
    "   - Hydration recommendations should be adjusted based on body composition, not just weight\n",
    "\n",
    "2. **Monitoring Interface**:\n",
    "   - Include fat percentage as a factor in hydration analytics\n",
    "   - Visualize the relationship between fat percentage reduction and improved hydration metrics\n",
    "\n",
    "3. **Education Content**:\n",
    "   - Explain to users how body composition affects hydration needs\n",
    "   - Emphasize the importance of adequate hydration for effective fat metabolism\n",
    "\n",
    "This finding supports the development of more sophisticated, personalized hydration and workout recommendations that account for users' unique body composition profiles.\n"
   ]
  },
  {
   "cell_type": "code",
   "execution_count": null,
   "id": "h1uAw4P_KdAZ",
   "metadata": {
    "id": "h1uAw4P_KdAZ"
   },
   "outputs": [],
   "source": []
  },
  {
   "cell_type": "markdown",
   "id": "O43XKlZbKVwK",
   "metadata": {
    "id": "O43XKlZbKVwK"
   },
   "source": [
    "\n",
    "Null Hypothesis (H₀):\n",
    "There is no significant relationship between workout intensity and calories burned.\n",
    "\n",
    "Alternative Hypothesis (H₁):\n",
    "There is a significant positive relationship between workout intensity and calories burned — as workout intensity increases, the calories burned also tend to increase.\n",
    "\n",
    "\n",
    "\n"
   ]
  },
  {
   "cell_type": "code",
   "execution_count": null,
   "id": "T11jfEuJKYcG",
   "metadata": {
    "colab": {
     "base_uri": "https://localhost:8080/",
     "height": 607
    },
    "id": "T11jfEuJKYcG",
    "outputId": "745ad108-0d36-4f2c-ad9f-5d15a3b13206"
   },
   "outputs": [],
   "source": [
    "plt.figure(figsize=(10, 6))\n",
    "sns.kdeplot(\n",
    "    x='Workout_Intensity',\n",
    "    y='Calories_Burned',\n",
    "    data=df,\n",
    "    fill=True,\n",
    "    cmap=\"mako\",\n",
    "    thresh=0.05\n",
    ")\n",
    "plt.title(\"Workout Intensity vs Calories Burned (KDE Density)\")\n",
    "plt.xlabel(\"Workout Intensity\")\n",
    "plt.ylabel(\"Calories Burned\")\n",
    "plt.tight_layout()\n",
    "plt.show()\n"
   ]
  },
  {
   "cell_type": "code",
   "execution_count": null,
   "id": "qCLALaZ-CDER",
   "metadata": {
    "colab": {
     "base_uri": "https://localhost:8080/"
    },
    "id": "qCLALaZ-CDER",
    "outputId": "ebd1739f-942a-4909-b0e8-72956804eae8"
   },
   "outputs": [],
   "source": [
    "from scipy.stats import pearsonr\n",
    "corr, p_val = pearsonr(df['Workout_Intensity'], df['Calories_Burned'])\n",
    "corr, p_val"
   ]
  },
  {
   "cell_type": "markdown",
   "id": "RohUMGmZKU47",
   "metadata": {
    "id": "RohUMGmZKU47"
   },
   "source": [
    "# Implications of Null Hypothesis Testing in Workout Intensity and Calories Burned Correlation\n",
    "\n",
    "The code snippet shows a Pearson correlation test examining the relationship between workout intensity and calories burned, yielding the following results:\n",
    "\n",
    "- **Correlation coefficient**: 0.3979 (moderate positive correlation)\n",
    "- **p-value**: 1.25 × 10^-64 (extremely small)\n",
    "\n",
    "## Understanding the Null Hypothesis Context\n",
    "\n",
    "In this statistical test, the null hypothesis (H₀) states that there is **no correlation** between workout intensity and calories burned (correlation coefficient = 0). The alternative hypothesis (H₁) suggests that a correlation does exist (correlation coefficient ≠ 0).\n",
    "\n",
    "## Key Implications of These Results\n",
    "\n",
    "### 1. Statistical Significance\n",
    "The p-value (1.25 × 10^-64) is extraordinarily small, far below the conventional threshold of 0.05. This means we can **confidently reject the null hypothesis**[1]. The probability of observing this correlation by random chance if no true relationship existed is virtually zero.\n",
    "\n",
    "### 2. Practical Significance\n",
    "The correlation coefficient of 0.3979 indicates a **moderate positive relationship** between workout intensity and calories burned[1]. This means that as workout intensity increases, calories burned tend to increase as well, though not in perfect lockstep.\n",
    "\n",
    "### 3. Fitness Application Implications\n",
    "For a health tech company developing workout recommendations:\n",
    "- This data supports implementing intensity-based calorie burn predictions\n",
    "- Algorithms can reasonably use workout intensity as a predictor of calorie expenditure\n",
    "- Users can be informed that higher intensity workouts generally lead to greater calorie burn[1]\n",
    "\n",
    "### 4. Scientific Interpretation\n",
    "This result aligns with exercise physiology principles where higher-intensity activities require more energy. The moderate (rather than strong) correlation suggests other factors also influence calorie burn, such as individual metabolism, fitness level, body composition, and workout efficiency.\n",
    "\n",
    "### 5. Decision Framework\n",
    "When we reject the null hypothesis:\n",
    "- We accept that a relationship exists between these variables\n",
    "- We recognize the relationship is statistically significant\n",
    "- We acknowledge the correlation is positive and moderate in strength[1]\n",
    "\n",
    "## Conclusion\n",
    "\n",
    "The statistical evidence strongly supports a moderate positive relationship between workout intensity and calories burned. The health tech company can confidently incorporate this relationship into their recommendation algorithms, while recognizing that intensity is just one of several factors affecting calorie expenditure during workouts.\n",
    "\n",
    "Citations:\n",
    "[1] https://pplx-res.cloudinary.com/image/private/user_uploads/acNOEtgQsNXGUsZ/image.jpg\n",
    "\n",
    "---\n",
    "Answer from Perplexity: https://www.perplexity.ai/search/as-stakeholder-being-health-te-ASfiauFcQE24mtmqHrt_Ew?8=d&utm_source=copy_output"
   ]
  },
  {
   "cell_type": "code",
   "execution_count": null,
   "id": "7Ijq8p9sJ_CQ",
   "metadata": {
    "id": "7Ijq8p9sJ_CQ"
   },
   "outputs": [],
   "source": [
    "\n",
    "# Load the dataset again since it wasn't defined in this notebook environment\n",
    "\n",
    "# Filter the dataset for Advanced and Beginner users only\n",
    "df_exp_hrr = df[df['Experience_Level'].isin(['Advanced', 'Beginner'])][['Experience_Level', 'HRR']].dropna()\n",
    "\n",
    "# Split into two groups\n",
    "advanced_hrr = df_exp_hrr[df_exp_hrr['Experience_Level'] == 'Advanced']['HRR']\n",
    "beginner_hrr = df_exp_hrr[df_exp_hrr['Experience_Level'] == 'Beginner']['HRR']\n",
    "\n",
    "# Perform Independent Samples T-Test\n",
    "from scipy.stats import ttest_ind\n",
    "t_stat, p_val = ttest_ind(advanced_hrr, beginner_hrr, equal_var=False)  # Welch's t-test\n",
    "\n",
    "# Visualization\n",
    "import seaborn as sns\n",
    "import matplotlib.pyplot as plt\n",
    "\n",
    "plt.figure(figsize=(8, 5))\n",
    "sns.boxplot(data=df_exp_hrr, x='Experience_Level', y='HRR', palette='Set2')\n",
    "plt.title('Heart Rate Recovery by Experience Level')\n",
    "plt.xlabel('Experience Level')\n",
    "plt.ylabel('Heart Rate Recovery (HRR)')\n",
    "plt.tight_layout()\n",
    "plt.grid(True, axis='y')\n",
    "plt.show()\n",
    "\n",
    "(t_stat, p_val)"
   ]
  },
  {
   "cell_type": "code",
   "execution_count": 99,
   "id": "5c61e8f6-82c4-4746-9a96-f4ecd40f5520",
   "metadata": {},
   "outputs": [
    {
     "data": {
      "image/png": "[encoded data removed]",
      "text/plain": [
       "<Figure size 800x500 with 1 Axes>"
      ]
     },
     "metadata": {},
     "output_type": "display_data"
    }
   ],
   "source": [
    "import matplotlib.pyplot as plt\n",
    "\n",
    "# Data for user counts by experience level\n",
    "experience_levels = ['Beginner', 'Intermediate', 'Advanced', 'Professional']\n",
    "user_counts = [445, 392, 512, 280]\n",
    "\n",
    "# Create bar plot\n",
    "plt.figure(figsize=(8,5))\n",
    "plt.bar(experience_levels, user_counts, color='skyblue')\n",
    "plt.xlabel('Experience Level')\n",
    "plt.ylabel('Number of Users')\n",
    "plt.title('User Count by Experience Level')\n",
    "plt.show()\n"
   ]
  },
  {
   "cell_type": "code",
   "execution_count": 101,
   "id": "fd4500b8-f6f4-4f1b-adc1-73af40745d93",
   "metadata": {},
   "outputs": [
    {
     "data": {
      "text/plain": [
       "(-0.9939209163101398, 5.9314227149526886e-09)"
      ]
     },
     "execution_count": 101,
     "metadata": {},
     "output_type": "execute_result"
    }
   ],
   "source": [
    "import pandas as pd\n",
    "import numpy as np\n",
    "from scipy.stats import spearmanr\n",
    "\n",
    "# Load the dataset (assuming the dataset is loaded as a CSV file named 'fitinsights_data.csv')\n",
    "# For demonstration, we will create a sample dataframe with BMI and Hydration_per_Kg columns\n",
    "\n",
    "# Sample data creation (replace this with actual data loading)\n",
    "data = {\n",
    "    'BMI': [22.5, 27.8, 31.2, 24.5, 29.0, 33.5, 26.1, 30.2, 28.4, 25.0],\n",
    "    'Hydration_per_Kg': [0.034, 0.031, 0.028, 0.033, 0.029, 0.027, 0.032, 0.028, 0.030, 0.033]\n",
    "}\n",
    "df = pd.DataFrame(data)\n",
    "\n",
    "# Calculate Spearman correlation between BMI and Hydration_per_Kg\n",
    "spearman_corr, p_value = spearmanr(df['BMI'], df['Hydration_per_Kg'])\n",
    "\n",
    "(spearman_corr, p_value)"
   ]
  },
  {
   "cell_type": "code",
   "execution_count": 103,
   "id": "9b89ad4e-f701-436d-99bb-170dfd85240b",
   "metadata": {},
   "outputs": [
    {
     "data": {
      "image/png": "[encoded data removed]",
      "text/plain": [
       "<Figure size 800x600 with 1 Axes>"
      ]
     },
     "metadata": {},
     "output_type": "display_data"
    }
   ],
   "source": [
    "import matplotlib.pyplot as plt\n",
    "import seaborn as sns\n",
    "import numpy as np\n",
    "import pandas as pd\n",
    "\n",
    "# Sample data based on the strong negative correlation mentioned\n",
    "# Since exact data is not provided, we simulate data to reflect the correlation\n",
    "np.random.seed(42)\n",
    "\n",
    "# Simulate BMI data (normal distribution around mean 25, std 4)\n",
    "bmi = np.random.normal(25, 4, 100)\n",
    "# Simulate Hydration per Kg inversely related to BMI with some noise\n",
    "hydration_per_kg = 0.045 - 0.0007 * bmi + np.random.normal(0, 0.002, 100)\n",
    "\n",
    "# Create DataFrame\n",
    "data = pd.DataFrame({'BMI': bmi, 'Hydration_per_Kg': hydration_per_kg})\n",
    "\n",
    "# Plot\n",
    "plt.figure(figsize=(8,6))\n",
    "sns.scatterplot(x='BMI', y='Hydration_per_Kg', data=data)\n",
    "plt.title('Scatter Plot of BMI vs Hydration per Kg')\n",
    "plt.xlabel('BMI')\n",
    "plt.ylabel('Hydration per Kg (L/kg)')\n",
    "plt.grid(True)\n",
    "plt.show()"
   ]
  },
  {
   "cell_type": "code",
   "execution_count": 109,
   "id": "01768206-ad49-451d-84b0-af2076fc7551",
   "metadata": {},
   "outputs": [
    {
     "data": {
      "image/png": "[encoded data removed]",
      "text/plain": [
       "<Figure size 800x600 with 1 Axes>"
      ]
     },
     "metadata": {},
     "output_type": "display_data"
    }
   ],
   "source": [
    "import matplotlib.pyplot as plt\n",
    "import seaborn as sns\n",
    "import numpy as np\n",
    "import pandas as pd\n",
    "\n",
    "# Simulate BMI data (normal distribution around mean 25, std 4)\n",
    "bmi = np.random.normal(25, 4, 100)\n",
    "# Simulate Fat Percentage positively correlated with BMI with some noise\n",
    "fat_percentage = 0.5 * bmi + np.random.normal(0, 2, 100)\n",
    "\n",
    "# Create DataFrame\n",
    "data = pd.DataFrame({'BMI': bmi, 'Fat_Percentage': fat_percentage})\n",
    "\n",
    "# Plot\n",
    "plt.figure(figsize=(8,6))\n",
    "sns.scatterplot(x='BMI', y='Fat_Percentage', data=data)\n",
    "plt.title('Scatter Plot of BMI vs Fat Percentage')\n",
    "plt.xlabel('BMI')\n",
    "plt.ylabel('Fat Percentage (%)')\n",
    "plt.grid(True)\n",
    "plt.show()\n"
   ]
  },
  {
   "cell_type": "code",
   "execution_count": 111,
   "id": "fe2ee8fc-90dc-4272-84b3-e03c1bb8484d",
   "metadata": {},
   "outputs": [
    {
     "data": {
      "image/png": "[encoded data removed]",
      "text/plain": [
       "<Figure size 1800x500 with 3 Axes>"
      ]
     },
     "metadata": {},
     "output_type": "display_data"
    },
    {
     "data": {
      "text/html": [
       "<div>\n",
       "<style scoped>\n",
       "    .dataframe tbody tr th:only-of-type {\n",
       "        vertical-align: middle;\n",
       "    }\n",
       "\n",
       "    .dataframe tbody tr th {\n",
       "        vertical-align: top;\n",
       "    }\n",
       "\n",
       "    .dataframe thead th {\n",
       "        text-align: right;\n",
       "    }\n",
       "</style>\n",
       "<table border=\"1\" class=\"dataframe\">\n",
       "  <thead>\n",
       "    <tr style=\"text-align: right;\">\n",
       "      <th></th>\n",
       "      <th>BMI</th>\n",
       "      <th>Fat_Percentage</th>\n",
       "      <th>Hydration_per_Kg</th>\n",
       "    </tr>\n",
       "  </thead>\n",
       "  <tbody>\n",
       "    <tr>\n",
       "      <th>BMI</th>\n",
       "      <td>1.000000</td>\n",
       "      <td>0.720186</td>\n",
       "      <td>-0.799262</td>\n",
       "    </tr>\n",
       "    <tr>\n",
       "      <th>Fat_Percentage</th>\n",
       "      <td>0.720186</td>\n",
       "      <td>1.000000</td>\n",
       "      <td>-0.627130</td>\n",
       "    </tr>\n",
       "    <tr>\n",
       "      <th>Hydration_per_Kg</th>\n",
       "      <td>-0.799262</td>\n",
       "      <td>-0.627130</td>\n",
       "      <td>1.000000</td>\n",
       "    </tr>\n",
       "  </tbody>\n",
       "</table>\n",
       "</div>"
      ],
      "text/plain": [
       "                       BMI  Fat_Percentage  Hydration_per_Kg\n",
       "BMI               1.000000        0.720186         -0.799262\n",
       "Fat_Percentage    0.720186        1.000000         -0.627130\n",
       "Hydration_per_Kg -0.799262       -0.627130          1.000000"
      ]
     },
     "execution_count": 111,
     "metadata": {},
     "output_type": "execute_result"
    }
   ],
   "source": [
    "import matplotlib.pyplot as plt\n",
    "import seaborn as sns\n",
    "import numpy as np\n",
    "import pandas as pd\n",
    "\n",
    "# Simulated data reflecting the relationships based on the summaries and correlations discussed\n",
    "np.random.seed(42)\n",
    "\n",
    "# Generate BMI data (normal distribution around mean 25, std 4)\n",
    "bmi = np.random.normal(25, 4, 200)\n",
    "\n",
    "# Generate Fat Percentage positively correlated with BMI\n",
    "fat_percentage = 0.8 * bmi + np.random.normal(0, 3, 200)  # positive correlation\n",
    "\n",
    "# Generate Hydration per Kg negatively correlated with BMI\n",
    "hydration_per_kg = 0.045 - 0.0007 * bmi + np.random.normal(0, 0.002, 200)  # negative correlation\n",
    "\n",
    "# Create DataFrame\n",
    "fitness_data = pd.DataFrame({'BMI': bmi, 'Fat_Percentage': fat_percentage, 'Hydration_per_Kg': hydration_per_kg})\n",
    "\n",
    "# Plotting\n",
    "plt.figure(figsize=(18, 5))\n",
    "\n",
    "# Scatter plot BMI vs Fat Percentage\n",
    "plt.subplot(1, 3, 1)\n",
    "sns.scatterplot(x='BMI', y='Fat_Percentage', data=fitness_data, color='blue')\n",
    "plt.title('BMI vs Fat Percentage')\n",
    "plt.xlabel('BMI')\n",
    "plt.ylabel('Fat Percentage (%)')\n",
    "\n",
    "# Scatter plot BMI vs Hydration per Kg\n",
    "plt.subplot(1, 3, 2)\n",
    "sns.scatterplot(x='BMI', y='Hydration_per_Kg', data=fitness_data, color='green')\n",
    "plt.title('BMI vs Hydration per Kg')\n",
    "plt.xlabel('BMI')\n",
    "plt.ylabel('Hydration per Kg (L/kg)')\n",
    "\n",
    "# Scatter plot Fat Percentage vs Hydration per Kg\n",
    "plt.subplot(1, 3, 3)\n",
    "sns.scatterplot(x='Fat_Percentage', y='Hydration_per_Kg', data=fitness_data, color='red')\n",
    "plt.title('Fat Percentage vs Hydration per Kg')\n",
    "plt.xlabel('Fat Percentage (%)')\n",
    "plt.ylabel('Hydration per Kg (L/kg)')\n",
    "\n",
    "plt.tight_layout()\n",
    "plt.show()\n",
    "\n",
    "# Calculate correlations\n",
    "correlations = fitness_data.corr(method='spearman')\n",
    "correlations"
   ]
  },
  {
   "cell_type": "code",
   "execution_count": null,
   "id": "a743d399-1376-4c48-993b-4151b2354db0",
   "metadata": {},
   "outputs": [],
   "source": []
  }
 ],
 "metadata": {
  "colab": {
   "provenance": []
  },
  "kernelspec": {
   "display_name": "Python [conda env:base] *",
   "language": "python",
   "name": "conda-base-py"
  },
  "language_info": {
   "codemirror_mode": {
    "name": "ipython",
    "version": 3
   },
   "file_extension": ".py",
   "mimetype": "text/x-python",
   "name": "python",
   "nbconvert_exporter": "python",
   "pygments_lexer": "ipython3",
   "version": "3.12.4"
  }
 },
 "nbformat": 4,
 "nbformat_minor": 5
}
